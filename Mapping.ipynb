{
 "cells": [
  {
   "cell_type": "code",
   "execution_count": 1,
   "metadata": {},
   "outputs": [],
   "source": [
    "import pandas as pd\n",
    "import numpy as np\n",
    "import random\n",
    "import matplotlib.pyplot as plt"
   ]
  },
  {
   "cell_type": "code",
   "execution_count": 2,
   "metadata": {},
   "outputs": [
    {
     "data": {
      "text/plain": [
       "(101, 28)"
      ]
     },
     "execution_count": 2,
     "metadata": {},
     "output_type": "execute_result"
    }
   ],
   "source": [
    "data = pd.read_csv('Age_Distance_Appended_cut.csv')\n",
    "data.shape"
   ]
  },
  {
   "cell_type": "code",
   "execution_count": 3,
   "metadata": {},
   "outputs": [],
   "source": [
    "pd.set_option('display.max_columns', 500)\n",
    "pd.set_option('display.width', 1000)\n",
    "data_long_lat=data.drop(columns=['Unnamed: 0','cargo', 'cd_situation','date_birth','descript_situation','descript_situation_cand','description_occup','education','nationality','nr_candidate','partido','round','sex_descrip','term','female','same_state','same_muni','id','age','distance_km', 'electiondate','dlati', 'dlongi','civil_status'])"
   ]
  },
  {
   "cell_type": "code",
   "execution_count": 4,
   "metadata": {
    "scrolled": true
   },
   "outputs": [
    {
     "data": {
      "text/html": [
       "<div>\n",
       "<style scoped>\n",
       "    .dataframe tbody tr th:only-of-type {\n",
       "        vertical-align: middle;\n",
       "    }\n",
       "\n",
       "    .dataframe tbody tr th {\n",
       "        vertical-align: top;\n",
       "    }\n",
       "\n",
       "    .dataframe thead th {\n",
       "        text-align: right;\n",
       "    }\n",
       "</style>\n",
       "<table border=\"1\" class=\"dataframe\">\n",
       "  <thead>\n",
       "    <tr style=\"text-align: right;\">\n",
       "      <th></th>\n",
       "      <th>lati_run</th>\n",
       "      <th>longi_run</th>\n",
       "      <th>latitude</th>\n",
       "      <th>longitude</th>\n",
       "    </tr>\n",
       "  </thead>\n",
       "  <tbody>\n",
       "    <tr>\n",
       "      <th>0</th>\n",
       "      <td>-8.761945</td>\n",
       "      <td>-63.903889</td>\n",
       "      <td>-11.968056</td>\n",
       "      <td>-61.954166</td>\n",
       "    </tr>\n",
       "    <tr>\n",
       "      <th>1</th>\n",
       "      <td>-11.968056</td>\n",
       "      <td>-61.954166</td>\n",
       "      <td>-11.968056</td>\n",
       "      <td>-61.954166</td>\n",
       "    </tr>\n",
       "    <tr>\n",
       "      <th>2</th>\n",
       "      <td>-10.294444</td>\n",
       "      <td>-63.325279</td>\n",
       "      <td>-9.913333</td>\n",
       "      <td>-63.040833</td>\n",
       "    </tr>\n",
       "    <tr>\n",
       "      <th>3</th>\n",
       "      <td>-9.913333</td>\n",
       "      <td>-63.040833</td>\n",
       "      <td>-9.913333</td>\n",
       "      <td>-63.040833</td>\n",
       "    </tr>\n",
       "    <tr>\n",
       "      <th>4</th>\n",
       "      <td>-10.525000</td>\n",
       "      <td>-62.643890</td>\n",
       "      <td>-9.913333</td>\n",
       "      <td>-63.040833</td>\n",
       "    </tr>\n",
       "    <tr>\n",
       "      <th>5</th>\n",
       "      <td>-14.454722</td>\n",
       "      <td>-56.802776</td>\n",
       "      <td>-9.913333</td>\n",
       "      <td>-63.040833</td>\n",
       "    </tr>\n",
       "    <tr>\n",
       "      <th>6</th>\n",
       "      <td>-15.563056</td>\n",
       "      <td>-39.302502</td>\n",
       "      <td>-9.913333</td>\n",
       "      <td>-63.040833</td>\n",
       "    </tr>\n",
       "    <tr>\n",
       "      <th>7</th>\n",
       "      <td>-1.446667</td>\n",
       "      <td>-45.716667</td>\n",
       "      <td>-9.913333</td>\n",
       "      <td>-63.040833</td>\n",
       "    </tr>\n",
       "    <tr>\n",
       "      <th>8</th>\n",
       "      <td>-9.913333</td>\n",
       "      <td>-63.040833</td>\n",
       "      <td>-9.913333</td>\n",
       "      <td>-63.040833</td>\n",
       "    </tr>\n",
       "    <tr>\n",
       "      <th>9</th>\n",
       "      <td>-9.913333</td>\n",
       "      <td>-63.040833</td>\n",
       "      <td>-9.913333</td>\n",
       "      <td>-63.040833</td>\n",
       "    </tr>\n",
       "    <tr>\n",
       "      <th>10</th>\n",
       "      <td>-24.065834</td>\n",
       "      <td>-53.847778</td>\n",
       "      <td>-9.913333</td>\n",
       "      <td>-63.040833</td>\n",
       "    </tr>\n",
       "    <tr>\n",
       "      <th>11</th>\n",
       "      <td>-8.809722</td>\n",
       "      <td>-63.695557</td>\n",
       "      <td>-9.913333</td>\n",
       "      <td>-63.040833</td>\n",
       "    </tr>\n",
       "    <tr>\n",
       "      <th>12</th>\n",
       "      <td>-9.443889</td>\n",
       "      <td>-61.981388</td>\n",
       "      <td>-9.913333</td>\n",
       "      <td>-63.040833</td>\n",
       "    </tr>\n",
       "    <tr>\n",
       "      <th>13</th>\n",
       "      <td>-9.913333</td>\n",
       "      <td>-63.040833</td>\n",
       "      <td>-9.913333</td>\n",
       "      <td>-63.040833</td>\n",
       "    </tr>\n",
       "    <tr>\n",
       "      <th>14</th>\n",
       "      <td>-10.339167</td>\n",
       "      <td>-62.895279</td>\n",
       "      <td>-9.913333</td>\n",
       "      <td>-63.040833</td>\n",
       "    </tr>\n",
       "    <tr>\n",
       "      <th>15</th>\n",
       "      <td>-10.339167</td>\n",
       "      <td>-62.895279</td>\n",
       "      <td>-9.913333</td>\n",
       "      <td>-63.040833</td>\n",
       "    </tr>\n",
       "    <tr>\n",
       "      <th>16</th>\n",
       "      <td>-9.913333</td>\n",
       "      <td>-63.040833</td>\n",
       "      <td>-9.913333</td>\n",
       "      <td>-63.040833</td>\n",
       "    </tr>\n",
       "    <tr>\n",
       "      <th>17</th>\n",
       "      <td>-9.705000</td>\n",
       "      <td>-62.899723</td>\n",
       "      <td>-9.913333</td>\n",
       "      <td>-63.040833</td>\n",
       "    </tr>\n",
       "    <tr>\n",
       "      <th>18</th>\n",
       "      <td>-9.913333</td>\n",
       "      <td>-63.040833</td>\n",
       "      <td>-9.913333</td>\n",
       "      <td>-63.040833</td>\n",
       "    </tr>\n",
       "    <tr>\n",
       "      <th>19</th>\n",
       "      <td>-9.713056</td>\n",
       "      <td>-63.320835</td>\n",
       "      <td>-9.913333</td>\n",
       "      <td>-63.040833</td>\n",
       "    </tr>\n",
       "    <tr>\n",
       "      <th>20</th>\n",
       "      <td>-10.294444</td>\n",
       "      <td>-63.325279</td>\n",
       "      <td>-9.913333</td>\n",
       "      <td>-63.040833</td>\n",
       "    </tr>\n",
       "    <tr>\n",
       "      <th>21</th>\n",
       "      <td>-9.705000</td>\n",
       "      <td>-62.899723</td>\n",
       "      <td>-9.913333</td>\n",
       "      <td>-63.040833</td>\n",
       "    </tr>\n",
       "    <tr>\n",
       "      <th>22</th>\n",
       "      <td>-9.713056</td>\n",
       "      <td>-63.320835</td>\n",
       "      <td>-9.913333</td>\n",
       "      <td>-63.040833</td>\n",
       "    </tr>\n",
       "    <tr>\n",
       "      <th>23</th>\n",
       "      <td>-9.913333</td>\n",
       "      <td>-63.040833</td>\n",
       "      <td>-9.913333</td>\n",
       "      <td>-63.040833</td>\n",
       "    </tr>\n",
       "    <tr>\n",
       "      <th>24</th>\n",
       "      <td>-9.362778</td>\n",
       "      <td>-62.585278</td>\n",
       "      <td>-9.913333</td>\n",
       "      <td>-63.040833</td>\n",
       "    </tr>\n",
       "    <tr>\n",
       "      <th>25</th>\n",
       "      <td>-10.339167</td>\n",
       "      <td>-62.895279</td>\n",
       "      <td>-9.913333</td>\n",
       "      <td>-63.040833</td>\n",
       "    </tr>\n",
       "    <tr>\n",
       "      <th>26</th>\n",
       "      <td>-9.713056</td>\n",
       "      <td>-63.320835</td>\n",
       "      <td>-9.913333</td>\n",
       "      <td>-63.040833</td>\n",
       "    </tr>\n",
       "    <tr>\n",
       "      <th>27</th>\n",
       "      <td>-10.294444</td>\n",
       "      <td>-63.325279</td>\n",
       "      <td>-9.913333</td>\n",
       "      <td>-63.040833</td>\n",
       "    </tr>\n",
       "    <tr>\n",
       "      <th>28</th>\n",
       "      <td>-9.705000</td>\n",
       "      <td>-62.899723</td>\n",
       "      <td>-9.913333</td>\n",
       "      <td>-63.040833</td>\n",
       "    </tr>\n",
       "    <tr>\n",
       "      <th>29</th>\n",
       "      <td>-9.913333</td>\n",
       "      <td>-63.040833</td>\n",
       "      <td>-9.913333</td>\n",
       "      <td>-63.040833</td>\n",
       "    </tr>\n",
       "    <tr>\n",
       "      <th>...</th>\n",
       "      <td>...</td>\n",
       "      <td>...</td>\n",
       "      <td>...</td>\n",
       "      <td>...</td>\n",
       "    </tr>\n",
       "    <tr>\n",
       "      <th>71</th>\n",
       "      <td>-11.803611</td>\n",
       "      <td>-61.803333</td>\n",
       "      <td>-11.438611</td>\n",
       "      <td>-61.447224</td>\n",
       "    </tr>\n",
       "    <tr>\n",
       "      <th>72</th>\n",
       "      <td>-11.438611</td>\n",
       "      <td>-61.447224</td>\n",
       "      <td>-11.438611</td>\n",
       "      <td>-61.447224</td>\n",
       "    </tr>\n",
       "    <tr>\n",
       "      <th>73</th>\n",
       "      <td>-11.175278</td>\n",
       "      <td>-61.901390</td>\n",
       "      <td>-11.438611</td>\n",
       "      <td>-61.447224</td>\n",
       "    </tr>\n",
       "    <tr>\n",
       "      <th>74</th>\n",
       "      <td>-12.552222</td>\n",
       "      <td>-60.899723</td>\n",
       "      <td>-11.438611</td>\n",
       "      <td>-61.447224</td>\n",
       "    </tr>\n",
       "    <tr>\n",
       "      <th>75</th>\n",
       "      <td>-12.196111</td>\n",
       "      <td>-61.601387</td>\n",
       "      <td>-11.438611</td>\n",
       "      <td>-61.447224</td>\n",
       "    </tr>\n",
       "    <tr>\n",
       "      <th>76</th>\n",
       "      <td>-9.913333</td>\n",
       "      <td>-63.040833</td>\n",
       "      <td>-11.438611</td>\n",
       "      <td>-61.447224</td>\n",
       "    </tr>\n",
       "    <tr>\n",
       "      <th>77</th>\n",
       "      <td>-9.362778</td>\n",
       "      <td>-62.585278</td>\n",
       "      <td>-11.438611</td>\n",
       "      <td>-61.447224</td>\n",
       "    </tr>\n",
       "    <tr>\n",
       "      <th>78</th>\n",
       "      <td>-11.438611</td>\n",
       "      <td>-61.447224</td>\n",
       "      <td>-11.438611</td>\n",
       "      <td>-61.447224</td>\n",
       "    </tr>\n",
       "    <tr>\n",
       "      <th>79</th>\n",
       "      <td>-11.438611</td>\n",
       "      <td>-61.447224</td>\n",
       "      <td>-11.438611</td>\n",
       "      <td>-61.447224</td>\n",
       "    </tr>\n",
       "    <tr>\n",
       "      <th>80</th>\n",
       "      <td>-11.438611</td>\n",
       "      <td>-61.447224</td>\n",
       "      <td>-11.438611</td>\n",
       "      <td>-61.447224</td>\n",
       "    </tr>\n",
       "    <tr>\n",
       "      <th>81</th>\n",
       "      <td>-11.908055</td>\n",
       "      <td>-61.778889</td>\n",
       "      <td>-11.438611</td>\n",
       "      <td>-61.447224</td>\n",
       "    </tr>\n",
       "    <tr>\n",
       "      <th>82</th>\n",
       "      <td>-7.197222</td>\n",
       "      <td>-59.891388</td>\n",
       "      <td>-11.438611</td>\n",
       "      <td>-61.447224</td>\n",
       "    </tr>\n",
       "    <tr>\n",
       "      <th>83</th>\n",
       "      <td>-11.693611</td>\n",
       "      <td>-62.711388</td>\n",
       "      <td>-11.438611</td>\n",
       "      <td>-61.447224</td>\n",
       "    </tr>\n",
       "    <tr>\n",
       "      <th>84</th>\n",
       "      <td>-10.401944</td>\n",
       "      <td>-65.326668</td>\n",
       "      <td>-11.438611</td>\n",
       "      <td>-61.447224</td>\n",
       "    </tr>\n",
       "    <tr>\n",
       "      <th>85</th>\n",
       "      <td>-11.902500</td>\n",
       "      <td>-61.502224</td>\n",
       "      <td>-11.438611</td>\n",
       "      <td>-61.447224</td>\n",
       "    </tr>\n",
       "    <tr>\n",
       "      <th>86</th>\n",
       "      <td>-10.525000</td>\n",
       "      <td>-62.643890</td>\n",
       "      <td>-11.438611</td>\n",
       "      <td>-61.447224</td>\n",
       "    </tr>\n",
       "    <tr>\n",
       "      <th>87</th>\n",
       "      <td>-11.908055</td>\n",
       "      <td>-61.778889</td>\n",
       "      <td>-11.438611</td>\n",
       "      <td>-61.447224</td>\n",
       "    </tr>\n",
       "    <tr>\n",
       "      <th>88</th>\n",
       "      <td>-11.798056</td>\n",
       "      <td>-63.031113</td>\n",
       "      <td>-11.438611</td>\n",
       "      <td>-61.447224</td>\n",
       "    </tr>\n",
       "    <tr>\n",
       "      <th>89</th>\n",
       "      <td>-11.798056</td>\n",
       "      <td>-63.031113</td>\n",
       "      <td>-11.438611</td>\n",
       "      <td>-61.447224</td>\n",
       "    </tr>\n",
       "    <tr>\n",
       "      <th>90</th>\n",
       "      <td>-11.438611</td>\n",
       "      <td>-61.447224</td>\n",
       "      <td>-11.438611</td>\n",
       "      <td>-61.447224</td>\n",
       "    </tr>\n",
       "    <tr>\n",
       "      <th>91</th>\n",
       "      <td>-11.719722</td>\n",
       "      <td>-62.315834</td>\n",
       "      <td>-11.438611</td>\n",
       "      <td>-61.447224</td>\n",
       "    </tr>\n",
       "    <tr>\n",
       "      <th>92</th>\n",
       "      <td>-11.798056</td>\n",
       "      <td>-63.031113</td>\n",
       "      <td>-11.438611</td>\n",
       "      <td>-61.447224</td>\n",
       "    </tr>\n",
       "    <tr>\n",
       "      <th>93</th>\n",
       "      <td>-11.696389</td>\n",
       "      <td>-61.994720</td>\n",
       "      <td>-11.438611</td>\n",
       "      <td>-61.447224</td>\n",
       "    </tr>\n",
       "    <tr>\n",
       "      <th>94</th>\n",
       "      <td>-11.798056</td>\n",
       "      <td>-63.031113</td>\n",
       "      <td>-11.438611</td>\n",
       "      <td>-61.447224</td>\n",
       "    </tr>\n",
       "    <tr>\n",
       "      <th>95</th>\n",
       "      <td>-11.798056</td>\n",
       "      <td>-63.031113</td>\n",
       "      <td>-11.438611</td>\n",
       "      <td>-61.447224</td>\n",
       "    </tr>\n",
       "    <tr>\n",
       "      <th>96</th>\n",
       "      <td>-11.902500</td>\n",
       "      <td>-61.502224</td>\n",
       "      <td>-11.438611</td>\n",
       "      <td>-61.447224</td>\n",
       "    </tr>\n",
       "    <tr>\n",
       "      <th>97</th>\n",
       "      <td>-11.438611</td>\n",
       "      <td>-61.447224</td>\n",
       "      <td>-11.438611</td>\n",
       "      <td>-61.447224</td>\n",
       "    </tr>\n",
       "    <tr>\n",
       "      <th>98</th>\n",
       "      <td>-11.798056</td>\n",
       "      <td>-63.031113</td>\n",
       "      <td>-11.438611</td>\n",
       "      <td>-61.447224</td>\n",
       "    </tr>\n",
       "    <tr>\n",
       "      <th>99</th>\n",
       "      <td>-11.438611</td>\n",
       "      <td>-61.447224</td>\n",
       "      <td>-11.438611</td>\n",
       "      <td>-61.447224</td>\n",
       "    </tr>\n",
       "    <tr>\n",
       "      <th>100</th>\n",
       "      <td>-21.714167</td>\n",
       "      <td>-52.422222</td>\n",
       "      <td>-11.438611</td>\n",
       "      <td>-61.447224</td>\n",
       "    </tr>\n",
       "  </tbody>\n",
       "</table>\n",
       "<p>101 rows × 4 columns</p>\n",
       "</div>"
      ],
      "text/plain": [
       "      lati_run  longi_run   latitude  longitude\n",
       "0    -8.761945 -63.903889 -11.968056 -61.954166\n",
       "1   -11.968056 -61.954166 -11.968056 -61.954166\n",
       "2   -10.294444 -63.325279  -9.913333 -63.040833\n",
       "3    -9.913333 -63.040833  -9.913333 -63.040833\n",
       "4   -10.525000 -62.643890  -9.913333 -63.040833\n",
       "5   -14.454722 -56.802776  -9.913333 -63.040833\n",
       "6   -15.563056 -39.302502  -9.913333 -63.040833\n",
       "7    -1.446667 -45.716667  -9.913333 -63.040833\n",
       "8    -9.913333 -63.040833  -9.913333 -63.040833\n",
       "9    -9.913333 -63.040833  -9.913333 -63.040833\n",
       "10  -24.065834 -53.847778  -9.913333 -63.040833\n",
       "11   -8.809722 -63.695557  -9.913333 -63.040833\n",
       "12   -9.443889 -61.981388  -9.913333 -63.040833\n",
       "13   -9.913333 -63.040833  -9.913333 -63.040833\n",
       "14  -10.339167 -62.895279  -9.913333 -63.040833\n",
       "15  -10.339167 -62.895279  -9.913333 -63.040833\n",
       "16   -9.913333 -63.040833  -9.913333 -63.040833\n",
       "17   -9.705000 -62.899723  -9.913333 -63.040833\n",
       "18   -9.913333 -63.040833  -9.913333 -63.040833\n",
       "19   -9.713056 -63.320835  -9.913333 -63.040833\n",
       "20  -10.294444 -63.325279  -9.913333 -63.040833\n",
       "21   -9.705000 -62.899723  -9.913333 -63.040833\n",
       "22   -9.713056 -63.320835  -9.913333 -63.040833\n",
       "23   -9.913333 -63.040833  -9.913333 -63.040833\n",
       "24   -9.362778 -62.585278  -9.913333 -63.040833\n",
       "25  -10.339167 -62.895279  -9.913333 -63.040833\n",
       "26   -9.713056 -63.320835  -9.913333 -63.040833\n",
       "27  -10.294444 -63.325279  -9.913333 -63.040833\n",
       "28   -9.705000 -62.899723  -9.913333 -63.040833\n",
       "29   -9.913333 -63.040833  -9.913333 -63.040833\n",
       "..         ...        ...        ...        ...\n",
       "71  -11.803611 -61.803333 -11.438611 -61.447224\n",
       "72  -11.438611 -61.447224 -11.438611 -61.447224\n",
       "73  -11.175278 -61.901390 -11.438611 -61.447224\n",
       "74  -12.552222 -60.899723 -11.438611 -61.447224\n",
       "75  -12.196111 -61.601387 -11.438611 -61.447224\n",
       "76   -9.913333 -63.040833 -11.438611 -61.447224\n",
       "77   -9.362778 -62.585278 -11.438611 -61.447224\n",
       "78  -11.438611 -61.447224 -11.438611 -61.447224\n",
       "79  -11.438611 -61.447224 -11.438611 -61.447224\n",
       "80  -11.438611 -61.447224 -11.438611 -61.447224\n",
       "81  -11.908055 -61.778889 -11.438611 -61.447224\n",
       "82   -7.197222 -59.891388 -11.438611 -61.447224\n",
       "83  -11.693611 -62.711388 -11.438611 -61.447224\n",
       "84  -10.401944 -65.326668 -11.438611 -61.447224\n",
       "85  -11.902500 -61.502224 -11.438611 -61.447224\n",
       "86  -10.525000 -62.643890 -11.438611 -61.447224\n",
       "87  -11.908055 -61.778889 -11.438611 -61.447224\n",
       "88  -11.798056 -63.031113 -11.438611 -61.447224\n",
       "89  -11.798056 -63.031113 -11.438611 -61.447224\n",
       "90  -11.438611 -61.447224 -11.438611 -61.447224\n",
       "91  -11.719722 -62.315834 -11.438611 -61.447224\n",
       "92  -11.798056 -63.031113 -11.438611 -61.447224\n",
       "93  -11.696389 -61.994720 -11.438611 -61.447224\n",
       "94  -11.798056 -63.031113 -11.438611 -61.447224\n",
       "95  -11.798056 -63.031113 -11.438611 -61.447224\n",
       "96  -11.902500 -61.502224 -11.438611 -61.447224\n",
       "97  -11.438611 -61.447224 -11.438611 -61.447224\n",
       "98  -11.798056 -63.031113 -11.438611 -61.447224\n",
       "99  -11.438611 -61.447224 -11.438611 -61.447224\n",
       "100 -21.714167 -52.422222 -11.438611 -61.447224\n",
       "\n",
       "[101 rows x 4 columns]"
      ]
     },
     "execution_count": 4,
     "metadata": {},
     "output_type": "execute_result"
    }
   ],
   "source": [
    "data_long_lat"
   ]
  },
  {
   "cell_type": "code",
   "execution_count": 5,
   "metadata": {},
   "outputs": [],
   "source": [
    "dest_df=data_long_lat[['lati_run','longi_run']].rename(columns={\"lati_run\": \"latitude\", \"longi_run\": \"longitude\"}).append(data_long_lat[['latitude','longitude']])"
   ]
  },
  {
   "cell_type": "code",
   "execution_count": 9,
   "metadata": {},
   "outputs": [
    {
     "data": {
      "text/html": [
       "<script type=\"text/javascript\">window.PlotlyConfig = {MathJaxConfig: 'local'};</script><script type=\"text/javascript\">if (window.MathJax) {MathJax.Hub.Config({SVG: {font: \"STIX-Web\"}});}</script><script>requirejs.config({paths: { 'plotly': ['https://cdn.plot.ly/plotly-latest.min']},});if(!window._Plotly) {require(['plotly'],function(plotly) {window._Plotly=plotly;});}</script>"
      ],
      "text/vnd.plotly.v1+html": [
       "<script type=\"text/javascript\">window.PlotlyConfig = {MathJaxConfig: 'local'};</script><script type=\"text/javascript\">if (window.MathJax) {MathJax.Hub.Config({SVG: {font: \"STIX-Web\"}});}</script><script>requirejs.config({paths: { 'plotly': ['https://cdn.plot.ly/plotly-latest.min']},});if(!window._Plotly) {require(['plotly'],function(plotly) {window._Plotly=plotly;});}</script>"
      ]
     },
     "metadata": {},
     "output_type": "display_data"
    },
    {
     "data": {
      "application/vnd.plotly.v1+json": {
       "config": {
        "linkText": "Export to plot.ly",
        "plotlyServerURL": "https://plot.ly",
        "showLink": false
       },
       "data": [
        {
         "lat": [
          -11.96805573,
          -8.761944771
         ],
         "line": {
          "color": "purple",
          "width": 1
         },
         "locationmode": "ISO-3",
         "lon": [
          -61.95416641,
          -63.903888699999996
         ],
         "mode": "lines",
         "type": "scattergeo",
         "uid": "a79d6e9e-9c3a-4e82-b190-a03d569f728c"
        },
        {
         "lat": [
          -11.96805573,
          -11.96805573
         ],
         "line": {
          "color": "purple",
          "width": 1
         },
         "locationmode": "ISO-3",
         "lon": [
          -61.95416641,
          -61.95416641
         ],
         "mode": "lines",
         "type": "scattergeo",
         "uid": "78a8012e-febc-4fe7-833c-e597576b48ca"
        },
        {
         "lat": [
          -9.913332939,
          -10.29444408
         ],
         "line": {
          "color": "purple",
          "width": 1
         },
         "locationmode": "ISO-3",
         "lon": [
          -63.04083252,
          -63.32527924
         ],
         "mode": "lines",
         "type": "scattergeo",
         "uid": "e67511f2-22f0-4db4-b7c7-595a9eadc330"
        },
        {
         "lat": [
          -9.913332939,
          -9.913332939
         ],
         "line": {
          "color": "purple",
          "width": 1
         },
         "locationmode": "ISO-3",
         "lon": [
          -63.04083252,
          -63.04083252
         ],
         "mode": "lines",
         "type": "scattergeo",
         "uid": "ffd37ad2-e48c-4c9a-8a4f-65a954e7c876"
        },
        {
         "lat": [
          -9.913332939,
          -10.52499962
         ],
         "line": {
          "color": "purple",
          "width": 1
         },
         "locationmode": "ISO-3",
         "lon": [
          -63.04083252,
          -62.64389038
         ],
         "mode": "lines",
         "type": "scattergeo",
         "uid": "1b734eb9-e39c-44c6-ac48-0c309481da13"
        },
        {
         "lat": [
          -9.913332939,
          -14.454722400000001
         ],
         "line": {
          "color": "purple",
          "width": 1
         },
         "locationmode": "ISO-3",
         "lon": [
          -63.04083252,
          -56.80277634
         ],
         "mode": "lines",
         "type": "scattergeo",
         "uid": "b283fc0d-82b3-4ca2-9b3a-8de2f7ea00dc"
        },
        {
         "lat": [
          -9.913332939,
          -15.56305599
         ],
         "line": {
          "color": "purple",
          "width": 1
         },
         "locationmode": "ISO-3",
         "lon": [
          -63.04083252,
          -39.30250168
         ],
         "mode": "lines",
         "type": "scattergeo",
         "uid": "89e3b7c4-3b74-486a-a0c3-deee8a0e55b1"
        },
        {
         "lat": [
          -9.913332939,
          -1.4466667180000001
         ],
         "line": {
          "color": "purple",
          "width": 1
         },
         "locationmode": "ISO-3",
         "lon": [
          -63.04083252,
          -45.71666718
         ],
         "mode": "lines",
         "type": "scattergeo",
         "uid": "06f5403d-3c9a-47b3-9ee5-5322a88829d6"
        },
        {
         "lat": [
          -9.913332939,
          -9.913332939
         ],
         "line": {
          "color": "purple",
          "width": 1
         },
         "locationmode": "ISO-3",
         "lon": [
          -63.04083252,
          -63.04083252
         ],
         "mode": "lines",
         "type": "scattergeo",
         "uid": "5085e232-03f8-4a52-8675-796d61e4cf43"
        },
        {
         "lat": [
          -9.913332939,
          -9.913332939
         ],
         "line": {
          "color": "purple",
          "width": 1
         },
         "locationmode": "ISO-3",
         "lon": [
          -63.04083252,
          -63.04083252
         ],
         "mode": "lines",
         "type": "scattergeo",
         "uid": "9488410b-783a-4c22-9735-47e2f6d74d0b"
        },
        {
         "lat": [
          -9.913332939,
          -24.06583405
         ],
         "line": {
          "color": "purple",
          "width": 1
         },
         "locationmode": "ISO-3",
         "lon": [
          -63.04083252,
          -53.84777832
         ],
         "mode": "lines",
         "type": "scattergeo",
         "uid": "a5875121-b47c-4957-a579-765a0e7bbb4c"
        },
        {
         "lat": [
          -9.913332939,
          -8.809721947
         ],
         "line": {
          "color": "purple",
          "width": 1
         },
         "locationmode": "ISO-3",
         "lon": [
          -63.04083252,
          -63.69555664
         ],
         "mode": "lines",
         "type": "scattergeo",
         "uid": "e8f59ecc-288c-4378-8d86-c1b1ba715b7d"
        },
        {
         "lat": [
          -9.913332939,
          -9.443888664
         ],
         "line": {
          "color": "purple",
          "width": 1
         },
         "locationmode": "ISO-3",
         "lon": [
          -63.04083252,
          -61.98138809
         ],
         "mode": "lines",
         "type": "scattergeo",
         "uid": "8fec93e5-dca4-486b-912b-f26046bf929a"
        },
        {
         "lat": [
          -9.913332939,
          -9.913332939
         ],
         "line": {
          "color": "purple",
          "width": 1
         },
         "locationmode": "ISO-3",
         "lon": [
          -63.04083252,
          -63.04083252
         ],
         "mode": "lines",
         "type": "scattergeo",
         "uid": "0d077a7e-4457-42d0-bb4f-ad3e752275b7"
        },
        {
         "lat": [
          -9.913332939,
          -10.33916664
         ],
         "line": {
          "color": "purple",
          "width": 1
         },
         "locationmode": "ISO-3",
         "lon": [
          -63.04083252,
          -62.89527893
         ],
         "mode": "lines",
         "type": "scattergeo",
         "uid": "12c49e13-25e0-47fa-ba73-d900e7d9c36a"
        },
        {
         "lat": [
          -9.913332939,
          -10.33916664
         ],
         "line": {
          "color": "purple",
          "width": 1
         },
         "locationmode": "ISO-3",
         "lon": [
          -63.04083252,
          -62.89527893
         ],
         "mode": "lines",
         "type": "scattergeo",
         "uid": "cafd2020-075c-407d-b40e-40ef08414ae9"
        },
        {
         "lat": [
          -9.913332939,
          -9.913332939
         ],
         "line": {
          "color": "purple",
          "width": 1
         },
         "locationmode": "ISO-3",
         "lon": [
          -63.04083252,
          -63.04083252
         ],
         "mode": "lines",
         "type": "scattergeo",
         "uid": "9c279e56-3eaa-4281-bc90-cccb566d7688"
        },
        {
         "lat": [
          -9.913332939,
          -9.704999924
         ],
         "line": {
          "color": "purple",
          "width": 1
         },
         "locationmode": "ISO-3",
         "lon": [
          -63.04083252,
          -62.89972305
         ],
         "mode": "lines",
         "type": "scattergeo",
         "uid": "913a56b0-ba3f-48bc-9799-cb05d4ec0ea5"
        },
        {
         "lat": [
          -9.913332939,
          -9.913332939
         ],
         "line": {
          "color": "purple",
          "width": 1
         },
         "locationmode": "ISO-3",
         "lon": [
          -63.04083252,
          -63.04083252
         ],
         "mode": "lines",
         "type": "scattergeo",
         "uid": "464d87c5-0eae-4299-89c2-4c8025988ed0"
        },
        {
         "lat": [
          -9.913332939,
          -9.713055611
         ],
         "line": {
          "color": "purple",
          "width": 1
         },
         "locationmode": "ISO-3",
         "lon": [
          -63.04083252,
          -63.32083511
         ],
         "mode": "lines",
         "type": "scattergeo",
         "uid": "38fdde0e-0221-41e7-a2bc-19dc6042c133"
        },
        {
         "lat": [
          -9.913332939,
          -10.29444408
         ],
         "line": {
          "color": "purple",
          "width": 1
         },
         "locationmode": "ISO-3",
         "lon": [
          -63.04083252,
          -63.32527924
         ],
         "mode": "lines",
         "type": "scattergeo",
         "uid": "a8f65ba2-5e32-41cf-ae2e-332cf4e229ca"
        },
        {
         "lat": [
          -9.913332939,
          -9.704999924
         ],
         "line": {
          "color": "purple",
          "width": 1
         },
         "locationmode": "ISO-3",
         "lon": [
          -63.04083252,
          -62.89972305
         ],
         "mode": "lines",
         "type": "scattergeo",
         "uid": "533c45d3-1d6d-4eb0-bce8-010a6286a839"
        },
        {
         "lat": [
          -9.913332939,
          -9.713055611
         ],
         "line": {
          "color": "purple",
          "width": 1
         },
         "locationmode": "ISO-3",
         "lon": [
          -63.04083252,
          -63.32083511
         ],
         "mode": "lines",
         "type": "scattergeo",
         "uid": "0ec2a8e9-35f5-4d73-ba01-eae5b4aaff28"
        },
        {
         "lat": [
          -9.913332939,
          -9.913332939
         ],
         "line": {
          "color": "purple",
          "width": 1
         },
         "locationmode": "ISO-3",
         "lon": [
          -63.04083252,
          -63.04083252
         ],
         "mode": "lines",
         "type": "scattergeo",
         "uid": "e2926093-b866-4fd0-9149-2fb007f63d26"
        },
        {
         "lat": [
          -9.913332939,
          -9.36277771
         ],
         "line": {
          "color": "purple",
          "width": 1
         },
         "locationmode": "ISO-3",
         "lon": [
          -63.04083252,
          -62.58527756
         ],
         "mode": "lines",
         "type": "scattergeo",
         "uid": "3f794ad8-ec62-4e44-9d92-b889f40f43fc"
        },
        {
         "lat": [
          -9.913332939,
          -10.33916664
         ],
         "line": {
          "color": "purple",
          "width": 1
         },
         "locationmode": "ISO-3",
         "lon": [
          -63.04083252,
          -62.89527893
         ],
         "mode": "lines",
         "type": "scattergeo",
         "uid": "ef0400ab-4a08-4719-8cc6-88b77ecc450a"
        },
        {
         "lat": [
          -9.913332939,
          -9.713055611
         ],
         "line": {
          "color": "purple",
          "width": 1
         },
         "locationmode": "ISO-3",
         "lon": [
          -63.04083252,
          -63.32083511
         ],
         "mode": "lines",
         "type": "scattergeo",
         "uid": "73e88263-0ee3-408a-a39b-4af2349eb0a0"
        },
        {
         "lat": [
          -9.913332939,
          -10.29444408
         ],
         "line": {
          "color": "purple",
          "width": 1
         },
         "locationmode": "ISO-3",
         "lon": [
          -63.04083252,
          -63.32527924
         ],
         "mode": "lines",
         "type": "scattergeo",
         "uid": "47c262c6-4d22-4bc6-8f21-ff964316e12e"
        },
        {
         "lat": [
          -9.913332939,
          -9.704999924
         ],
         "line": {
          "color": "purple",
          "width": 1
         },
         "locationmode": "ISO-3",
         "lon": [
          -63.04083252,
          -62.89972305
         ],
         "mode": "lines",
         "type": "scattergeo",
         "uid": "42122b63-4d27-4e9e-8f9f-600899b241f1"
        },
        {
         "lat": [
          -9.913332939,
          -9.913332939
         ],
         "line": {
          "color": "purple",
          "width": 1
         },
         "locationmode": "ISO-3",
         "lon": [
          -63.04083252,
          -63.04083252
         ],
         "mode": "lines",
         "type": "scattergeo",
         "uid": "27f95abd-dd8d-4705-82d4-489982edf9e4"
        },
        {
         "lat": [
          -9.913332939,
          -9.443888664
         ],
         "line": {
          "color": "purple",
          "width": 1
         },
         "locationmode": "ISO-3",
         "lon": [
          -63.04083252,
          -61.98138809
         ],
         "mode": "lines",
         "type": "scattergeo",
         "uid": "c896e012-1373-4d9e-906c-7486c3931066"
        },
        {
         "lat": [
          -9.913332939,
          -9.704999924
         ],
         "line": {
          "color": "purple",
          "width": 1
         },
         "locationmode": "ISO-3",
         "lon": [
          -63.04083252,
          -62.89972305
         ],
         "mode": "lines",
         "type": "scattergeo",
         "uid": "4f549296-4308-43c8-be8c-813f7d881e2f"
        },
        {
         "lat": [
          -9.913332939,
          -10.33916664
         ],
         "line": {
          "color": "purple",
          "width": 1
         },
         "locationmode": "ISO-3",
         "lon": [
          -63.04083252,
          -62.89527893
         ],
         "mode": "lines",
         "type": "scattergeo",
         "uid": "14235ef1-c848-43d3-8442-4e5f259b97f0"
        },
        {
         "lat": [
          -9.913332939,
          -10.31805515
         ],
         "line": {
          "color": "purple",
          "width": 1
         },
         "locationmode": "ISO-3",
         "lon": [
          -63.04083252,
          -58.35889053
         ],
         "mode": "lines",
         "type": "scattergeo",
         "uid": "2a69ddc5-83fe-453a-9f9f-c5cdd27f3a51"
        },
        {
         "lat": [
          -9.913332939,
          -10.33916664
         ],
         "line": {
          "color": "purple",
          "width": 1
         },
         "locationmode": "ISO-3",
         "lon": [
          -63.04083252,
          -62.89527893
         ],
         "mode": "lines",
         "type": "scattergeo",
         "uid": "af62c9d2-930e-4730-82e9-7d206b9c95a9"
        },
        {
         "lat": [
          -9.913332939,
          -10.29444408
         ],
         "line": {
          "color": "purple",
          "width": 1
         },
         "locationmode": "ISO-3",
         "lon": [
          -63.04083252,
          -63.32527924
         ],
         "mode": "lines",
         "type": "scattergeo",
         "uid": "adbbecc7-0f08-4373-8395-fc62fd570a35"
        },
        {
         "lat": [
          -9.913332939,
          -9.443888664
         ],
         "line": {
          "color": "purple",
          "width": 1
         },
         "locationmode": "ISO-3",
         "lon": [
          -63.04083252,
          -61.98138809
         ],
         "mode": "lines",
         "type": "scattergeo",
         "uid": "c74fd36c-27a0-430b-8f66-9eeb9cf9904f"
        },
        {
         "lat": [
          -9.913332939,
          -9.913332939
         ],
         "line": {
          "color": "purple",
          "width": 1
         },
         "locationmode": "ISO-3",
         "lon": [
          -63.04083252,
          -63.04083252
         ],
         "mode": "lines",
         "type": "scattergeo",
         "uid": "11589c3c-99f9-4743-aade-91c510eb5738"
        },
        {
         "lat": [
          -9.913332939,
          -9.443888664
         ],
         "line": {
          "color": "purple",
          "width": 1
         },
         "locationmode": "ISO-3",
         "lon": [
          -63.04083252,
          -61.98138809
         ],
         "mode": "lines",
         "type": "scattergeo",
         "uid": "d55be0c0-4524-4583-90f2-3b9575d2f209"
        },
        {
         "lat": [
          -9.913332939,
          1.007500052
         ],
         "line": {
          "color": "purple",
          "width": 1
         },
         "locationmode": "ISO-3",
         "lon": [
          -63.04083252,
          -60.01750183
         ],
         "mode": "lines",
         "type": "scattergeo",
         "uid": "521ecc5a-1dd7-4ebb-ae80-c0b59695d94a"
        },
        {
         "lat": [
          -9.913332939,
          -9.36277771
         ],
         "line": {
          "color": "purple",
          "width": 1
         },
         "locationmode": "ISO-3",
         "lon": [
          -63.04083252,
          -62.58527756
         ],
         "mode": "lines",
         "type": "scattergeo",
         "uid": "2c8a436c-536a-4909-8d7d-7e160d82232a"
        },
        {
         "lat": [
          -9.913332939,
          -10.33916664
         ],
         "line": {
          "color": "purple",
          "width": 1
         },
         "locationmode": "ISO-3",
         "lon": [
          -63.04083252,
          -62.89527893
         ],
         "mode": "lines",
         "type": "scattergeo",
         "uid": "76210f02-abf5-4d5f-86e5-5552b34c40f2"
        },
        {
         "lat": [
          -9.913332939,
          -8.838889122000001
         ],
         "line": {
          "color": "purple",
          "width": 1
         },
         "locationmode": "ISO-3",
         "lon": [
          -63.04083252,
          -69.25971985
         ],
         "mode": "lines",
         "type": "scattergeo",
         "uid": "e51f1bf1-bda0-4d48-aed4-41e137f5e37d"
        },
        {
         "lat": [
          -9.913332939,
          -7.147777557
         ],
         "line": {
          "color": "purple",
          "width": 1
         },
         "locationmode": "ISO-3",
         "lon": [
          -63.04083252,
          -55.38111115
         ],
         "mode": "lines",
         "type": "scattergeo",
         "uid": "015a01ff-d277-40b6-a16a-1375b5b3451e"
        },
        {
         "lat": [
          -9.913332939,
          -9.913332939
         ],
         "line": {
          "color": "purple",
          "width": 1
         },
         "locationmode": "ISO-3",
         "lon": [
          -63.04083252,
          -63.04083252
         ],
         "mode": "lines",
         "type": "scattergeo",
         "uid": "bbe5b108-7f18-4fae-a664-d652a9a5816e"
        },
        {
         "lat": [
          -9.913332939,
          -8.761944771
         ],
         "line": {
          "color": "purple",
          "width": 1
         },
         "locationmode": "ISO-3",
         "lon": [
          -63.04083252,
          -63.903888699999996
         ],
         "mode": "lines",
         "type": "scattergeo",
         "uid": "2104673b-27b7-4b2a-8bdf-edc9fa4ee5ff"
        },
        {
         "lat": [
          -9.913332939,
          -10.29444408
         ],
         "line": {
          "color": "purple",
          "width": 1
         },
         "locationmode": "ISO-3",
         "lon": [
          -63.04083252,
          -63.32527924
         ],
         "mode": "lines",
         "type": "scattergeo",
         "uid": "e851f185-00b2-45e7-9d83-83825dafba34"
        },
        {
         "lat": [
          -9.913332939,
          -9.36277771
         ],
         "line": {
          "color": "purple",
          "width": 1
         },
         "locationmode": "ISO-3",
         "lon": [
          -63.04083252,
          -62.58527756
         ],
         "mode": "lines",
         "type": "scattergeo",
         "uid": "1a10a459-8062-4b6c-b6e4-6df46d326b60"
        },
        {
         "lat": [
          -9.913332939,
          -9.36277771
         ],
         "line": {
          "color": "purple",
          "width": 1
         },
         "locationmode": "ISO-3",
         "lon": [
          -63.04083252,
          -62.58527756
         ],
         "mode": "lines",
         "type": "scattergeo",
         "uid": "35759be7-e852-46bd-968d-974a305fd5c7"
        },
        {
         "lat": [
          -13.49777794,
          -13.49777794
         ],
         "line": {
          "color": "purple",
          "width": 1
         },
         "locationmode": "ISO-3",
         "lon": [
          -60.55416489,
          -60.55416489
         ],
         "mode": "lines",
         "type": "scattergeo",
         "uid": "78238a1b-f8d2-4abd-860a-fde165ee6519"
        },
        {
         "lat": [
          -13.49777794,
          -13.49777794
         ],
         "line": {
          "color": "purple",
          "width": 1
         },
         "locationmode": "ISO-3",
         "lon": [
          -60.55416489,
          -60.55416489
         ],
         "mode": "lines",
         "type": "scattergeo",
         "uid": "70ce9c8a-cfd3-4865-a9a2-eec72e1708cf"
        },
        {
         "lat": [
          -13.49777794,
          -13.48250008
         ],
         "line": {
          "color": "purple",
          "width": 1
         },
         "locationmode": "ISO-3",
         "lon": [
          -60.55416489,
          -61.04666519
         ],
         "mode": "lines",
         "type": "scattergeo",
         "uid": "c67574e9-5445-4c87-8604-c12622bea96a"
        },
        {
         "lat": [
          -11.43861103,
          -25.44972229
         ],
         "line": {
          "color": "purple",
          "width": 1
         },
         "locationmode": "ISO-3",
         "lon": [
          -61.44722366,
          -52.90805435
         ],
         "mode": "lines",
         "type": "scattergeo",
         "uid": "2a30d8da-14d7-49d5-af56-fc9d66f7e637"
        },
        {
         "lat": [
          -11.43861103,
          -11.43861103
         ],
         "line": {
          "color": "purple",
          "width": 1
         },
         "locationmode": "ISO-3",
         "lon": [
          -61.44722366,
          -61.44722366
         ],
         "mode": "lines",
         "type": "scattergeo",
         "uid": "63b805f5-446b-42c1-a403-301dd4c0c001"
        },
        {
         "lat": [
          -11.43861103,
          -9.933610916000001
         ],
         "line": {
          "color": "purple",
          "width": 1
         },
         "locationmode": "ISO-3",
         "lon": [
          -61.44722366,
          -36.55416489
         ],
         "mode": "lines",
         "type": "scattergeo",
         "uid": "4560f605-b783-4574-aa32-670a1cd17b82"
        },
        {
         "lat": [
          -11.43861103,
          -24.1847229
         ],
         "line": {
          "color": "purple",
          "width": 1
         },
         "locationmode": "ISO-3",
         "lon": [
          -61.44722366,
          -53.02750015
         ],
         "mode": "lines",
         "type": "scattergeo",
         "uid": "47c85fe6-ee34-4340-8ad3-1cca3fea7338"
        },
        {
         "lat": [
          -11.43861103,
          -10.21166706
         ],
         "line": {
          "color": "purple",
          "width": 1
         },
         "locationmode": "ISO-3",
         "lon": [
          -61.44722366,
          -63.82860947
         ],
         "mode": "lines",
         "type": "scattergeo",
         "uid": "8e120056-8edd-4d7b-92de-f5a982ddc4c5"
        },
        {
         "lat": [
          -11.43861103,
          -12.05222225
         ],
         "line": {
          "color": "purple",
          "width": 1
         },
         "locationmode": "ISO-3",
         "lon": [
          -61.44722366,
          -63.56750107
         ],
         "mode": "lines",
         "type": "scattergeo",
         "uid": "4e385e53-05f6-451f-b67c-4b5a6b246506"
        },
        {
         "lat": [
          -11.43861103,
          -11.43861103
         ],
         "line": {
          "color": "purple",
          "width": 1
         },
         "locationmode": "ISO-3",
         "lon": [
          -61.44722366,
          -61.44722366
         ],
         "mode": "lines",
         "type": "scattergeo",
         "uid": "7d4ec404-238c-403b-a26d-f959e5d1a819"
        },
        {
         "lat": [
          -11.43861103,
          -11.524722099999998
         ],
         "line": {
          "color": "purple",
          "width": 1
         },
         "locationmode": "ISO-3",
         "lon": [
          -61.44722366,
          -61.01277924
         ],
         "mode": "lines",
         "type": "scattergeo",
         "uid": "b7ae439e-9c3a-4d82-8189-3f479f539b55"
        },
        {
         "lat": [
          -11.43861103,
          -11.41749954
         ],
         "line": {
          "color": "purple",
          "width": 1
         },
         "locationmode": "ISO-3",
         "lon": [
          -61.44722366,
          -61.93861008
         ],
         "mode": "lines",
         "type": "scattergeo",
         "uid": "447984d3-8057-412c-983e-4a63e28f406d"
        },
        {
         "lat": [
          -11.43861103,
          -11.43861103
         ],
         "line": {
          "color": "purple",
          "width": 1
         },
         "locationmode": "ISO-3",
         "lon": [
          -61.44722366,
          -61.44722366
         ],
         "mode": "lines",
         "type": "scattergeo",
         "uid": "1ee57fb2-9a09-4611-a252-6d6adf338a46"
        },
        {
         "lat": [
          -11.43861103,
          -11.90805531
         ],
         "line": {
          "color": "purple",
          "width": 1
         },
         "locationmode": "ISO-3",
         "lon": [
          -61.44722366,
          -61.778888699999996
         ],
         "mode": "lines",
         "type": "scattergeo",
         "uid": "9f0b2fc8-c4fe-4e19-966f-992a4618757a"
        },
        {
         "lat": [
          -11.43861103,
          -11.96805573
         ],
         "line": {
          "color": "purple",
          "width": 1
         },
         "locationmode": "ISO-3",
         "lon": [
          -61.44722366,
          -61.95416641
         ],
         "mode": "lines",
         "type": "scattergeo",
         "uid": "f3d2e1de-8e9f-4f60-89ba-298fbc12d0a1"
        },
        {
         "lat": [
          -11.43861103,
          -13.02583313
         ],
         "line": {
          "color": "purple",
          "width": 1
         },
         "locationmode": "ISO-3",
         "lon": [
          -61.44722366,
          -57.07389069
         ],
         "mode": "lines",
         "type": "scattergeo",
         "uid": "033cc56a-72e0-4306-ab25-3d69eac39486"
        },
        {
         "lat": [
          -11.43861103,
          -10.88527775
         ],
         "line": {
          "color": "purple",
          "width": 1
         },
         "locationmode": "ISO-3",
         "lon": [
          -61.44722366,
          -61.95166779
         ],
         "mode": "lines",
         "type": "scattergeo",
         "uid": "9f7e3252-b8b2-4633-b821-868b8e726512"
        },
        {
         "lat": [
          -11.43861103,
          -11.803610800000001
         ],
         "line": {
          "color": "purple",
          "width": 1
         },
         "locationmode": "ISO-3",
         "lon": [
          -61.44722366,
          -61.80333328
         ],
         "mode": "lines",
         "type": "scattergeo",
         "uid": "775857c6-26ef-4122-9683-ff73bf3ac6f1"
        },
        {
         "lat": [
          -11.43861103,
          -11.17527771
         ],
         "line": {
          "color": "purple",
          "width": 1
         },
         "locationmode": "ISO-3",
         "lon": [
          -61.44722366,
          -61.90139008
         ],
         "mode": "lines",
         "type": "scattergeo",
         "uid": "1816c3c0-db40-4b9b-a60c-8a878c0665e1"
        },
        {
         "lat": [
          -11.43861103,
          -11.43861103
         ],
         "line": {
          "color": "purple",
          "width": 1
         },
         "locationmode": "ISO-3",
         "lon": [
          -61.44722366,
          -61.44722366
         ],
         "mode": "lines",
         "type": "scattergeo",
         "uid": "d221f586-dc2d-4420-ab16-6905ac4955de"
        },
        {
         "lat": [
          -11.43861103,
          -11.803610800000001
         ],
         "line": {
          "color": "purple",
          "width": 1
         },
         "locationmode": "ISO-3",
         "lon": [
          -61.44722366,
          -61.80333328
         ],
         "mode": "lines",
         "type": "scattergeo",
         "uid": "db71084a-5b9c-453f-99d7-6430c0efdd1c"
        },
        {
         "lat": [
          -11.43861103,
          -11.43861103
         ],
         "line": {
          "color": "purple",
          "width": 1
         },
         "locationmode": "ISO-3",
         "lon": [
          -61.44722366,
          -61.44722366
         ],
         "mode": "lines",
         "type": "scattergeo",
         "uid": "b5ee11fb-a801-4567-b73b-0d52d32d7e88"
        },
        {
         "lat": [
          -11.43861103,
          -11.803610800000001
         ],
         "line": {
          "color": "purple",
          "width": 1
         },
         "locationmode": "ISO-3",
         "lon": [
          -61.44722366,
          -61.80333328
         ],
         "mode": "lines",
         "type": "scattergeo",
         "uid": "1899e7a8-705b-4332-94fe-f321ec02b321"
        },
        {
         "lat": [
          -11.43861103,
          -11.43861103
         ],
         "line": {
          "color": "purple",
          "width": 1
         },
         "locationmode": "ISO-3",
         "lon": [
          -61.44722366,
          -61.44722366
         ],
         "mode": "lines",
         "type": "scattergeo",
         "uid": "dfd53526-2368-441c-91f8-269e335a6627"
        },
        {
         "lat": [
          -11.43861103,
          -11.17527771
         ],
         "line": {
          "color": "purple",
          "width": 1
         },
         "locationmode": "ISO-3",
         "lon": [
          -61.44722366,
          -61.90139008
         ],
         "mode": "lines",
         "type": "scattergeo",
         "uid": "71786bb5-55bd-4c06-a5ee-ae489484de04"
        },
        {
         "lat": [
          -11.43861103,
          -12.55222225
         ],
         "line": {
          "color": "purple",
          "width": 1
         },
         "locationmode": "ISO-3",
         "lon": [
          -61.44722366,
          -60.89972305
         ],
         "mode": "lines",
         "type": "scattergeo",
         "uid": "02261ebf-0973-47b5-8235-b8802fcd2430"
        },
        {
         "lat": [
          -11.43861103,
          -12.19611073
         ],
         "line": {
          "color": "purple",
          "width": 1
         },
         "locationmode": "ISO-3",
         "lon": [
          -61.44722366,
          -61.60138702
         ],
         "mode": "lines",
         "type": "scattergeo",
         "uid": "7d2b6532-3657-49b3-84ae-0551a8211f8a"
        },
        {
         "lat": [
          -11.43861103,
          -9.913332939
         ],
         "line": {
          "color": "purple",
          "width": 1
         },
         "locationmode": "ISO-3",
         "lon": [
          -61.44722366,
          -63.04083252
         ],
         "mode": "lines",
         "type": "scattergeo",
         "uid": "4d7e864b-dd98-4c17-9a36-94281249a62c"
        },
        {
         "lat": [
          -11.43861103,
          -9.36277771
         ],
         "line": {
          "color": "purple",
          "width": 1
         },
         "locationmode": "ISO-3",
         "lon": [
          -61.44722366,
          -62.58527756
         ],
         "mode": "lines",
         "type": "scattergeo",
         "uid": "262cbc3d-33bc-4885-98d2-bcc8a86822e1"
        },
        {
         "lat": [
          -11.43861103,
          -11.43861103
         ],
         "line": {
          "color": "purple",
          "width": 1
         },
         "locationmode": "ISO-3",
         "lon": [
          -61.44722366,
          -61.44722366
         ],
         "mode": "lines",
         "type": "scattergeo",
         "uid": "772734e6-2a38-42cc-ae84-78de78ca016e"
        },
        {
         "lat": [
          -11.43861103,
          -11.43861103
         ],
         "line": {
          "color": "purple",
          "width": 1
         },
         "locationmode": "ISO-3",
         "lon": [
          -61.44722366,
          -61.44722366
         ],
         "mode": "lines",
         "type": "scattergeo",
         "uid": "65979dd9-9fd2-45c6-98a8-e52f4706fe7e"
        },
        {
         "lat": [
          -11.43861103,
          -11.43861103
         ],
         "line": {
          "color": "purple",
          "width": 1
         },
         "locationmode": "ISO-3",
         "lon": [
          -61.44722366,
          -61.44722366
         ],
         "mode": "lines",
         "type": "scattergeo",
         "uid": "dfc7f8d4-c740-445f-8ff2-db81bc5e5d1a"
        },
        {
         "lat": [
          -11.43861103,
          -11.90805531
         ],
         "line": {
          "color": "purple",
          "width": 1
         },
         "locationmode": "ISO-3",
         "lon": [
          -61.44722366,
          -61.778888699999996
         ],
         "mode": "lines",
         "type": "scattergeo",
         "uid": "d39e8ce2-735f-4876-a85e-03806082dc6d"
        },
        {
         "lat": [
          -11.43861103,
          -7.197222233
         ],
         "line": {
          "color": "purple",
          "width": 1
         },
         "locationmode": "ISO-3",
         "lon": [
          -61.44722366,
          -59.89138794
         ],
         "mode": "lines",
         "type": "scattergeo",
         "uid": "59a8c468-cdb1-4441-a982-6771258df075"
        },
        {
         "lat": [
          -11.43861103,
          -11.69361115
         ],
         "line": {
          "color": "purple",
          "width": 1
         },
         "locationmode": "ISO-3",
         "lon": [
          -61.44722366,
          -62.71138763
         ],
         "mode": "lines",
         "type": "scattergeo",
         "uid": "bcb4a3cb-85e1-40c2-8333-cc34b3bd3be8"
        },
        {
         "lat": [
          -11.43861103,
          -10.40194416
         ],
         "line": {
          "color": "purple",
          "width": 1
         },
         "locationmode": "ISO-3",
         "lon": [
          -61.44722366,
          -65.32666779
         ],
         "mode": "lines",
         "type": "scattergeo",
         "uid": "d4a9eeba-27ea-4c18-9ac0-0127db7f205e"
        },
        {
         "lat": [
          -11.43861103,
          -11.90250015
         ],
         "line": {
          "color": "purple",
          "width": 1
         },
         "locationmode": "ISO-3",
         "lon": [
          -61.44722366,
          -61.50222397
         ],
         "mode": "lines",
         "type": "scattergeo",
         "uid": "7a229f77-ce3a-4619-ad70-b837343b104f"
        },
        {
         "lat": [
          -11.43861103,
          -10.52499962
         ],
         "line": {
          "color": "purple",
          "width": 1
         },
         "locationmode": "ISO-3",
         "lon": [
          -61.44722366,
          -62.64389038
         ],
         "mode": "lines",
         "type": "scattergeo",
         "uid": "6bb2f5e3-3495-476b-8c8e-c6359cb1fcc4"
        },
        {
         "lat": [
          -11.43861103,
          -11.90805531
         ],
         "line": {
          "color": "purple",
          "width": 1
         },
         "locationmode": "ISO-3",
         "lon": [
          -61.44722366,
          -61.778888699999996
         ],
         "mode": "lines",
         "type": "scattergeo",
         "uid": "12d94fbc-a9b2-4403-a2d5-142e58094a1c"
        },
        {
         "lat": [
          -11.43861103,
          -11.79805565
         ],
         "line": {
          "color": "purple",
          "width": 1
         },
         "locationmode": "ISO-3",
         "lon": [
          -61.44722366,
          -63.03111267
         ],
         "mode": "lines",
         "type": "scattergeo",
         "uid": "40d82f6e-9bca-4f69-9ccd-e2c2d9e16e39"
        },
        {
         "lat": [
          -11.43861103,
          -11.79805565
         ],
         "line": {
          "color": "purple",
          "width": 1
         },
         "locationmode": "ISO-3",
         "lon": [
          -61.44722366,
          -63.03111267
         ],
         "mode": "lines",
         "type": "scattergeo",
         "uid": "2b14d614-84b2-4fd3-aafa-a6018f8776d8"
        },
        {
         "lat": [
          -11.43861103,
          -11.43861103
         ],
         "line": {
          "color": "purple",
          "width": 1
         },
         "locationmode": "ISO-3",
         "lon": [
          -61.44722366,
          -61.44722366
         ],
         "mode": "lines",
         "type": "scattergeo",
         "uid": "0dcace1b-05d9-49e4-81d2-69c6cefcf1ff"
        },
        {
         "lat": [
          -11.43861103,
          -11.71972179
         ],
         "line": {
          "color": "purple",
          "width": 1
         },
         "locationmode": "ISO-3",
         "lon": [
          -61.44722366,
          -62.31583405
         ],
         "mode": "lines",
         "type": "scattergeo",
         "uid": "fb086e54-12f8-43bf-aba4-6b7c3a04a003"
        },
        {
         "lat": [
          -11.43861103,
          -11.79805565
         ],
         "line": {
          "color": "purple",
          "width": 1
         },
         "locationmode": "ISO-3",
         "lon": [
          -61.44722366,
          -63.03111267
         ],
         "mode": "lines",
         "type": "scattergeo",
         "uid": "5722c79a-821f-49f6-9b39-95cfd4760692"
        },
        {
         "lat": [
          -11.43861103,
          -11.696389199999999
         ],
         "line": {
          "color": "purple",
          "width": 1
         },
         "locationmode": "ISO-3",
         "lon": [
          -61.44722366,
          -61.99472046
         ],
         "mode": "lines",
         "type": "scattergeo",
         "uid": "ca3159fb-9128-49be-aee5-4aded4def56d"
        },
        {
         "lat": [
          -11.43861103,
          -11.79805565
         ],
         "line": {
          "color": "purple",
          "width": 1
         },
         "locationmode": "ISO-3",
         "lon": [
          -61.44722366,
          -63.03111267
         ],
         "mode": "lines",
         "type": "scattergeo",
         "uid": "42d7924e-14aa-4fbd-a0a2-8f17929a218a"
        },
        {
         "lat": [
          -11.43861103,
          -11.79805565
         ],
         "line": {
          "color": "purple",
          "width": 1
         },
         "locationmode": "ISO-3",
         "lon": [
          -61.44722366,
          -63.03111267
         ],
         "mode": "lines",
         "type": "scattergeo",
         "uid": "288401be-811f-4e1e-a37f-76dfad3e51a8"
        },
        {
         "lat": [
          -11.43861103,
          -11.90250015
         ],
         "line": {
          "color": "purple",
          "width": 1
         },
         "locationmode": "ISO-3",
         "lon": [
          -61.44722366,
          -61.50222397
         ],
         "mode": "lines",
         "type": "scattergeo",
         "uid": "80f5aa87-60e7-44ae-ae9c-dcbda687c752"
        },
        {
         "lat": [
          -11.43861103,
          -11.43861103
         ],
         "line": {
          "color": "purple",
          "width": 1
         },
         "locationmode": "ISO-3",
         "lon": [
          -61.44722366,
          -61.44722366
         ],
         "mode": "lines",
         "type": "scattergeo",
         "uid": "c20195bd-8b74-40be-b1d1-31a941a1cba6"
        },
        {
         "lat": [
          -11.43861103,
          -11.79805565
         ],
         "line": {
          "color": "purple",
          "width": 1
         },
         "locationmode": "ISO-3",
         "lon": [
          -61.44722366,
          -63.03111267
         ],
         "mode": "lines",
         "type": "scattergeo",
         "uid": "997b7b93-92d8-4a1f-ae51-db9c22aa472f"
        },
        {
         "lat": [
          -11.43861103,
          -11.43861103
         ],
         "line": {
          "color": "purple",
          "width": 1
         },
         "locationmode": "ISO-3",
         "lon": [
          -61.44722366,
          -61.44722366
         ],
         "mode": "lines",
         "type": "scattergeo",
         "uid": "d6b87d00-6019-47d2-9f64-6aae0fa1e7d9"
        },
        {
         "lat": [
          -11.43861103,
          -21.71416664
         ],
         "line": {
          "color": "purple",
          "width": 1
         },
         "locationmode": "ISO-3",
         "lon": [
          -61.44722366,
          -52.42222214
         ],
         "mode": "lines",
         "type": "scattergeo",
         "uid": "9f57099e-bf9c-46ab-88d9-8bb5de882185"
        },
        {
         "lat": [
          -8.761944771,
          -11.96805573,
          -10.29444408,
          -9.913332939,
          -10.52499962,
          -14.454722400000001,
          -15.56305599,
          -1.4466667180000001,
          -9.913332939,
          -9.913332939,
          -24.06583405,
          -8.809721947,
          -9.443888664,
          -9.913332939,
          -10.33916664,
          -10.33916664,
          -9.913332939,
          -9.704999924,
          -9.913332939,
          -9.713055611,
          -10.29444408,
          -9.704999924,
          -9.713055611,
          -9.913332939,
          -9.36277771,
          -10.33916664,
          -9.713055611,
          -10.29444408,
          -9.704999924,
          -9.913332939,
          -9.443888664,
          -9.704999924,
          -10.33916664,
          -10.31805515,
          -10.33916664,
          -10.29444408,
          -9.443888664,
          -9.913332939,
          -9.443888664,
          1.007500052,
          -9.36277771,
          -10.33916664,
          -8.838889122000001,
          -7.147777557,
          -9.913332939,
          -8.761944771,
          -10.29444408,
          -9.36277771,
          -9.36277771,
          -13.49777794,
          -13.49777794,
          -13.48250008,
          -25.44972229,
          -11.43861103,
          -9.933610916000001,
          -24.1847229,
          -10.21166706,
          -12.05222225,
          -11.43861103,
          -11.524722099999998,
          -11.41749954,
          -11.43861103,
          -11.90805531,
          -11.96805573,
          -13.02583313,
          -10.88527775,
          -11.803610800000001,
          -11.17527771,
          -11.43861103,
          -11.803610800000001,
          -11.43861103,
          -11.803610800000001,
          -11.43861103,
          -11.17527771,
          -12.55222225,
          -12.19611073,
          -9.913332939,
          -9.36277771,
          -11.43861103,
          -11.43861103,
          -11.43861103,
          -11.90805531,
          -7.197222233,
          -11.69361115,
          -10.40194416,
          -11.90250015,
          -10.52499962,
          -11.90805531,
          -11.79805565,
          -11.79805565,
          -11.43861103,
          -11.71972179,
          -11.79805565,
          -11.696389199999999,
          -11.79805565,
          -11.79805565,
          -11.90250015,
          -11.43861103,
          -11.79805565,
          -11.43861103,
          -21.71416664,
          -11.96805573,
          -11.96805573,
          -9.913332939,
          -9.913332939,
          -9.913332939,
          -9.913332939,
          -9.913332939,
          -9.913332939,
          -9.913332939,
          -9.913332939,
          -9.913332939,
          -9.913332939,
          -9.913332939,
          -9.913332939,
          -9.913332939,
          -9.913332939,
          -9.913332939,
          -9.913332939,
          -9.913332939,
          -9.913332939,
          -9.913332939,
          -9.913332939,
          -9.913332939,
          -9.913332939,
          -9.913332939,
          -9.913332939,
          -9.913332939,
          -9.913332939,
          -9.913332939,
          -9.913332939,
          -9.913332939,
          -9.913332939,
          -9.913332939,
          -9.913332939,
          -9.913332939,
          -9.913332939,
          -9.913332939,
          -9.913332939,
          -9.913332939,
          -9.913332939,
          -9.913332939,
          -9.913332939,
          -9.913332939,
          -9.913332939,
          -9.913332939,
          -9.913332939,
          -9.913332939,
          -9.913332939,
          -9.913332939,
          -13.49777794,
          -13.49777794,
          -13.49777794,
          -11.43861103,
          -11.43861103,
          -11.43861103,
          -11.43861103,
          -11.43861103,
          -11.43861103,
          -11.43861103,
          -11.43861103,
          -11.43861103,
          -11.43861103,
          -11.43861103,
          -11.43861103,
          -11.43861103,
          -11.43861103,
          -11.43861103,
          -11.43861103,
          -11.43861103,
          -11.43861103,
          -11.43861103,
          -11.43861103,
          -11.43861103,
          -11.43861103,
          -11.43861103,
          -11.43861103,
          -11.43861103,
          -11.43861103,
          -11.43861103,
          -11.43861103,
          -11.43861103,
          -11.43861103,
          -11.43861103,
          -11.43861103,
          -11.43861103,
          -11.43861103,
          -11.43861103,
          -11.43861103,
          -11.43861103,
          -11.43861103,
          -11.43861103,
          -11.43861103,
          -11.43861103,
          -11.43861103,
          -11.43861103,
          -11.43861103,
          -11.43861103,
          -11.43861103,
          -11.43861103,
          -11.43861103,
          -11.43861103
         ],
         "locationmode": "ISO-3",
         "lon": [
          -63.903888699999996,
          -61.95416641,
          -63.32527924,
          -63.04083252,
          -62.64389038,
          -56.80277634,
          -39.30250168,
          -45.71666718,
          -63.04083252,
          -63.04083252,
          -53.84777832,
          -63.69555664,
          -61.98138809,
          -63.04083252,
          -62.89527893,
          -62.89527893,
          -63.04083252,
          -62.89972305,
          -63.04083252,
          -63.32083511,
          -63.32527924,
          -62.89972305,
          -63.32083511,
          -63.04083252,
          -62.58527756,
          -62.89527893,
          -63.32083511,
          -63.32527924,
          -62.89972305,
          -63.04083252,
          -61.98138809,
          -62.89972305,
          -62.89527893,
          -58.35889053,
          -62.89527893,
          -63.32527924,
          -61.98138809,
          -63.04083252,
          -61.98138809,
          -60.01750183,
          -62.58527756,
          -62.89527893,
          -69.25971985,
          -55.38111115,
          -63.04083252,
          -63.903888699999996,
          -63.32527924,
          -62.58527756,
          -62.58527756,
          -60.55416489,
          -60.55416489,
          -61.04666519,
          -52.90805435,
          -61.44722366,
          -36.55416489,
          -53.02750015,
          -63.82860947,
          -63.56750107,
          -61.44722366,
          -61.01277924,
          -61.93861008,
          -61.44722366,
          -61.778888699999996,
          -61.95416641,
          -57.07389069,
          -61.95166779,
          -61.80333328,
          -61.90139008,
          -61.44722366,
          -61.80333328,
          -61.44722366,
          -61.80333328,
          -61.44722366,
          -61.90139008,
          -60.89972305,
          -61.60138702,
          -63.04083252,
          -62.58527756,
          -61.44722366,
          -61.44722366,
          -61.44722366,
          -61.778888699999996,
          -59.89138794,
          -62.71138763,
          -65.32666779,
          -61.50222397,
          -62.64389038,
          -61.778888699999996,
          -63.03111267,
          -63.03111267,
          -61.44722366,
          -62.31583405,
          -63.03111267,
          -61.99472046,
          -63.03111267,
          -63.03111267,
          -61.50222397,
          -61.44722366,
          -63.03111267,
          -61.44722366,
          -52.42222214,
          -61.95416641,
          -61.95416641,
          -63.04083252,
          -63.04083252,
          -63.04083252,
          -63.04083252,
          -63.04083252,
          -63.04083252,
          -63.04083252,
          -63.04083252,
          -63.04083252,
          -63.04083252,
          -63.04083252,
          -63.04083252,
          -63.04083252,
          -63.04083252,
          -63.04083252,
          -63.04083252,
          -63.04083252,
          -63.04083252,
          -63.04083252,
          -63.04083252,
          -63.04083252,
          -63.04083252,
          -63.04083252,
          -63.04083252,
          -63.04083252,
          -63.04083252,
          -63.04083252,
          -63.04083252,
          -63.04083252,
          -63.04083252,
          -63.04083252,
          -63.04083252,
          -63.04083252,
          -63.04083252,
          -63.04083252,
          -63.04083252,
          -63.04083252,
          -63.04083252,
          -63.04083252,
          -63.04083252,
          -63.04083252,
          -63.04083252,
          -63.04083252,
          -63.04083252,
          -63.04083252,
          -63.04083252,
          -63.04083252,
          -60.55416489,
          -60.55416489,
          -60.55416489,
          -61.44722366,
          -61.44722366,
          -61.44722366,
          -61.44722366,
          -61.44722366,
          -61.44722366,
          -61.44722366,
          -61.44722366,
          -61.44722366,
          -61.44722366,
          -61.44722366,
          -61.44722366,
          -61.44722366,
          -61.44722366,
          -61.44722366,
          -61.44722366,
          -61.44722366,
          -61.44722366,
          -61.44722366,
          -61.44722366,
          -61.44722366,
          -61.44722366,
          -61.44722366,
          -61.44722366,
          -61.44722366,
          -61.44722366,
          -61.44722366,
          -61.44722366,
          -61.44722366,
          -61.44722366,
          -61.44722366,
          -61.44722366,
          -61.44722366,
          -61.44722366,
          -61.44722366,
          -61.44722366,
          -61.44722366,
          -61.44722366,
          -61.44722366,
          -61.44722366,
          -61.44722366,
          -61.44722366,
          -61.44722366,
          -61.44722366,
          -61.44722366,
          -61.44722366,
          -61.44722366,
          -61.44722366,
          -61.44722366
         ],
         "marker": {
          "color": "rgb(80, 0, 0)",
          "line": {
           "color": "rgba(68, 68, 68, 0)",
           "width": 3
          },
          "size": 4
         },
         "mode": "markers",
         "type": "scattergeo",
         "uid": "59c83a25-4683-4f10-a088-b68752254bf3"
        }
       ],
       "layout": {
        "geo": {
         "countrycolor": "rgb(160, 160, 204)",
         "landcolor": "rgb(120, 120, 120)",
         "projection": {
          "type": "azimuthal equal area"
         },
         "scope": "world",
         "showland": true
        },
        "showlegend": false,
        "title": {
         "text": "The Movement of Candidates on World Map"
        }
       }
      },
      "text/html": [
       "<div id=\"03885a27-4f32-4054-931e-a831e3c1d379\" style=\"height: 525px; width: 100%;\" class=\"plotly-graph-div\"></div><script type=\"text/javascript\">require([\"plotly\"], function(Plotly) { window.PLOTLYENV=window.PLOTLYENV || {};window.PLOTLYENV.BASE_URL=\"https://plot.ly\";Plotly.newPlot(\"03885a27-4f32-4054-931e-a831e3c1d379\", [{\"lat\": [-11.96805573, -8.761944771], \"line\": {\"color\": \"purple\", \"width\": 1}, \"locationmode\": \"ISO-3\", \"lon\": [-61.95416641, -63.903888699999996], \"mode\": \"lines\", \"type\": \"scattergeo\", \"uid\": \"58f59405-f56b-4145-b4e6-41e6cba30ef7\"}, {\"lat\": [-11.96805573, -11.96805573], \"line\": {\"color\": \"purple\", \"width\": 1}, \"locationmode\": \"ISO-3\", \"lon\": [-61.95416641, -61.95416641], \"mode\": \"lines\", \"type\": \"scattergeo\", \"uid\": \"cd997a2f-0c85-4e86-8508-aec398b1578f\"}, {\"lat\": [-9.913332939, -10.29444408], \"line\": {\"color\": \"purple\", \"width\": 1}, \"locationmode\": \"ISO-3\", \"lon\": [-63.04083252, -63.32527924], \"mode\": \"lines\", \"type\": \"scattergeo\", \"uid\": \"5e37602d-96ae-42f9-a180-156be733920c\"}, {\"lat\": [-9.913332939, -9.913332939], \"line\": {\"color\": \"purple\", \"width\": 1}, \"locationmode\": \"ISO-3\", \"lon\": [-63.04083252, -63.04083252], \"mode\": \"lines\", \"type\": \"scattergeo\", \"uid\": \"4ed76ef6-58e5-4cb2-ac71-6de327507d1a\"}, {\"lat\": [-9.913332939, -10.52499962], \"line\": {\"color\": \"purple\", \"width\": 1}, \"locationmode\": \"ISO-3\", \"lon\": [-63.04083252, -62.64389038], \"mode\": \"lines\", \"type\": \"scattergeo\", \"uid\": \"17f86052-3baa-44f6-a1db-79c135d2cb70\"}, {\"lat\": [-9.913332939, -14.454722400000001], \"line\": {\"color\": \"purple\", \"width\": 1}, \"locationmode\": \"ISO-3\", \"lon\": [-63.04083252, -56.80277634], \"mode\": \"lines\", \"type\": \"scattergeo\", \"uid\": \"dcf3ec84-0840-46cb-a379-ae731826efb3\"}, {\"lat\": [-9.913332939, -15.56305599], \"line\": {\"color\": \"purple\", \"width\": 1}, \"locationmode\": \"ISO-3\", \"lon\": [-63.04083252, -39.30250168], \"mode\": \"lines\", \"type\": \"scattergeo\", \"uid\": \"ace12807-b4fc-4872-a634-66a9c80fa84a\"}, {\"lat\": [-9.913332939, -1.4466667180000001], \"line\": {\"color\": \"purple\", \"width\": 1}, \"locationmode\": \"ISO-3\", \"lon\": [-63.04083252, -45.71666718], \"mode\": \"lines\", \"type\": \"scattergeo\", \"uid\": \"1d1bf086-e35f-4780-a7cc-76ae558a56db\"}, {\"lat\": [-9.913332939, -9.913332939], \"line\": {\"color\": \"purple\", \"width\": 1}, \"locationmode\": \"ISO-3\", \"lon\": [-63.04083252, -63.04083252], \"mode\": \"lines\", \"type\": \"scattergeo\", \"uid\": \"c1cbb49d-a076-4373-a44c-0f9e6eb92b29\"}, {\"lat\": [-9.913332939, -9.913332939], \"line\": {\"color\": \"purple\", \"width\": 1}, \"locationmode\": \"ISO-3\", \"lon\": [-63.04083252, -63.04083252], \"mode\": \"lines\", \"type\": \"scattergeo\", \"uid\": \"c4f9c271-86f3-4ad9-a3f1-ca58e0294cc8\"}, {\"lat\": [-9.913332939, -24.06583405], \"line\": {\"color\": \"purple\", \"width\": 1}, \"locationmode\": \"ISO-3\", \"lon\": [-63.04083252, -53.84777832], \"mode\": \"lines\", \"type\": \"scattergeo\", \"uid\": \"2ac2ade9-7a90-48fb-bafd-241fbceb381a\"}, {\"lat\": [-9.913332939, -8.809721947], \"line\": {\"color\": \"purple\", \"width\": 1}, \"locationmode\": \"ISO-3\", \"lon\": [-63.04083252, -63.69555664], \"mode\": \"lines\", \"type\": \"scattergeo\", \"uid\": \"f0da6d64-9e04-4d76-a927-e4ff04e57fb5\"}, {\"lat\": [-9.913332939, -9.443888664], \"line\": {\"color\": \"purple\", \"width\": 1}, \"locationmode\": \"ISO-3\", \"lon\": [-63.04083252, -61.98138809], \"mode\": \"lines\", \"type\": \"scattergeo\", \"uid\": \"2fbc25f1-0365-4e9a-a458-1f1ac90213b6\"}, {\"lat\": [-9.913332939, -9.913332939], \"line\": {\"color\": \"purple\", \"width\": 1}, \"locationmode\": \"ISO-3\", \"lon\": [-63.04083252, -63.04083252], \"mode\": \"lines\", \"type\": \"scattergeo\", \"uid\": \"52fdc970-e5af-4369-9b2b-f11063939c91\"}, {\"lat\": [-9.913332939, -10.33916664], \"line\": {\"color\": \"purple\", \"width\": 1}, \"locationmode\": \"ISO-3\", \"lon\": [-63.04083252, -62.89527893], \"mode\": \"lines\", \"type\": \"scattergeo\", \"uid\": \"cf0a20f7-fe5f-49bf-8b99-3d1b48b7f4ef\"}, {\"lat\": [-9.913332939, -10.33916664], \"line\": {\"color\": \"purple\", \"width\": 1}, \"locationmode\": \"ISO-3\", \"lon\": [-63.04083252, -62.89527893], \"mode\": \"lines\", \"type\": \"scattergeo\", \"uid\": \"033cbb3d-9c71-45b0-b5cb-5883a7aa84e2\"}, {\"lat\": [-9.913332939, -9.913332939], \"line\": {\"color\": \"purple\", \"width\": 1}, \"locationmode\": \"ISO-3\", \"lon\": [-63.04083252, -63.04083252], \"mode\": \"lines\", \"type\": \"scattergeo\", \"uid\": \"3cc7519d-7541-4756-9383-595362fa4915\"}, {\"lat\": [-9.913332939, -9.704999924], \"line\": {\"color\": \"purple\", \"width\": 1}, \"locationmode\": \"ISO-3\", \"lon\": [-63.04083252, -62.89972305], \"mode\": \"lines\", \"type\": \"scattergeo\", \"uid\": \"4aa96be0-a764-4f1f-bb8a-f2a9494e6aba\"}, {\"lat\": [-9.913332939, -9.913332939], \"line\": {\"color\": \"purple\", \"width\": 1}, \"locationmode\": \"ISO-3\", \"lon\": [-63.04083252, -63.04083252], \"mode\": \"lines\", \"type\": \"scattergeo\", \"uid\": \"8ef0e346-2e3e-40a9-ab89-78540899c6c2\"}, {\"lat\": [-9.913332939, -9.713055611], \"line\": {\"color\": \"purple\", \"width\": 1}, \"locationmode\": \"ISO-3\", \"lon\": [-63.04083252, -63.32083511], \"mode\": \"lines\", \"type\": \"scattergeo\", \"uid\": \"6d1c6583-be45-496e-b5b0-c61446fd1f5a\"}, {\"lat\": [-9.913332939, -10.29444408], \"line\": {\"color\": \"purple\", \"width\": 1}, \"locationmode\": \"ISO-3\", \"lon\": [-63.04083252, -63.32527924], \"mode\": \"lines\", \"type\": \"scattergeo\", \"uid\": \"e4497b0e-f23c-44f6-a841-580e43537f23\"}, {\"lat\": [-9.913332939, -9.704999924], \"line\": {\"color\": \"purple\", \"width\": 1}, \"locationmode\": \"ISO-3\", \"lon\": [-63.04083252, -62.89972305], \"mode\": \"lines\", \"type\": \"scattergeo\", \"uid\": \"f2b74a4e-bd5b-4f06-a110-a4b354f08e20\"}, {\"lat\": [-9.913332939, -9.713055611], \"line\": {\"color\": \"purple\", \"width\": 1}, \"locationmode\": \"ISO-3\", \"lon\": [-63.04083252, -63.32083511], \"mode\": \"lines\", \"type\": \"scattergeo\", \"uid\": \"2121d8c3-c00f-48d8-9da5-a2712d4a73e5\"}, {\"lat\": [-9.913332939, -9.913332939], \"line\": {\"color\": \"purple\", \"width\": 1}, \"locationmode\": \"ISO-3\", \"lon\": [-63.04083252, -63.04083252], \"mode\": \"lines\", \"type\": \"scattergeo\", \"uid\": \"29f2278f-b5c1-4c9d-8f35-3018bc38edd0\"}, {\"lat\": [-9.913332939, -9.36277771], \"line\": {\"color\": \"purple\", \"width\": 1}, \"locationmode\": \"ISO-3\", \"lon\": [-63.04083252, -62.58527756], \"mode\": \"lines\", \"type\": \"scattergeo\", \"uid\": \"bc9a8b7a-5097-446a-92df-13e598be2279\"}, {\"lat\": [-9.913332939, -10.33916664], \"line\": {\"color\": \"purple\", \"width\": 1}, \"locationmode\": \"ISO-3\", \"lon\": [-63.04083252, -62.89527893], \"mode\": \"lines\", \"type\": \"scattergeo\", \"uid\": \"7749b1e0-5cae-4801-9568-b7c2c9ac4c71\"}, {\"lat\": [-9.913332939, -9.713055611], \"line\": {\"color\": \"purple\", \"width\": 1}, \"locationmode\": \"ISO-3\", \"lon\": [-63.04083252, -63.32083511], \"mode\": \"lines\", \"type\": \"scattergeo\", \"uid\": \"7d5a5132-eef6-40f9-88e9-55ccadaef27f\"}, {\"lat\": [-9.913332939, -10.29444408], \"line\": {\"color\": \"purple\", \"width\": 1}, \"locationmode\": \"ISO-3\", \"lon\": [-63.04083252, -63.32527924], \"mode\": \"lines\", \"type\": \"scattergeo\", \"uid\": \"6d7e7a3a-58f7-4a41-807d-e6ccf7f04ddd\"}, {\"lat\": [-9.913332939, -9.704999924], \"line\": {\"color\": \"purple\", \"width\": 1}, \"locationmode\": \"ISO-3\", \"lon\": [-63.04083252, -62.89972305], \"mode\": \"lines\", \"type\": \"scattergeo\", \"uid\": \"1f19c186-0769-4268-9c9c-ba2f633c56c9\"}, {\"lat\": [-9.913332939, -9.913332939], \"line\": {\"color\": \"purple\", \"width\": 1}, \"locationmode\": \"ISO-3\", \"lon\": [-63.04083252, -63.04083252], \"mode\": \"lines\", \"type\": \"scattergeo\", \"uid\": \"e10d6c5c-2e90-4ff0-b880-541856fd4556\"}, {\"lat\": [-9.913332939, -9.443888664], \"line\": {\"color\": \"purple\", \"width\": 1}, \"locationmode\": \"ISO-3\", \"lon\": [-63.04083252, -61.98138809], \"mode\": \"lines\", \"type\": \"scattergeo\", \"uid\": \"67e5367d-30bb-4751-a869-5a2a0969a800\"}, {\"lat\": [-9.913332939, -9.704999924], \"line\": {\"color\": \"purple\", \"width\": 1}, \"locationmode\": \"ISO-3\", \"lon\": [-63.04083252, -62.89972305], \"mode\": \"lines\", \"type\": \"scattergeo\", \"uid\": \"b457ff60-f7a8-420f-bf9c-f136abcaa28f\"}, {\"lat\": [-9.913332939, -10.33916664], \"line\": {\"color\": \"purple\", \"width\": 1}, \"locationmode\": \"ISO-3\", \"lon\": [-63.04083252, -62.89527893], \"mode\": \"lines\", \"type\": \"scattergeo\", \"uid\": \"fff6ee06-f104-4b7b-96d0-99245bfba404\"}, {\"lat\": [-9.913332939, -10.31805515], \"line\": {\"color\": \"purple\", \"width\": 1}, \"locationmode\": \"ISO-3\", \"lon\": [-63.04083252, -58.35889053], \"mode\": \"lines\", \"type\": \"scattergeo\", \"uid\": \"773e8ea1-1e1f-451d-a4f1-659c56e2f9b2\"}, {\"lat\": [-9.913332939, -10.33916664], \"line\": {\"color\": \"purple\", \"width\": 1}, \"locationmode\": \"ISO-3\", \"lon\": [-63.04083252, -62.89527893], \"mode\": \"lines\", \"type\": \"scattergeo\", \"uid\": \"53ee8387-2677-4820-a939-4d0af16e0979\"}, {\"lat\": [-9.913332939, -10.29444408], \"line\": {\"color\": \"purple\", \"width\": 1}, \"locationmode\": \"ISO-3\", \"lon\": [-63.04083252, -63.32527924], \"mode\": \"lines\", \"type\": \"scattergeo\", \"uid\": \"b9740d87-7b03-4b4d-befd-e3240d5d8b0a\"}, {\"lat\": [-9.913332939, -9.443888664], \"line\": {\"color\": \"purple\", \"width\": 1}, \"locationmode\": \"ISO-3\", \"lon\": [-63.04083252, -61.98138809], \"mode\": \"lines\", \"type\": \"scattergeo\", \"uid\": \"e72e87fb-dc01-4ff9-84e7-bbd91ad31f24\"}, {\"lat\": [-9.913332939, -9.913332939], \"line\": {\"color\": \"purple\", \"width\": 1}, \"locationmode\": \"ISO-3\", \"lon\": [-63.04083252, -63.04083252], \"mode\": \"lines\", \"type\": \"scattergeo\", \"uid\": \"7b28bd2a-35fc-4504-abb7-7b837669f0f2\"}, {\"lat\": [-9.913332939, -9.443888664], \"line\": {\"color\": \"purple\", \"width\": 1}, \"locationmode\": \"ISO-3\", \"lon\": [-63.04083252, -61.98138809], \"mode\": \"lines\", \"type\": \"scattergeo\", \"uid\": \"8b840068-547e-4014-a470-a8fc9ffb247d\"}, {\"lat\": [-9.913332939, 1.007500052], \"line\": {\"color\": \"purple\", \"width\": 1}, \"locationmode\": \"ISO-3\", \"lon\": [-63.04083252, -60.01750183], \"mode\": \"lines\", \"type\": \"scattergeo\", \"uid\": \"7b06382f-a40a-4528-9ee0-ba49638ad070\"}, {\"lat\": [-9.913332939, -9.36277771], \"line\": {\"color\": \"purple\", \"width\": 1}, \"locationmode\": \"ISO-3\", \"lon\": [-63.04083252, -62.58527756], \"mode\": \"lines\", \"type\": \"scattergeo\", \"uid\": \"9960b43f-4627-4db3-9a6c-b1b396fdfc83\"}, {\"lat\": [-9.913332939, -10.33916664], \"line\": {\"color\": \"purple\", \"width\": 1}, \"locationmode\": \"ISO-3\", \"lon\": [-63.04083252, -62.89527893], \"mode\": \"lines\", \"type\": \"scattergeo\", \"uid\": \"11db1d51-a143-4bd7-b734-bdc4432dd1cc\"}, {\"lat\": [-9.913332939, -8.838889122000001], \"line\": {\"color\": \"purple\", \"width\": 1}, \"locationmode\": \"ISO-3\", \"lon\": [-63.04083252, -69.25971985], \"mode\": \"lines\", \"type\": \"scattergeo\", \"uid\": \"405bb8ce-77c7-4085-ba80-7e5625677262\"}, {\"lat\": [-9.913332939, -7.147777557], \"line\": {\"color\": \"purple\", \"width\": 1}, \"locationmode\": \"ISO-3\", \"lon\": [-63.04083252, -55.38111115], \"mode\": \"lines\", \"type\": \"scattergeo\", \"uid\": \"9cd5bc75-a363-4e18-9093-9397e7984006\"}, {\"lat\": [-9.913332939, -9.913332939], \"line\": {\"color\": \"purple\", \"width\": 1}, \"locationmode\": \"ISO-3\", \"lon\": [-63.04083252, -63.04083252], \"mode\": \"lines\", \"type\": \"scattergeo\", \"uid\": \"52688485-86c3-42e0-949c-80eaa9906a32\"}, {\"lat\": [-9.913332939, -8.761944771], \"line\": {\"color\": \"purple\", \"width\": 1}, \"locationmode\": \"ISO-3\", \"lon\": [-63.04083252, -63.903888699999996], \"mode\": \"lines\", \"type\": \"scattergeo\", \"uid\": \"cc55ec79-1e3e-40e7-a6d4-b620ece0e278\"}, {\"lat\": [-9.913332939, -10.29444408], \"line\": {\"color\": \"purple\", \"width\": 1}, \"locationmode\": \"ISO-3\", \"lon\": [-63.04083252, -63.32527924], \"mode\": \"lines\", \"type\": \"scattergeo\", \"uid\": \"2b5aefc5-5c61-47d7-830e-f375f6054c57\"}, {\"lat\": [-9.913332939, -9.36277771], \"line\": {\"color\": \"purple\", \"width\": 1}, \"locationmode\": \"ISO-3\", \"lon\": [-63.04083252, -62.58527756], \"mode\": \"lines\", \"type\": \"scattergeo\", \"uid\": \"959b364a-cf16-44ca-bc52-fa7713b3b540\"}, {\"lat\": [-9.913332939, -9.36277771], \"line\": {\"color\": \"purple\", \"width\": 1}, \"locationmode\": \"ISO-3\", \"lon\": [-63.04083252, -62.58527756], \"mode\": \"lines\", \"type\": \"scattergeo\", \"uid\": \"bb8abeff-b474-475a-8dfc-6c9a74ada32c\"}, {\"lat\": [-13.49777794, -13.49777794], \"line\": {\"color\": \"purple\", \"width\": 1}, \"locationmode\": \"ISO-3\", \"lon\": [-60.55416489, -60.55416489], \"mode\": \"lines\", \"type\": \"scattergeo\", \"uid\": \"4659c8dc-78ec-4bdc-8e66-5190acfbd485\"}, {\"lat\": [-13.49777794, -13.49777794], \"line\": {\"color\": \"purple\", \"width\": 1}, \"locationmode\": \"ISO-3\", \"lon\": [-60.55416489, -60.55416489], \"mode\": \"lines\", \"type\": \"scattergeo\", \"uid\": \"2631581f-d82d-491b-a016-8923dee7428a\"}, {\"lat\": [-13.49777794, -13.48250008], \"line\": {\"color\": \"purple\", \"width\": 1}, \"locationmode\": \"ISO-3\", \"lon\": [-60.55416489, -61.04666519], \"mode\": \"lines\", \"type\": \"scattergeo\", \"uid\": \"90024719-bc2a-4701-a5eb-b5b43613915c\"}, {\"lat\": [-11.43861103, -25.44972229], \"line\": {\"color\": \"purple\", \"width\": 1}, \"locationmode\": \"ISO-3\", \"lon\": [-61.44722366, -52.90805435], \"mode\": \"lines\", \"type\": \"scattergeo\", \"uid\": \"19482a7b-2384-4c51-bbe3-3fbdfe73ab57\"}, {\"lat\": [-11.43861103, -11.43861103], \"line\": {\"color\": \"purple\", \"width\": 1}, \"locationmode\": \"ISO-3\", \"lon\": [-61.44722366, -61.44722366], \"mode\": \"lines\", \"type\": \"scattergeo\", \"uid\": \"947725d8-d5a5-4cb8-b884-addda888b956\"}, {\"lat\": [-11.43861103, -9.933610916000001], \"line\": {\"color\": \"purple\", \"width\": 1}, \"locationmode\": \"ISO-3\", \"lon\": [-61.44722366, -36.55416489], \"mode\": \"lines\", \"type\": \"scattergeo\", \"uid\": \"eac2c2a6-7d82-4c0c-b477-5d32b815f43b\"}, {\"lat\": [-11.43861103, -24.1847229], \"line\": {\"color\": \"purple\", \"width\": 1}, \"locationmode\": \"ISO-3\", \"lon\": [-61.44722366, -53.02750015], \"mode\": \"lines\", \"type\": \"scattergeo\", \"uid\": \"6ec22944-d23e-4510-9508-198bc3e5d0a0\"}, {\"lat\": [-11.43861103, -10.21166706], \"line\": {\"color\": \"purple\", \"width\": 1}, \"locationmode\": \"ISO-3\", \"lon\": [-61.44722366, -63.82860947], \"mode\": \"lines\", \"type\": \"scattergeo\", \"uid\": \"082ebdae-9d38-42a5-b884-5734bc7e0d7b\"}, {\"lat\": [-11.43861103, -12.05222225], \"line\": {\"color\": \"purple\", \"width\": 1}, \"locationmode\": \"ISO-3\", \"lon\": [-61.44722366, -63.56750107], \"mode\": \"lines\", \"type\": \"scattergeo\", \"uid\": \"3bf2dc1d-62b1-4275-8753-fbbb3f410bae\"}, {\"lat\": [-11.43861103, -11.43861103], \"line\": {\"color\": \"purple\", \"width\": 1}, \"locationmode\": \"ISO-3\", \"lon\": [-61.44722366, -61.44722366], \"mode\": \"lines\", \"type\": \"scattergeo\", \"uid\": \"f2012698-c1d0-4bf9-8085-6fe7f52bbcd8\"}, {\"lat\": [-11.43861103, -11.524722099999998], \"line\": {\"color\": \"purple\", \"width\": 1}, \"locationmode\": \"ISO-3\", \"lon\": [-61.44722366, -61.01277924], \"mode\": \"lines\", \"type\": \"scattergeo\", \"uid\": \"83d9a191-13e7-4309-ad5c-4f8afbac6e60\"}, {\"lat\": [-11.43861103, -11.41749954], \"line\": {\"color\": \"purple\", \"width\": 1}, \"locationmode\": \"ISO-3\", \"lon\": [-61.44722366, -61.93861008], \"mode\": \"lines\", \"type\": \"scattergeo\", \"uid\": \"886915c2-3102-4860-b947-1f6b3a617d07\"}, {\"lat\": [-11.43861103, -11.43861103], \"line\": {\"color\": \"purple\", \"width\": 1}, \"locationmode\": \"ISO-3\", \"lon\": [-61.44722366, -61.44722366], \"mode\": \"lines\", \"type\": \"scattergeo\", \"uid\": \"6ca8bb16-ed0b-4b5f-8db1-af0e4e843e36\"}, {\"lat\": [-11.43861103, -11.90805531], \"line\": {\"color\": \"purple\", \"width\": 1}, \"locationmode\": \"ISO-3\", \"lon\": [-61.44722366, -61.778888699999996], \"mode\": \"lines\", \"type\": \"scattergeo\", \"uid\": \"a69703b6-a9b8-49b9-b0ed-f8231da69a2d\"}, {\"lat\": [-11.43861103, -11.96805573], \"line\": {\"color\": \"purple\", \"width\": 1}, \"locationmode\": \"ISO-3\", \"lon\": [-61.44722366, -61.95416641], \"mode\": \"lines\", \"type\": \"scattergeo\", \"uid\": \"f51cfbeb-113b-410e-aa64-d7fa2c1aa258\"}, {\"lat\": [-11.43861103, -13.02583313], \"line\": {\"color\": \"purple\", \"width\": 1}, \"locationmode\": \"ISO-3\", \"lon\": [-61.44722366, -57.07389069], \"mode\": \"lines\", \"type\": \"scattergeo\", \"uid\": \"c6b1c731-8049-40c2-94df-f4fe61fc3fc6\"}, {\"lat\": [-11.43861103, -10.88527775], \"line\": {\"color\": \"purple\", \"width\": 1}, \"locationmode\": \"ISO-3\", \"lon\": [-61.44722366, -61.95166779], \"mode\": \"lines\", \"type\": \"scattergeo\", \"uid\": \"78a5ade2-9aa9-43ce-97af-e6d35de5c2ca\"}, {\"lat\": [-11.43861103, -11.803610800000001], \"line\": {\"color\": \"purple\", \"width\": 1}, \"locationmode\": \"ISO-3\", \"lon\": [-61.44722366, -61.80333328], \"mode\": \"lines\", \"type\": \"scattergeo\", \"uid\": \"85e27ebf-1321-44c6-86ed-a6246e6cc615\"}, {\"lat\": [-11.43861103, -11.17527771], \"line\": {\"color\": \"purple\", \"width\": 1}, \"locationmode\": \"ISO-3\", \"lon\": [-61.44722366, -61.90139008], \"mode\": \"lines\", \"type\": \"scattergeo\", \"uid\": \"86fb1564-0319-4313-a26c-ed2d0582b246\"}, {\"lat\": [-11.43861103, -11.43861103], \"line\": {\"color\": \"purple\", \"width\": 1}, \"locationmode\": \"ISO-3\", \"lon\": [-61.44722366, -61.44722366], \"mode\": \"lines\", \"type\": \"scattergeo\", \"uid\": \"53e3ed23-a0d4-43e2-8c8a-b704383f1d85\"}, {\"lat\": [-11.43861103, -11.803610800000001], \"line\": {\"color\": \"purple\", \"width\": 1}, \"locationmode\": \"ISO-3\", \"lon\": [-61.44722366, -61.80333328], \"mode\": \"lines\", \"type\": \"scattergeo\", \"uid\": \"17869ecf-4831-403f-b2f0-6c68848126e0\"}, {\"lat\": [-11.43861103, -11.43861103], \"line\": {\"color\": \"purple\", \"width\": 1}, \"locationmode\": \"ISO-3\", \"lon\": [-61.44722366, -61.44722366], \"mode\": \"lines\", \"type\": \"scattergeo\", \"uid\": \"17c8c208-f166-49aa-a7aa-10e4614c3338\"}, {\"lat\": [-11.43861103, -11.803610800000001], \"line\": {\"color\": \"purple\", \"width\": 1}, \"locationmode\": \"ISO-3\", \"lon\": [-61.44722366, -61.80333328], \"mode\": \"lines\", \"type\": \"scattergeo\", \"uid\": \"f4751a18-6324-457d-b221-54de873963ab\"}, {\"lat\": [-11.43861103, -11.43861103], \"line\": {\"color\": \"purple\", \"width\": 1}, \"locationmode\": \"ISO-3\", \"lon\": [-61.44722366, -61.44722366], \"mode\": \"lines\", \"type\": \"scattergeo\", \"uid\": \"f40d072c-8051-4b19-b7a6-b99f81dbf369\"}, {\"lat\": [-11.43861103, -11.17527771], \"line\": {\"color\": \"purple\", \"width\": 1}, \"locationmode\": \"ISO-3\", \"lon\": [-61.44722366, -61.90139008], \"mode\": \"lines\", \"type\": \"scattergeo\", \"uid\": \"d3e40a1f-249f-4e8b-9166-2928843cf884\"}, {\"lat\": [-11.43861103, -12.55222225], \"line\": {\"color\": \"purple\", \"width\": 1}, \"locationmode\": \"ISO-3\", \"lon\": [-61.44722366, -60.89972305], \"mode\": \"lines\", \"type\": \"scattergeo\", \"uid\": \"32d3d505-5599-4196-b3da-320432638df9\"}, {\"lat\": [-11.43861103, -12.19611073], \"line\": {\"color\": \"purple\", \"width\": 1}, \"locationmode\": \"ISO-3\", \"lon\": [-61.44722366, -61.60138702], \"mode\": \"lines\", \"type\": \"scattergeo\", \"uid\": \"5b5cef25-e255-451a-b9d0-c6ba523b528a\"}, {\"lat\": [-11.43861103, -9.913332939], \"line\": {\"color\": \"purple\", \"width\": 1}, \"locationmode\": \"ISO-3\", \"lon\": [-61.44722366, -63.04083252], \"mode\": \"lines\", \"type\": \"scattergeo\", \"uid\": \"d7499691-6334-46ae-bf34-d871bfd8b7d6\"}, {\"lat\": [-11.43861103, -9.36277771], \"line\": {\"color\": \"purple\", \"width\": 1}, \"locationmode\": \"ISO-3\", \"lon\": [-61.44722366, -62.58527756], \"mode\": \"lines\", \"type\": \"scattergeo\", \"uid\": \"a072009a-287f-4d35-b548-7044af6957eb\"}, {\"lat\": [-11.43861103, -11.43861103], \"line\": {\"color\": \"purple\", \"width\": 1}, \"locationmode\": \"ISO-3\", \"lon\": [-61.44722366, -61.44722366], \"mode\": \"lines\", \"type\": \"scattergeo\", \"uid\": \"c3e64106-ad95-4e59-ae95-394b8b5cd20d\"}, {\"lat\": [-11.43861103, -11.43861103], \"line\": {\"color\": \"purple\", \"width\": 1}, \"locationmode\": \"ISO-3\", \"lon\": [-61.44722366, -61.44722366], \"mode\": \"lines\", \"type\": \"scattergeo\", \"uid\": \"70c297c1-6eda-412a-aed2-d40e4464bf8d\"}, {\"lat\": [-11.43861103, -11.43861103], \"line\": {\"color\": \"purple\", \"width\": 1}, \"locationmode\": \"ISO-3\", \"lon\": [-61.44722366, -61.44722366], \"mode\": \"lines\", \"type\": \"scattergeo\", \"uid\": \"9c901726-6160-4b88-9d12-7b64dc5afefe\"}, {\"lat\": [-11.43861103, -11.90805531], \"line\": {\"color\": \"purple\", \"width\": 1}, \"locationmode\": \"ISO-3\", \"lon\": [-61.44722366, -61.778888699999996], \"mode\": \"lines\", \"type\": \"scattergeo\", \"uid\": \"0d2ecff0-5baf-47b2-9847-9fb8e81bed3a\"}, {\"lat\": [-11.43861103, -7.197222233], \"line\": {\"color\": \"purple\", \"width\": 1}, \"locationmode\": \"ISO-3\", \"lon\": [-61.44722366, -59.89138794], \"mode\": \"lines\", \"type\": \"scattergeo\", \"uid\": \"7d3842d7-b5ac-438e-9cbe-465e808a4dba\"}, {\"lat\": [-11.43861103, -11.69361115], \"line\": {\"color\": \"purple\", \"width\": 1}, \"locationmode\": \"ISO-3\", \"lon\": [-61.44722366, -62.71138763], \"mode\": \"lines\", \"type\": \"scattergeo\", \"uid\": \"6d422c1b-b288-44e3-a083-756d0327347a\"}, {\"lat\": [-11.43861103, -10.40194416], \"line\": {\"color\": \"purple\", \"width\": 1}, \"locationmode\": \"ISO-3\", \"lon\": [-61.44722366, -65.32666779], \"mode\": \"lines\", \"type\": \"scattergeo\", \"uid\": \"c3aef084-b157-487c-8d56-bf44b92dfa66\"}, {\"lat\": [-11.43861103, -11.90250015], \"line\": {\"color\": \"purple\", \"width\": 1}, \"locationmode\": \"ISO-3\", \"lon\": [-61.44722366, -61.50222397], \"mode\": \"lines\", \"type\": \"scattergeo\", \"uid\": \"75769891-6b33-4249-9761-58b18e9c2d0f\"}, {\"lat\": [-11.43861103, -10.52499962], \"line\": {\"color\": \"purple\", \"width\": 1}, \"locationmode\": \"ISO-3\", \"lon\": [-61.44722366, -62.64389038], \"mode\": \"lines\", \"type\": \"scattergeo\", \"uid\": \"6668ff78-dbbc-4038-9cee-7f726c14d307\"}, {\"lat\": [-11.43861103, -11.90805531], \"line\": {\"color\": \"purple\", \"width\": 1}, \"locationmode\": \"ISO-3\", \"lon\": [-61.44722366, -61.778888699999996], \"mode\": \"lines\", \"type\": \"scattergeo\", \"uid\": \"be124b3b-e6c3-4d4e-8fc3-e9d79858ad92\"}, {\"lat\": [-11.43861103, -11.79805565], \"line\": {\"color\": \"purple\", \"width\": 1}, \"locationmode\": \"ISO-3\", \"lon\": [-61.44722366, -63.03111267], \"mode\": \"lines\", \"type\": \"scattergeo\", \"uid\": \"894520fb-68e3-4aef-8694-2136484ee8e7\"}, {\"lat\": [-11.43861103, -11.79805565], \"line\": {\"color\": \"purple\", \"width\": 1}, \"locationmode\": \"ISO-3\", \"lon\": [-61.44722366, -63.03111267], \"mode\": \"lines\", \"type\": \"scattergeo\", \"uid\": \"d01503e7-90f7-4a91-acbf-f5bf983093de\"}, {\"lat\": [-11.43861103, -11.43861103], \"line\": {\"color\": \"purple\", \"width\": 1}, \"locationmode\": \"ISO-3\", \"lon\": [-61.44722366, -61.44722366], \"mode\": \"lines\", \"type\": \"scattergeo\", \"uid\": \"dc3370dd-7cd6-4969-ba70-91481fe3fd58\"}, {\"lat\": [-11.43861103, -11.71972179], \"line\": {\"color\": \"purple\", \"width\": 1}, \"locationmode\": \"ISO-3\", \"lon\": [-61.44722366, -62.31583405], \"mode\": \"lines\", \"type\": \"scattergeo\", \"uid\": \"77270e58-a66a-4311-a528-05cf40ca6036\"}, {\"lat\": [-11.43861103, -11.79805565], \"line\": {\"color\": \"purple\", \"width\": 1}, \"locationmode\": \"ISO-3\", \"lon\": [-61.44722366, -63.03111267], \"mode\": \"lines\", \"type\": \"scattergeo\", \"uid\": \"c8deea38-53e2-4a41-8ac9-4cb1099e1c3c\"}, {\"lat\": [-11.43861103, -11.696389199999999], \"line\": {\"color\": \"purple\", \"width\": 1}, \"locationmode\": \"ISO-3\", \"lon\": [-61.44722366, -61.99472046], \"mode\": \"lines\", \"type\": \"scattergeo\", \"uid\": \"6d13b009-9584-4db9-95f4-270acbf9f12e\"}, {\"lat\": [-11.43861103, -11.79805565], \"line\": {\"color\": \"purple\", \"width\": 1}, \"locationmode\": \"ISO-3\", \"lon\": [-61.44722366, -63.03111267], \"mode\": \"lines\", \"type\": \"scattergeo\", \"uid\": \"8ba325ef-8b03-4c60-be95-ec8a49a0eebe\"}, {\"lat\": [-11.43861103, -11.79805565], \"line\": {\"color\": \"purple\", \"width\": 1}, \"locationmode\": \"ISO-3\", \"lon\": [-61.44722366, -63.03111267], \"mode\": \"lines\", \"type\": \"scattergeo\", \"uid\": \"e4e0c3f6-1239-4fd6-8333-df51a2ce63ce\"}, {\"lat\": [-11.43861103, -11.90250015], \"line\": {\"color\": \"purple\", \"width\": 1}, \"locationmode\": \"ISO-3\", \"lon\": [-61.44722366, -61.50222397], \"mode\": \"lines\", \"type\": \"scattergeo\", \"uid\": \"7bb54c13-4bc0-4003-adfd-04ba4ffc21b9\"}, {\"lat\": [-11.43861103, -11.43861103], \"line\": {\"color\": \"purple\", \"width\": 1}, \"locationmode\": \"ISO-3\", \"lon\": [-61.44722366, -61.44722366], \"mode\": \"lines\", \"type\": \"scattergeo\", \"uid\": \"5eb8c1a3-3d46-4bc1-8a34-8f6f0ea3cd3e\"}, {\"lat\": [-11.43861103, -11.79805565], \"line\": {\"color\": \"purple\", \"width\": 1}, \"locationmode\": \"ISO-3\", \"lon\": [-61.44722366, -63.03111267], \"mode\": \"lines\", \"type\": \"scattergeo\", \"uid\": \"6ae1cab3-7d81-46c2-837f-df20d0a7ed57\"}, {\"lat\": [-11.43861103, -11.43861103], \"line\": {\"color\": \"purple\", \"width\": 1}, \"locationmode\": \"ISO-3\", \"lon\": [-61.44722366, -61.44722366], \"mode\": \"lines\", \"type\": \"scattergeo\", \"uid\": \"0679a0c5-7438-4b83-b1f5-9f3cc0f3dc92\"}, {\"lat\": [-11.43861103, -21.71416664], \"line\": {\"color\": \"purple\", \"width\": 1}, \"locationmode\": \"ISO-3\", \"lon\": [-61.44722366, -52.42222214], \"mode\": \"lines\", \"type\": \"scattergeo\", \"uid\": \"1ef2e101-143d-43db-b001-a3841a75379d\"}, {\"lat\": [-8.761944771, -11.96805573, -10.29444408, -9.913332939, -10.52499962, -14.454722400000001, -15.56305599, -1.4466667180000001, -9.913332939, -9.913332939, -24.06583405, -8.809721947, -9.443888664, -9.913332939, -10.33916664, -10.33916664, -9.913332939, -9.704999924, -9.913332939, -9.713055611, -10.29444408, -9.704999924, -9.713055611, -9.913332939, -9.36277771, -10.33916664, -9.713055611, -10.29444408, -9.704999924, -9.913332939, -9.443888664, -9.704999924, -10.33916664, -10.31805515, -10.33916664, -10.29444408, -9.443888664, -9.913332939, -9.443888664, 1.007500052, -9.36277771, -10.33916664, -8.838889122000001, -7.147777557, -9.913332939, -8.761944771, -10.29444408, -9.36277771, -9.36277771, -13.49777794, -13.49777794, -13.48250008, -25.44972229, -11.43861103, -9.933610916000001, -24.1847229, -10.21166706, -12.05222225, -11.43861103, -11.524722099999998, -11.41749954, -11.43861103, -11.90805531, -11.96805573, -13.02583313, -10.88527775, -11.803610800000001, -11.17527771, -11.43861103, -11.803610800000001, -11.43861103, -11.803610800000001, -11.43861103, -11.17527771, -12.55222225, -12.19611073, -9.913332939, -9.36277771, -11.43861103, -11.43861103, -11.43861103, -11.90805531, -7.197222233, -11.69361115, -10.40194416, -11.90250015, -10.52499962, -11.90805531, -11.79805565, -11.79805565, -11.43861103, -11.71972179, -11.79805565, -11.696389199999999, -11.79805565, -11.79805565, -11.90250015, -11.43861103, -11.79805565, -11.43861103, -21.71416664, -11.96805573, -11.96805573, -9.913332939, -9.913332939, -9.913332939, -9.913332939, -9.913332939, -9.913332939, -9.913332939, -9.913332939, -9.913332939, -9.913332939, -9.913332939, -9.913332939, -9.913332939, -9.913332939, -9.913332939, -9.913332939, -9.913332939, -9.913332939, -9.913332939, -9.913332939, -9.913332939, -9.913332939, -9.913332939, -9.913332939, -9.913332939, -9.913332939, -9.913332939, -9.913332939, -9.913332939, -9.913332939, -9.913332939, -9.913332939, -9.913332939, -9.913332939, -9.913332939, -9.913332939, -9.913332939, -9.913332939, -9.913332939, -9.913332939, -9.913332939, -9.913332939, -9.913332939, -9.913332939, -9.913332939, -9.913332939, -9.913332939, -13.49777794, -13.49777794, -13.49777794, -11.43861103, -11.43861103, -11.43861103, -11.43861103, -11.43861103, -11.43861103, -11.43861103, -11.43861103, -11.43861103, -11.43861103, -11.43861103, -11.43861103, -11.43861103, -11.43861103, -11.43861103, -11.43861103, -11.43861103, -11.43861103, -11.43861103, -11.43861103, -11.43861103, -11.43861103, -11.43861103, -11.43861103, -11.43861103, -11.43861103, -11.43861103, -11.43861103, -11.43861103, -11.43861103, -11.43861103, -11.43861103, -11.43861103, -11.43861103, -11.43861103, -11.43861103, -11.43861103, -11.43861103, -11.43861103, -11.43861103, -11.43861103, -11.43861103, -11.43861103, -11.43861103, -11.43861103, -11.43861103, -11.43861103, -11.43861103, -11.43861103], \"locationmode\": \"ISO-3\", \"lon\": [-63.903888699999996, -61.95416641, -63.32527924, -63.04083252, -62.64389038, -56.80277634, -39.30250168, -45.71666718, -63.04083252, -63.04083252, -53.84777832, -63.69555664, -61.98138809, -63.04083252, -62.89527893, -62.89527893, -63.04083252, -62.89972305, -63.04083252, -63.32083511, -63.32527924, -62.89972305, -63.32083511, -63.04083252, -62.58527756, -62.89527893, -63.32083511, -63.32527924, -62.89972305, -63.04083252, -61.98138809, -62.89972305, -62.89527893, -58.35889053, -62.89527893, -63.32527924, -61.98138809, -63.04083252, -61.98138809, -60.01750183, -62.58527756, -62.89527893, -69.25971985, -55.38111115, -63.04083252, -63.903888699999996, -63.32527924, -62.58527756, -62.58527756, -60.55416489, -60.55416489, -61.04666519, -52.90805435, -61.44722366, -36.55416489, -53.02750015, -63.82860947, -63.56750107, -61.44722366, -61.01277924, -61.93861008, -61.44722366, -61.778888699999996, -61.95416641, -57.07389069, -61.95166779, -61.80333328, -61.90139008, -61.44722366, -61.80333328, -61.44722366, -61.80333328, -61.44722366, -61.90139008, -60.89972305, -61.60138702, -63.04083252, -62.58527756, -61.44722366, -61.44722366, -61.44722366, -61.778888699999996, -59.89138794, -62.71138763, -65.32666779, -61.50222397, -62.64389038, -61.778888699999996, -63.03111267, -63.03111267, -61.44722366, -62.31583405, -63.03111267, -61.99472046, -63.03111267, -63.03111267, -61.50222397, -61.44722366, -63.03111267, -61.44722366, -52.42222214, -61.95416641, -61.95416641, -63.04083252, -63.04083252, -63.04083252, -63.04083252, -63.04083252, -63.04083252, -63.04083252, -63.04083252, -63.04083252, -63.04083252, -63.04083252, -63.04083252, -63.04083252, -63.04083252, -63.04083252, -63.04083252, -63.04083252, -63.04083252, -63.04083252, -63.04083252, -63.04083252, -63.04083252, -63.04083252, -63.04083252, -63.04083252, -63.04083252, -63.04083252, -63.04083252, -63.04083252, -63.04083252, -63.04083252, -63.04083252, -63.04083252, -63.04083252, -63.04083252, -63.04083252, -63.04083252, -63.04083252, -63.04083252, -63.04083252, -63.04083252, -63.04083252, -63.04083252, -63.04083252, -63.04083252, -63.04083252, -63.04083252, -60.55416489, -60.55416489, -60.55416489, -61.44722366, -61.44722366, -61.44722366, -61.44722366, -61.44722366, -61.44722366, -61.44722366, -61.44722366, -61.44722366, -61.44722366, -61.44722366, -61.44722366, -61.44722366, -61.44722366, -61.44722366, -61.44722366, -61.44722366, -61.44722366, -61.44722366, -61.44722366, -61.44722366, -61.44722366, -61.44722366, -61.44722366, -61.44722366, -61.44722366, -61.44722366, -61.44722366, -61.44722366, -61.44722366, -61.44722366, -61.44722366, -61.44722366, -61.44722366, -61.44722366, -61.44722366, -61.44722366, -61.44722366, -61.44722366, -61.44722366, -61.44722366, -61.44722366, -61.44722366, -61.44722366, -61.44722366, -61.44722366, -61.44722366, -61.44722366, -61.44722366], \"marker\": {\"color\": \"rgb(80, 0, 0)\", \"line\": {\"color\": \"rgba(68, 68, 68, 0)\", \"width\": 3}, \"size\": 4}, \"mode\": \"markers\", \"type\": \"scattergeo\", \"uid\": \"41f35bb9-78c2-47ee-9e1b-b7995d301ef1\"}], {\"geo\": {\"countrycolor\": \"rgb(160, 160, 204)\", \"landcolor\": \"rgb(120, 120, 120)\", \"projection\": {\"type\": \"azimuthal equal area\"}, \"scope\": \"world\", \"showland\": true}, \"showlegend\": false, \"title\": {\"text\": \"The Movement of Candidates on World Map\"}}, {\"showLink\": false, \"linkText\": \"Export to plot.ly\", \"plotlyServerURL\": \"https://plot.ly\"})});</script><script type=\"text/javascript\">window.addEventListener(\"resize\", function(){window._Plotly.Plots.resize(document.getElementById(\"03885a27-4f32-4054-931e-a831e3c1d379\"));});</script>"
      ],
      "text/vnd.plotly.v1+html": [
       "<div id=\"03885a27-4f32-4054-931e-a831e3c1d379\" style=\"height: 525px; width: 100%;\" class=\"plotly-graph-div\"></div><script type=\"text/javascript\">require([\"plotly\"], function(Plotly) { window.PLOTLYENV=window.PLOTLYENV || {};window.PLOTLYENV.BASE_URL=\"https://plot.ly\";Plotly.newPlot(\"03885a27-4f32-4054-931e-a831e3c1d379\", [{\"lat\": [-11.96805573, -8.761944771], \"line\": {\"color\": \"purple\", \"width\": 1}, \"locationmode\": \"ISO-3\", \"lon\": [-61.95416641, -63.903888699999996], \"mode\": \"lines\", \"type\": \"scattergeo\", \"uid\": \"58f59405-f56b-4145-b4e6-41e6cba30ef7\"}, {\"lat\": [-11.96805573, -11.96805573], \"line\": {\"color\": \"purple\", \"width\": 1}, \"locationmode\": \"ISO-3\", \"lon\": [-61.95416641, -61.95416641], \"mode\": \"lines\", \"type\": \"scattergeo\", \"uid\": \"cd997a2f-0c85-4e86-8508-aec398b1578f\"}, {\"lat\": [-9.913332939, -10.29444408], \"line\": {\"color\": \"purple\", \"width\": 1}, \"locationmode\": \"ISO-3\", \"lon\": [-63.04083252, -63.32527924], \"mode\": \"lines\", \"type\": \"scattergeo\", \"uid\": \"5e37602d-96ae-42f9-a180-156be733920c\"}, {\"lat\": [-9.913332939, -9.913332939], \"line\": {\"color\": \"purple\", \"width\": 1}, \"locationmode\": \"ISO-3\", \"lon\": [-63.04083252, -63.04083252], \"mode\": \"lines\", \"type\": \"scattergeo\", \"uid\": \"4ed76ef6-58e5-4cb2-ac71-6de327507d1a\"}, {\"lat\": [-9.913332939, -10.52499962], \"line\": {\"color\": \"purple\", \"width\": 1}, \"locationmode\": \"ISO-3\", \"lon\": [-63.04083252, -62.64389038], \"mode\": \"lines\", \"type\": \"scattergeo\", \"uid\": \"17f86052-3baa-44f6-a1db-79c135d2cb70\"}, {\"lat\": [-9.913332939, -14.454722400000001], \"line\": {\"color\": \"purple\", \"width\": 1}, \"locationmode\": \"ISO-3\", \"lon\": [-63.04083252, -56.80277634], \"mode\": \"lines\", \"type\": \"scattergeo\", \"uid\": \"dcf3ec84-0840-46cb-a379-ae731826efb3\"}, {\"lat\": [-9.913332939, -15.56305599], \"line\": {\"color\": \"purple\", \"width\": 1}, \"locationmode\": \"ISO-3\", \"lon\": [-63.04083252, -39.30250168], \"mode\": \"lines\", \"type\": \"scattergeo\", \"uid\": \"ace12807-b4fc-4872-a634-66a9c80fa84a\"}, {\"lat\": [-9.913332939, -1.4466667180000001], \"line\": {\"color\": \"purple\", \"width\": 1}, \"locationmode\": \"ISO-3\", \"lon\": [-63.04083252, -45.71666718], \"mode\": \"lines\", \"type\": \"scattergeo\", \"uid\": \"1d1bf086-e35f-4780-a7cc-76ae558a56db\"}, {\"lat\": [-9.913332939, -9.913332939], \"line\": {\"color\": \"purple\", \"width\": 1}, \"locationmode\": \"ISO-3\", \"lon\": [-63.04083252, -63.04083252], \"mode\": \"lines\", \"type\": \"scattergeo\", \"uid\": \"c1cbb49d-a076-4373-a44c-0f9e6eb92b29\"}, {\"lat\": [-9.913332939, -9.913332939], \"line\": {\"color\": \"purple\", \"width\": 1}, \"locationmode\": \"ISO-3\", \"lon\": [-63.04083252, -63.04083252], \"mode\": \"lines\", \"type\": \"scattergeo\", \"uid\": \"c4f9c271-86f3-4ad9-a3f1-ca58e0294cc8\"}, {\"lat\": [-9.913332939, -24.06583405], \"line\": {\"color\": \"purple\", \"width\": 1}, \"locationmode\": \"ISO-3\", \"lon\": [-63.04083252, -53.84777832], \"mode\": \"lines\", \"type\": \"scattergeo\", \"uid\": \"2ac2ade9-7a90-48fb-bafd-241fbceb381a\"}, {\"lat\": [-9.913332939, -8.809721947], \"line\": {\"color\": \"purple\", \"width\": 1}, \"locationmode\": \"ISO-3\", \"lon\": [-63.04083252, -63.69555664], \"mode\": \"lines\", \"type\": \"scattergeo\", \"uid\": \"f0da6d64-9e04-4d76-a927-e4ff04e57fb5\"}, {\"lat\": [-9.913332939, -9.443888664], \"line\": {\"color\": \"purple\", \"width\": 1}, \"locationmode\": \"ISO-3\", \"lon\": [-63.04083252, -61.98138809], \"mode\": \"lines\", \"type\": \"scattergeo\", \"uid\": \"2fbc25f1-0365-4e9a-a458-1f1ac90213b6\"}, {\"lat\": [-9.913332939, -9.913332939], \"line\": {\"color\": \"purple\", \"width\": 1}, \"locationmode\": \"ISO-3\", \"lon\": [-63.04083252, -63.04083252], \"mode\": \"lines\", \"type\": \"scattergeo\", \"uid\": \"52fdc970-e5af-4369-9b2b-f11063939c91\"}, {\"lat\": [-9.913332939, -10.33916664], \"line\": {\"color\": \"purple\", \"width\": 1}, \"locationmode\": \"ISO-3\", \"lon\": [-63.04083252, -62.89527893], \"mode\": \"lines\", \"type\": \"scattergeo\", \"uid\": \"cf0a20f7-fe5f-49bf-8b99-3d1b48b7f4ef\"}, {\"lat\": [-9.913332939, -10.33916664], \"line\": {\"color\": \"purple\", \"width\": 1}, \"locationmode\": \"ISO-3\", \"lon\": [-63.04083252, -62.89527893], \"mode\": \"lines\", \"type\": \"scattergeo\", \"uid\": \"033cbb3d-9c71-45b0-b5cb-5883a7aa84e2\"}, {\"lat\": [-9.913332939, -9.913332939], \"line\": {\"color\": \"purple\", \"width\": 1}, \"locationmode\": \"ISO-3\", \"lon\": [-63.04083252, -63.04083252], \"mode\": \"lines\", \"type\": \"scattergeo\", \"uid\": \"3cc7519d-7541-4756-9383-595362fa4915\"}, {\"lat\": [-9.913332939, -9.704999924], \"line\": {\"color\": \"purple\", \"width\": 1}, \"locationmode\": \"ISO-3\", \"lon\": [-63.04083252, -62.89972305], \"mode\": \"lines\", \"type\": \"scattergeo\", \"uid\": \"4aa96be0-a764-4f1f-bb8a-f2a9494e6aba\"}, {\"lat\": [-9.913332939, -9.913332939], \"line\": {\"color\": \"purple\", \"width\": 1}, \"locationmode\": \"ISO-3\", \"lon\": [-63.04083252, -63.04083252], \"mode\": \"lines\", \"type\": \"scattergeo\", \"uid\": \"8ef0e346-2e3e-40a9-ab89-78540899c6c2\"}, {\"lat\": [-9.913332939, -9.713055611], \"line\": {\"color\": \"purple\", \"width\": 1}, \"locationmode\": \"ISO-3\", \"lon\": [-63.04083252, -63.32083511], \"mode\": \"lines\", \"type\": \"scattergeo\", \"uid\": \"6d1c6583-be45-496e-b5b0-c61446fd1f5a\"}, {\"lat\": [-9.913332939, -10.29444408], \"line\": {\"color\": \"purple\", \"width\": 1}, \"locationmode\": \"ISO-3\", \"lon\": [-63.04083252, -63.32527924], \"mode\": \"lines\", \"type\": \"scattergeo\", \"uid\": \"e4497b0e-f23c-44f6-a841-580e43537f23\"}, {\"lat\": [-9.913332939, -9.704999924], \"line\": {\"color\": \"purple\", \"width\": 1}, \"locationmode\": \"ISO-3\", \"lon\": [-63.04083252, -62.89972305], \"mode\": \"lines\", \"type\": \"scattergeo\", \"uid\": \"f2b74a4e-bd5b-4f06-a110-a4b354f08e20\"}, {\"lat\": [-9.913332939, -9.713055611], \"line\": {\"color\": \"purple\", \"width\": 1}, \"locationmode\": \"ISO-3\", \"lon\": [-63.04083252, -63.32083511], \"mode\": \"lines\", \"type\": \"scattergeo\", \"uid\": \"2121d8c3-c00f-48d8-9da5-a2712d4a73e5\"}, {\"lat\": [-9.913332939, -9.913332939], \"line\": {\"color\": \"purple\", \"width\": 1}, \"locationmode\": \"ISO-3\", \"lon\": [-63.04083252, -63.04083252], \"mode\": \"lines\", \"type\": \"scattergeo\", \"uid\": \"29f2278f-b5c1-4c9d-8f35-3018bc38edd0\"}, {\"lat\": [-9.913332939, -9.36277771], \"line\": {\"color\": \"purple\", \"width\": 1}, \"locationmode\": \"ISO-3\", \"lon\": [-63.04083252, -62.58527756], \"mode\": \"lines\", \"type\": \"scattergeo\", \"uid\": \"bc9a8b7a-5097-446a-92df-13e598be2279\"}, {\"lat\": [-9.913332939, -10.33916664], \"line\": {\"color\": \"purple\", \"width\": 1}, \"locationmode\": \"ISO-3\", \"lon\": [-63.04083252, -62.89527893], \"mode\": \"lines\", \"type\": \"scattergeo\", \"uid\": \"7749b1e0-5cae-4801-9568-b7c2c9ac4c71\"}, {\"lat\": [-9.913332939, -9.713055611], \"line\": {\"color\": \"purple\", \"width\": 1}, \"locationmode\": \"ISO-3\", \"lon\": [-63.04083252, -63.32083511], \"mode\": \"lines\", \"type\": \"scattergeo\", \"uid\": \"7d5a5132-eef6-40f9-88e9-55ccadaef27f\"}, {\"lat\": [-9.913332939, -10.29444408], \"line\": {\"color\": \"purple\", \"width\": 1}, \"locationmode\": \"ISO-3\", \"lon\": [-63.04083252, -63.32527924], \"mode\": \"lines\", \"type\": \"scattergeo\", \"uid\": \"6d7e7a3a-58f7-4a41-807d-e6ccf7f04ddd\"}, {\"lat\": [-9.913332939, -9.704999924], \"line\": {\"color\": \"purple\", \"width\": 1}, \"locationmode\": \"ISO-3\", \"lon\": [-63.04083252, -62.89972305], \"mode\": \"lines\", \"type\": \"scattergeo\", \"uid\": \"1f19c186-0769-4268-9c9c-ba2f633c56c9\"}, {\"lat\": [-9.913332939, -9.913332939], \"line\": {\"color\": \"purple\", \"width\": 1}, \"locationmode\": \"ISO-3\", \"lon\": [-63.04083252, -63.04083252], \"mode\": \"lines\", \"type\": \"scattergeo\", \"uid\": \"e10d6c5c-2e90-4ff0-b880-541856fd4556\"}, {\"lat\": [-9.913332939, -9.443888664], \"line\": {\"color\": \"purple\", \"width\": 1}, \"locationmode\": \"ISO-3\", \"lon\": [-63.04083252, -61.98138809], \"mode\": \"lines\", \"type\": \"scattergeo\", \"uid\": \"67e5367d-30bb-4751-a869-5a2a0969a800\"}, {\"lat\": [-9.913332939, -9.704999924], \"line\": {\"color\": \"purple\", \"width\": 1}, \"locationmode\": \"ISO-3\", \"lon\": [-63.04083252, -62.89972305], \"mode\": \"lines\", \"type\": \"scattergeo\", \"uid\": \"b457ff60-f7a8-420f-bf9c-f136abcaa28f\"}, {\"lat\": [-9.913332939, -10.33916664], \"line\": {\"color\": \"purple\", \"width\": 1}, \"locationmode\": \"ISO-3\", \"lon\": [-63.04083252, -62.89527893], \"mode\": \"lines\", \"type\": \"scattergeo\", \"uid\": \"fff6ee06-f104-4b7b-96d0-99245bfba404\"}, {\"lat\": [-9.913332939, -10.31805515], \"line\": {\"color\": \"purple\", \"width\": 1}, \"locationmode\": \"ISO-3\", \"lon\": [-63.04083252, -58.35889053], \"mode\": \"lines\", \"type\": \"scattergeo\", \"uid\": \"773e8ea1-1e1f-451d-a4f1-659c56e2f9b2\"}, {\"lat\": [-9.913332939, -10.33916664], \"line\": {\"color\": \"purple\", \"width\": 1}, \"locationmode\": \"ISO-3\", \"lon\": [-63.04083252, -62.89527893], \"mode\": \"lines\", \"type\": \"scattergeo\", \"uid\": \"53ee8387-2677-4820-a939-4d0af16e0979\"}, {\"lat\": [-9.913332939, -10.29444408], \"line\": {\"color\": \"purple\", \"width\": 1}, \"locationmode\": \"ISO-3\", \"lon\": [-63.04083252, -63.32527924], \"mode\": \"lines\", \"type\": \"scattergeo\", \"uid\": \"b9740d87-7b03-4b4d-befd-e3240d5d8b0a\"}, {\"lat\": [-9.913332939, -9.443888664], \"line\": {\"color\": \"purple\", \"width\": 1}, \"locationmode\": \"ISO-3\", \"lon\": [-63.04083252, -61.98138809], \"mode\": \"lines\", \"type\": \"scattergeo\", \"uid\": \"e72e87fb-dc01-4ff9-84e7-bbd91ad31f24\"}, {\"lat\": [-9.913332939, -9.913332939], \"line\": {\"color\": \"purple\", \"width\": 1}, \"locationmode\": \"ISO-3\", \"lon\": [-63.04083252, -63.04083252], \"mode\": \"lines\", \"type\": \"scattergeo\", \"uid\": \"7b28bd2a-35fc-4504-abb7-7b837669f0f2\"}, {\"lat\": [-9.913332939, -9.443888664], \"line\": {\"color\": \"purple\", \"width\": 1}, \"locationmode\": \"ISO-3\", \"lon\": [-63.04083252, -61.98138809], \"mode\": \"lines\", \"type\": \"scattergeo\", \"uid\": \"8b840068-547e-4014-a470-a8fc9ffb247d\"}, {\"lat\": [-9.913332939, 1.007500052], \"line\": {\"color\": \"purple\", \"width\": 1}, \"locationmode\": \"ISO-3\", \"lon\": [-63.04083252, -60.01750183], \"mode\": \"lines\", \"type\": \"scattergeo\", \"uid\": \"7b06382f-a40a-4528-9ee0-ba49638ad070\"}, {\"lat\": [-9.913332939, -9.36277771], \"line\": {\"color\": \"purple\", \"width\": 1}, \"locationmode\": \"ISO-3\", \"lon\": [-63.04083252, -62.58527756], \"mode\": \"lines\", \"type\": \"scattergeo\", \"uid\": \"9960b43f-4627-4db3-9a6c-b1b396fdfc83\"}, {\"lat\": [-9.913332939, -10.33916664], \"line\": {\"color\": \"purple\", \"width\": 1}, \"locationmode\": \"ISO-3\", \"lon\": [-63.04083252, -62.89527893], \"mode\": \"lines\", \"type\": \"scattergeo\", \"uid\": \"11db1d51-a143-4bd7-b734-bdc4432dd1cc\"}, {\"lat\": [-9.913332939, -8.838889122000001], \"line\": {\"color\": \"purple\", \"width\": 1}, \"locationmode\": \"ISO-3\", \"lon\": [-63.04083252, -69.25971985], \"mode\": \"lines\", \"type\": \"scattergeo\", \"uid\": \"405bb8ce-77c7-4085-ba80-7e5625677262\"}, {\"lat\": [-9.913332939, -7.147777557], \"line\": {\"color\": \"purple\", \"width\": 1}, \"locationmode\": \"ISO-3\", \"lon\": [-63.04083252, -55.38111115], \"mode\": \"lines\", \"type\": \"scattergeo\", \"uid\": \"9cd5bc75-a363-4e18-9093-9397e7984006\"}, {\"lat\": [-9.913332939, -9.913332939], \"line\": {\"color\": \"purple\", \"width\": 1}, \"locationmode\": \"ISO-3\", \"lon\": [-63.04083252, -63.04083252], \"mode\": \"lines\", \"type\": \"scattergeo\", \"uid\": \"52688485-86c3-42e0-949c-80eaa9906a32\"}, {\"lat\": [-9.913332939, -8.761944771], \"line\": {\"color\": \"purple\", \"width\": 1}, \"locationmode\": \"ISO-3\", \"lon\": [-63.04083252, -63.903888699999996], \"mode\": \"lines\", \"type\": \"scattergeo\", \"uid\": \"cc55ec79-1e3e-40e7-a6d4-b620ece0e278\"}, {\"lat\": [-9.913332939, -10.29444408], \"line\": {\"color\": \"purple\", \"width\": 1}, \"locationmode\": \"ISO-3\", \"lon\": [-63.04083252, -63.32527924], \"mode\": \"lines\", \"type\": \"scattergeo\", \"uid\": \"2b5aefc5-5c61-47d7-830e-f375f6054c57\"}, {\"lat\": [-9.913332939, -9.36277771], \"line\": {\"color\": \"purple\", \"width\": 1}, \"locationmode\": \"ISO-3\", \"lon\": [-63.04083252, -62.58527756], \"mode\": \"lines\", \"type\": \"scattergeo\", \"uid\": \"959b364a-cf16-44ca-bc52-fa7713b3b540\"}, {\"lat\": [-9.913332939, -9.36277771], \"line\": {\"color\": \"purple\", \"width\": 1}, \"locationmode\": \"ISO-3\", \"lon\": [-63.04083252, -62.58527756], \"mode\": \"lines\", \"type\": \"scattergeo\", \"uid\": \"bb8abeff-b474-475a-8dfc-6c9a74ada32c\"}, {\"lat\": [-13.49777794, -13.49777794], \"line\": {\"color\": \"purple\", \"width\": 1}, \"locationmode\": \"ISO-3\", \"lon\": [-60.55416489, -60.55416489], \"mode\": \"lines\", \"type\": \"scattergeo\", \"uid\": \"4659c8dc-78ec-4bdc-8e66-5190acfbd485\"}, {\"lat\": [-13.49777794, -13.49777794], \"line\": {\"color\": \"purple\", \"width\": 1}, \"locationmode\": \"ISO-3\", \"lon\": [-60.55416489, -60.55416489], \"mode\": \"lines\", \"type\": \"scattergeo\", \"uid\": \"2631581f-d82d-491b-a016-8923dee7428a\"}, {\"lat\": [-13.49777794, -13.48250008], \"line\": {\"color\": \"purple\", \"width\": 1}, \"locationmode\": \"ISO-3\", \"lon\": [-60.55416489, -61.04666519], \"mode\": \"lines\", \"type\": \"scattergeo\", \"uid\": \"90024719-bc2a-4701-a5eb-b5b43613915c\"}, {\"lat\": [-11.43861103, -25.44972229], \"line\": {\"color\": \"purple\", \"width\": 1}, \"locationmode\": \"ISO-3\", \"lon\": [-61.44722366, -52.90805435], \"mode\": \"lines\", \"type\": \"scattergeo\", \"uid\": \"19482a7b-2384-4c51-bbe3-3fbdfe73ab57\"}, {\"lat\": [-11.43861103, -11.43861103], \"line\": {\"color\": \"purple\", \"width\": 1}, \"locationmode\": \"ISO-3\", \"lon\": [-61.44722366, -61.44722366], \"mode\": \"lines\", \"type\": \"scattergeo\", \"uid\": \"947725d8-d5a5-4cb8-b884-addda888b956\"}, {\"lat\": [-11.43861103, -9.933610916000001], \"line\": {\"color\": \"purple\", \"width\": 1}, \"locationmode\": \"ISO-3\", \"lon\": [-61.44722366, -36.55416489], \"mode\": \"lines\", \"type\": \"scattergeo\", \"uid\": \"eac2c2a6-7d82-4c0c-b477-5d32b815f43b\"}, {\"lat\": [-11.43861103, -24.1847229], \"line\": {\"color\": \"purple\", \"width\": 1}, \"locationmode\": \"ISO-3\", \"lon\": [-61.44722366, -53.02750015], \"mode\": \"lines\", \"type\": \"scattergeo\", \"uid\": \"6ec22944-d23e-4510-9508-198bc3e5d0a0\"}, {\"lat\": [-11.43861103, -10.21166706], \"line\": {\"color\": \"purple\", \"width\": 1}, \"locationmode\": \"ISO-3\", \"lon\": [-61.44722366, -63.82860947], \"mode\": \"lines\", \"type\": \"scattergeo\", \"uid\": \"082ebdae-9d38-42a5-b884-5734bc7e0d7b\"}, {\"lat\": [-11.43861103, -12.05222225], \"line\": {\"color\": \"purple\", \"width\": 1}, \"locationmode\": \"ISO-3\", \"lon\": [-61.44722366, -63.56750107], \"mode\": \"lines\", \"type\": \"scattergeo\", \"uid\": \"3bf2dc1d-62b1-4275-8753-fbbb3f410bae\"}, {\"lat\": [-11.43861103, -11.43861103], \"line\": {\"color\": \"purple\", \"width\": 1}, \"locationmode\": \"ISO-3\", \"lon\": [-61.44722366, -61.44722366], \"mode\": \"lines\", \"type\": \"scattergeo\", \"uid\": \"f2012698-c1d0-4bf9-8085-6fe7f52bbcd8\"}, {\"lat\": [-11.43861103, -11.524722099999998], \"line\": {\"color\": \"purple\", \"width\": 1}, \"locationmode\": \"ISO-3\", \"lon\": [-61.44722366, -61.01277924], \"mode\": \"lines\", \"type\": \"scattergeo\", \"uid\": \"83d9a191-13e7-4309-ad5c-4f8afbac6e60\"}, {\"lat\": [-11.43861103, -11.41749954], \"line\": {\"color\": \"purple\", \"width\": 1}, \"locationmode\": \"ISO-3\", \"lon\": [-61.44722366, -61.93861008], \"mode\": \"lines\", \"type\": \"scattergeo\", \"uid\": \"886915c2-3102-4860-b947-1f6b3a617d07\"}, {\"lat\": [-11.43861103, -11.43861103], \"line\": {\"color\": \"purple\", \"width\": 1}, \"locationmode\": \"ISO-3\", \"lon\": [-61.44722366, -61.44722366], \"mode\": \"lines\", \"type\": \"scattergeo\", \"uid\": \"6ca8bb16-ed0b-4b5f-8db1-af0e4e843e36\"}, {\"lat\": [-11.43861103, -11.90805531], \"line\": {\"color\": \"purple\", \"width\": 1}, \"locationmode\": \"ISO-3\", \"lon\": [-61.44722366, -61.778888699999996], \"mode\": \"lines\", \"type\": \"scattergeo\", \"uid\": \"a69703b6-a9b8-49b9-b0ed-f8231da69a2d\"}, {\"lat\": [-11.43861103, -11.96805573], \"line\": {\"color\": \"purple\", \"width\": 1}, \"locationmode\": \"ISO-3\", \"lon\": [-61.44722366, -61.95416641], \"mode\": \"lines\", \"type\": \"scattergeo\", \"uid\": \"f51cfbeb-113b-410e-aa64-d7fa2c1aa258\"}, {\"lat\": [-11.43861103, -13.02583313], \"line\": {\"color\": \"purple\", \"width\": 1}, \"locationmode\": \"ISO-3\", \"lon\": [-61.44722366, -57.07389069], \"mode\": \"lines\", \"type\": \"scattergeo\", \"uid\": \"c6b1c731-8049-40c2-94df-f4fe61fc3fc6\"}, {\"lat\": [-11.43861103, -10.88527775], \"line\": {\"color\": \"purple\", \"width\": 1}, \"locationmode\": \"ISO-3\", \"lon\": [-61.44722366, -61.95166779], \"mode\": \"lines\", \"type\": \"scattergeo\", \"uid\": \"78a5ade2-9aa9-43ce-97af-e6d35de5c2ca\"}, {\"lat\": [-11.43861103, -11.803610800000001], \"line\": {\"color\": \"purple\", \"width\": 1}, \"locationmode\": \"ISO-3\", \"lon\": [-61.44722366, -61.80333328], \"mode\": \"lines\", \"type\": \"scattergeo\", \"uid\": \"85e27ebf-1321-44c6-86ed-a6246e6cc615\"}, {\"lat\": [-11.43861103, -11.17527771], \"line\": {\"color\": \"purple\", \"width\": 1}, \"locationmode\": \"ISO-3\", \"lon\": [-61.44722366, -61.90139008], \"mode\": \"lines\", \"type\": \"scattergeo\", \"uid\": \"86fb1564-0319-4313-a26c-ed2d0582b246\"}, {\"lat\": [-11.43861103, -11.43861103], \"line\": {\"color\": \"purple\", \"width\": 1}, \"locationmode\": \"ISO-3\", \"lon\": [-61.44722366, -61.44722366], \"mode\": \"lines\", \"type\": \"scattergeo\", \"uid\": \"53e3ed23-a0d4-43e2-8c8a-b704383f1d85\"}, {\"lat\": [-11.43861103, -11.803610800000001], \"line\": {\"color\": \"purple\", \"width\": 1}, \"locationmode\": \"ISO-3\", \"lon\": [-61.44722366, -61.80333328], \"mode\": \"lines\", \"type\": \"scattergeo\", \"uid\": \"17869ecf-4831-403f-b2f0-6c68848126e0\"}, {\"lat\": [-11.43861103, -11.43861103], \"line\": {\"color\": \"purple\", \"width\": 1}, \"locationmode\": \"ISO-3\", \"lon\": [-61.44722366, -61.44722366], \"mode\": \"lines\", \"type\": \"scattergeo\", \"uid\": \"17c8c208-f166-49aa-a7aa-10e4614c3338\"}, {\"lat\": [-11.43861103, -11.803610800000001], \"line\": {\"color\": \"purple\", \"width\": 1}, \"locationmode\": \"ISO-3\", \"lon\": [-61.44722366, -61.80333328], \"mode\": \"lines\", \"type\": \"scattergeo\", \"uid\": \"f4751a18-6324-457d-b221-54de873963ab\"}, {\"lat\": [-11.43861103, -11.43861103], \"line\": {\"color\": \"purple\", \"width\": 1}, \"locationmode\": \"ISO-3\", \"lon\": [-61.44722366, -61.44722366], \"mode\": \"lines\", \"type\": \"scattergeo\", \"uid\": \"f40d072c-8051-4b19-b7a6-b99f81dbf369\"}, {\"lat\": [-11.43861103, -11.17527771], \"line\": {\"color\": \"purple\", \"width\": 1}, \"locationmode\": \"ISO-3\", \"lon\": [-61.44722366, -61.90139008], \"mode\": \"lines\", \"type\": \"scattergeo\", \"uid\": \"d3e40a1f-249f-4e8b-9166-2928843cf884\"}, {\"lat\": [-11.43861103, -12.55222225], \"line\": {\"color\": \"purple\", \"width\": 1}, \"locationmode\": \"ISO-3\", \"lon\": [-61.44722366, -60.89972305], \"mode\": \"lines\", \"type\": \"scattergeo\", \"uid\": \"32d3d505-5599-4196-b3da-320432638df9\"}, {\"lat\": [-11.43861103, -12.19611073], \"line\": {\"color\": \"purple\", \"width\": 1}, \"locationmode\": \"ISO-3\", \"lon\": [-61.44722366, -61.60138702], \"mode\": \"lines\", \"type\": \"scattergeo\", \"uid\": \"5b5cef25-e255-451a-b9d0-c6ba523b528a\"}, {\"lat\": [-11.43861103, -9.913332939], \"line\": {\"color\": \"purple\", \"width\": 1}, \"locationmode\": \"ISO-3\", \"lon\": [-61.44722366, -63.04083252], \"mode\": \"lines\", \"type\": \"scattergeo\", \"uid\": \"d7499691-6334-46ae-bf34-d871bfd8b7d6\"}, {\"lat\": [-11.43861103, -9.36277771], \"line\": {\"color\": \"purple\", \"width\": 1}, \"locationmode\": \"ISO-3\", \"lon\": [-61.44722366, -62.58527756], \"mode\": \"lines\", \"type\": \"scattergeo\", \"uid\": \"a072009a-287f-4d35-b548-7044af6957eb\"}, {\"lat\": [-11.43861103, -11.43861103], \"line\": {\"color\": \"purple\", \"width\": 1}, \"locationmode\": \"ISO-3\", \"lon\": [-61.44722366, -61.44722366], \"mode\": \"lines\", \"type\": \"scattergeo\", \"uid\": \"c3e64106-ad95-4e59-ae95-394b8b5cd20d\"}, {\"lat\": [-11.43861103, -11.43861103], \"line\": {\"color\": \"purple\", \"width\": 1}, \"locationmode\": \"ISO-3\", \"lon\": [-61.44722366, -61.44722366], \"mode\": \"lines\", \"type\": \"scattergeo\", \"uid\": \"70c297c1-6eda-412a-aed2-d40e4464bf8d\"}, {\"lat\": [-11.43861103, -11.43861103], \"line\": {\"color\": \"purple\", \"width\": 1}, \"locationmode\": \"ISO-3\", \"lon\": [-61.44722366, -61.44722366], \"mode\": \"lines\", \"type\": \"scattergeo\", \"uid\": \"9c901726-6160-4b88-9d12-7b64dc5afefe\"}, {\"lat\": [-11.43861103, -11.90805531], \"line\": {\"color\": \"purple\", \"width\": 1}, \"locationmode\": \"ISO-3\", \"lon\": [-61.44722366, -61.778888699999996], \"mode\": \"lines\", \"type\": \"scattergeo\", \"uid\": \"0d2ecff0-5baf-47b2-9847-9fb8e81bed3a\"}, {\"lat\": [-11.43861103, -7.197222233], \"line\": {\"color\": \"purple\", \"width\": 1}, \"locationmode\": \"ISO-3\", \"lon\": [-61.44722366, -59.89138794], \"mode\": \"lines\", \"type\": \"scattergeo\", \"uid\": \"7d3842d7-b5ac-438e-9cbe-465e808a4dba\"}, {\"lat\": [-11.43861103, -11.69361115], \"line\": {\"color\": \"purple\", \"width\": 1}, \"locationmode\": \"ISO-3\", \"lon\": [-61.44722366, -62.71138763], \"mode\": \"lines\", \"type\": \"scattergeo\", \"uid\": \"6d422c1b-b288-44e3-a083-756d0327347a\"}, {\"lat\": [-11.43861103, -10.40194416], \"line\": {\"color\": \"purple\", \"width\": 1}, \"locationmode\": \"ISO-3\", \"lon\": [-61.44722366, -65.32666779], \"mode\": \"lines\", \"type\": \"scattergeo\", \"uid\": \"c3aef084-b157-487c-8d56-bf44b92dfa66\"}, {\"lat\": [-11.43861103, -11.90250015], \"line\": {\"color\": \"purple\", \"width\": 1}, \"locationmode\": \"ISO-3\", \"lon\": [-61.44722366, -61.50222397], \"mode\": \"lines\", \"type\": \"scattergeo\", \"uid\": \"75769891-6b33-4249-9761-58b18e9c2d0f\"}, {\"lat\": [-11.43861103, -10.52499962], \"line\": {\"color\": \"purple\", \"width\": 1}, \"locationmode\": \"ISO-3\", \"lon\": [-61.44722366, -62.64389038], \"mode\": \"lines\", \"type\": \"scattergeo\", \"uid\": \"6668ff78-dbbc-4038-9cee-7f726c14d307\"}, {\"lat\": [-11.43861103, -11.90805531], \"line\": {\"color\": \"purple\", \"width\": 1}, \"locationmode\": \"ISO-3\", \"lon\": [-61.44722366, -61.778888699999996], \"mode\": \"lines\", \"type\": \"scattergeo\", \"uid\": \"be124b3b-e6c3-4d4e-8fc3-e9d79858ad92\"}, {\"lat\": [-11.43861103, -11.79805565], \"line\": {\"color\": \"purple\", \"width\": 1}, \"locationmode\": \"ISO-3\", \"lon\": [-61.44722366, -63.03111267], \"mode\": \"lines\", \"type\": \"scattergeo\", \"uid\": \"894520fb-68e3-4aef-8694-2136484ee8e7\"}, {\"lat\": [-11.43861103, -11.79805565], \"line\": {\"color\": \"purple\", \"width\": 1}, \"locationmode\": \"ISO-3\", \"lon\": [-61.44722366, -63.03111267], \"mode\": \"lines\", \"type\": \"scattergeo\", \"uid\": \"d01503e7-90f7-4a91-acbf-f5bf983093de\"}, {\"lat\": [-11.43861103, -11.43861103], \"line\": {\"color\": \"purple\", \"width\": 1}, \"locationmode\": \"ISO-3\", \"lon\": [-61.44722366, -61.44722366], \"mode\": \"lines\", \"type\": \"scattergeo\", \"uid\": \"dc3370dd-7cd6-4969-ba70-91481fe3fd58\"}, {\"lat\": [-11.43861103, -11.71972179], \"line\": {\"color\": \"purple\", \"width\": 1}, \"locationmode\": \"ISO-3\", \"lon\": [-61.44722366, -62.31583405], \"mode\": \"lines\", \"type\": \"scattergeo\", \"uid\": \"77270e58-a66a-4311-a528-05cf40ca6036\"}, {\"lat\": [-11.43861103, -11.79805565], \"line\": {\"color\": \"purple\", \"width\": 1}, \"locationmode\": \"ISO-3\", \"lon\": [-61.44722366, -63.03111267], \"mode\": \"lines\", \"type\": \"scattergeo\", \"uid\": \"c8deea38-53e2-4a41-8ac9-4cb1099e1c3c\"}, {\"lat\": [-11.43861103, -11.696389199999999], \"line\": {\"color\": \"purple\", \"width\": 1}, \"locationmode\": \"ISO-3\", \"lon\": [-61.44722366, -61.99472046], \"mode\": \"lines\", \"type\": \"scattergeo\", \"uid\": \"6d13b009-9584-4db9-95f4-270acbf9f12e\"}, {\"lat\": [-11.43861103, -11.79805565], \"line\": {\"color\": \"purple\", \"width\": 1}, \"locationmode\": \"ISO-3\", \"lon\": [-61.44722366, -63.03111267], \"mode\": \"lines\", \"type\": \"scattergeo\", \"uid\": \"8ba325ef-8b03-4c60-be95-ec8a49a0eebe\"}, {\"lat\": [-11.43861103, -11.79805565], \"line\": {\"color\": \"purple\", \"width\": 1}, \"locationmode\": \"ISO-3\", \"lon\": [-61.44722366, -63.03111267], \"mode\": \"lines\", \"type\": \"scattergeo\", \"uid\": \"e4e0c3f6-1239-4fd6-8333-df51a2ce63ce\"}, {\"lat\": [-11.43861103, -11.90250015], \"line\": {\"color\": \"purple\", \"width\": 1}, \"locationmode\": \"ISO-3\", \"lon\": [-61.44722366, -61.50222397], \"mode\": \"lines\", \"type\": \"scattergeo\", \"uid\": \"7bb54c13-4bc0-4003-adfd-04ba4ffc21b9\"}, {\"lat\": [-11.43861103, -11.43861103], \"line\": {\"color\": \"purple\", \"width\": 1}, \"locationmode\": \"ISO-3\", \"lon\": [-61.44722366, -61.44722366], \"mode\": \"lines\", \"type\": \"scattergeo\", \"uid\": \"5eb8c1a3-3d46-4bc1-8a34-8f6f0ea3cd3e\"}, {\"lat\": [-11.43861103, -11.79805565], \"line\": {\"color\": \"purple\", \"width\": 1}, \"locationmode\": \"ISO-3\", \"lon\": [-61.44722366, -63.03111267], \"mode\": \"lines\", \"type\": \"scattergeo\", \"uid\": \"6ae1cab3-7d81-46c2-837f-df20d0a7ed57\"}, {\"lat\": [-11.43861103, -11.43861103], \"line\": {\"color\": \"purple\", \"width\": 1}, \"locationmode\": \"ISO-3\", \"lon\": [-61.44722366, -61.44722366], \"mode\": \"lines\", \"type\": \"scattergeo\", \"uid\": \"0679a0c5-7438-4b83-b1f5-9f3cc0f3dc92\"}, {\"lat\": [-11.43861103, -21.71416664], \"line\": {\"color\": \"purple\", \"width\": 1}, \"locationmode\": \"ISO-3\", \"lon\": [-61.44722366, -52.42222214], \"mode\": \"lines\", \"type\": \"scattergeo\", \"uid\": \"1ef2e101-143d-43db-b001-a3841a75379d\"}, {\"lat\": [-8.761944771, -11.96805573, -10.29444408, -9.913332939, -10.52499962, -14.454722400000001, -15.56305599, -1.4466667180000001, -9.913332939, -9.913332939, -24.06583405, -8.809721947, -9.443888664, -9.913332939, -10.33916664, -10.33916664, -9.913332939, -9.704999924, -9.913332939, -9.713055611, -10.29444408, -9.704999924, -9.713055611, -9.913332939, -9.36277771, -10.33916664, -9.713055611, -10.29444408, -9.704999924, -9.913332939, -9.443888664, -9.704999924, -10.33916664, -10.31805515, -10.33916664, -10.29444408, -9.443888664, -9.913332939, -9.443888664, 1.007500052, -9.36277771, -10.33916664, -8.838889122000001, -7.147777557, -9.913332939, -8.761944771, -10.29444408, -9.36277771, -9.36277771, -13.49777794, -13.49777794, -13.48250008, -25.44972229, -11.43861103, -9.933610916000001, -24.1847229, -10.21166706, -12.05222225, -11.43861103, -11.524722099999998, -11.41749954, -11.43861103, -11.90805531, -11.96805573, -13.02583313, -10.88527775, -11.803610800000001, -11.17527771, -11.43861103, -11.803610800000001, -11.43861103, -11.803610800000001, -11.43861103, -11.17527771, -12.55222225, -12.19611073, -9.913332939, -9.36277771, -11.43861103, -11.43861103, -11.43861103, -11.90805531, -7.197222233, -11.69361115, -10.40194416, -11.90250015, -10.52499962, -11.90805531, -11.79805565, -11.79805565, -11.43861103, -11.71972179, -11.79805565, -11.696389199999999, -11.79805565, -11.79805565, -11.90250015, -11.43861103, -11.79805565, -11.43861103, -21.71416664, -11.96805573, -11.96805573, -9.913332939, -9.913332939, -9.913332939, -9.913332939, -9.913332939, -9.913332939, -9.913332939, -9.913332939, -9.913332939, -9.913332939, -9.913332939, -9.913332939, -9.913332939, -9.913332939, -9.913332939, -9.913332939, -9.913332939, -9.913332939, -9.913332939, -9.913332939, -9.913332939, -9.913332939, -9.913332939, -9.913332939, -9.913332939, -9.913332939, -9.913332939, -9.913332939, -9.913332939, -9.913332939, -9.913332939, -9.913332939, -9.913332939, -9.913332939, -9.913332939, -9.913332939, -9.913332939, -9.913332939, -9.913332939, -9.913332939, -9.913332939, -9.913332939, -9.913332939, -9.913332939, -9.913332939, -9.913332939, -9.913332939, -13.49777794, -13.49777794, -13.49777794, -11.43861103, -11.43861103, -11.43861103, -11.43861103, -11.43861103, -11.43861103, -11.43861103, -11.43861103, -11.43861103, -11.43861103, -11.43861103, -11.43861103, -11.43861103, -11.43861103, -11.43861103, -11.43861103, -11.43861103, -11.43861103, -11.43861103, -11.43861103, -11.43861103, -11.43861103, -11.43861103, -11.43861103, -11.43861103, -11.43861103, -11.43861103, -11.43861103, -11.43861103, -11.43861103, -11.43861103, -11.43861103, -11.43861103, -11.43861103, -11.43861103, -11.43861103, -11.43861103, -11.43861103, -11.43861103, -11.43861103, -11.43861103, -11.43861103, -11.43861103, -11.43861103, -11.43861103, -11.43861103, -11.43861103, -11.43861103, -11.43861103], \"locationmode\": \"ISO-3\", \"lon\": [-63.903888699999996, -61.95416641, -63.32527924, -63.04083252, -62.64389038, -56.80277634, -39.30250168, -45.71666718, -63.04083252, -63.04083252, -53.84777832, -63.69555664, -61.98138809, -63.04083252, -62.89527893, -62.89527893, -63.04083252, -62.89972305, -63.04083252, -63.32083511, -63.32527924, -62.89972305, -63.32083511, -63.04083252, -62.58527756, -62.89527893, -63.32083511, -63.32527924, -62.89972305, -63.04083252, -61.98138809, -62.89972305, -62.89527893, -58.35889053, -62.89527893, -63.32527924, -61.98138809, -63.04083252, -61.98138809, -60.01750183, -62.58527756, -62.89527893, -69.25971985, -55.38111115, -63.04083252, -63.903888699999996, -63.32527924, -62.58527756, -62.58527756, -60.55416489, -60.55416489, -61.04666519, -52.90805435, -61.44722366, -36.55416489, -53.02750015, -63.82860947, -63.56750107, -61.44722366, -61.01277924, -61.93861008, -61.44722366, -61.778888699999996, -61.95416641, -57.07389069, -61.95166779, -61.80333328, -61.90139008, -61.44722366, -61.80333328, -61.44722366, -61.80333328, -61.44722366, -61.90139008, -60.89972305, -61.60138702, -63.04083252, -62.58527756, -61.44722366, -61.44722366, -61.44722366, -61.778888699999996, -59.89138794, -62.71138763, -65.32666779, -61.50222397, -62.64389038, -61.778888699999996, -63.03111267, -63.03111267, -61.44722366, -62.31583405, -63.03111267, -61.99472046, -63.03111267, -63.03111267, -61.50222397, -61.44722366, -63.03111267, -61.44722366, -52.42222214, -61.95416641, -61.95416641, -63.04083252, -63.04083252, -63.04083252, -63.04083252, -63.04083252, -63.04083252, -63.04083252, -63.04083252, -63.04083252, -63.04083252, -63.04083252, -63.04083252, -63.04083252, -63.04083252, -63.04083252, -63.04083252, -63.04083252, -63.04083252, -63.04083252, -63.04083252, -63.04083252, -63.04083252, -63.04083252, -63.04083252, -63.04083252, -63.04083252, -63.04083252, -63.04083252, -63.04083252, -63.04083252, -63.04083252, -63.04083252, -63.04083252, -63.04083252, -63.04083252, -63.04083252, -63.04083252, -63.04083252, -63.04083252, -63.04083252, -63.04083252, -63.04083252, -63.04083252, -63.04083252, -63.04083252, -63.04083252, -63.04083252, -60.55416489, -60.55416489, -60.55416489, -61.44722366, -61.44722366, -61.44722366, -61.44722366, -61.44722366, -61.44722366, -61.44722366, -61.44722366, -61.44722366, -61.44722366, -61.44722366, -61.44722366, -61.44722366, -61.44722366, -61.44722366, -61.44722366, -61.44722366, -61.44722366, -61.44722366, -61.44722366, -61.44722366, -61.44722366, -61.44722366, -61.44722366, -61.44722366, -61.44722366, -61.44722366, -61.44722366, -61.44722366, -61.44722366, -61.44722366, -61.44722366, -61.44722366, -61.44722366, -61.44722366, -61.44722366, -61.44722366, -61.44722366, -61.44722366, -61.44722366, -61.44722366, -61.44722366, -61.44722366, -61.44722366, -61.44722366, -61.44722366, -61.44722366, -61.44722366, -61.44722366], \"marker\": {\"color\": \"rgb(80, 0, 0)\", \"line\": {\"color\": \"rgba(68, 68, 68, 0)\", \"width\": 3}, \"size\": 4}, \"mode\": \"markers\", \"type\": \"scattergeo\", \"uid\": \"41f35bb9-78c2-47ee-9e1b-b7995d301ef1\"}], {\"geo\": {\"countrycolor\": \"rgb(160, 160, 204)\", \"landcolor\": \"rgb(120, 120, 120)\", \"projection\": {\"type\": \"azimuthal equal area\"}, \"scope\": \"world\", \"showland\": true}, \"showlegend\": false, \"title\": {\"text\": \"The Movement of Candidates on World Map\"}}, {\"showLink\": false, \"linkText\": \"Export to plot.ly\", \"plotlyServerURL\": \"https://plot.ly\"})});</script><script type=\"text/javascript\">window.addEventListener(\"resize\", function(){window._Plotly.Plots.resize(document.getElementById(\"03885a27-4f32-4054-931e-a831e3c1d379\"));});</script>"
      ]
     },
     "metadata": {},
     "output_type": "display_data"
    }
   ],
   "source": [
    "from plotly.offline import init_notebook_mode, plot, iplot\n",
    "init_notebook_mode(connected=True)\n",
    "import plotly.plotly as py\n",
    "import pandas as pd\n",
    "\n",
    "dest = [ dict(\n",
    "        type = 'scattergeo',\n",
    "        locationmode = 'ISO-3',\n",
    "        lon = dest_df['longitude'],\n",
    "        lat = dest_df['latitude'],\n",
    "        mode = 'markers',\n",
    "        marker = dict( \n",
    "            size=4, \n",
    "            color='rgb(80, 0, 0)',\n",
    "            line = dict(\n",
    "                width=3,\n",
    "                color='rgba(68, 68, 68, 0)'\n",
    "            )\n",
    "        ))]\n",
    "\n",
    "        \n",
    "dist_run_birth = []\n",
    "for i in range( len( data_long_lat ) ):\n",
    "    dist_run_birth.append(\n",
    "        dict(\n",
    "            type = 'scattergeo',\n",
    "            locationmode = 'ISO-3',\n",
    "            lat = [ data_long_lat['latitude'][i],data_long_lat['lati_run'][i] ],\n",
    "            lon = [ data_long_lat['longitude'][i],data_long_lat['longi_run'][i] ],\n",
    "            mode = 'lines',\n",
    "            line = dict(\n",
    "                width = 1,\n",
    "                color = 'purple',\n",
    "            )\n",
    "        )\n",
    "    )\n",
    "    \n",
    "layout = dict(\n",
    "        title = 'The Movement of Candidates on World Map',\n",
    "        showlegend = False, \n",
    "        geo = dict(\n",
    "            scope='world',\n",
    "            projection=dict( type='azimuthal equal area' ),\n",
    "            showland = True,\n",
    "            landcolor = 'rgb(120, 120, 120)',\n",
    "            countrycolor = 'rgb(160, 160, 204)',\n",
    "        )\n",
    "    )\n",
    "    \n",
    "fig = dict( data=dist_run_birth+ dest, layout=layout )\n",
    "iplot( fig )"
   ]
  },
  {
   "cell_type": "code",
   "execution_count": 7,
   "metadata": {},
   "outputs": [
    {
     "data": {
      "application/vnd.plotly.v1+json": {
       "config": {
        "linkText": "Export to plot.ly",
        "plotlyServerURL": "https://plot.ly",
        "showLink": false
       },
       "data": [
        {
         "lat": [
          -11.96805573,
          -8.761944771
         ],
         "line": {
          "color": "purple",
          "width": 1
         },
         "locationmode": "ISO-3",
         "lon": [
          -61.95416641,
          -63.903888699999996
         ],
         "mode": "lines",
         "type": "scattergeo",
         "uid": "391647e8-2e6a-46eb-894e-83a1582f04a0"
        },
        {
         "lat": [
          -11.96805573,
          -11.96805573
         ],
         "line": {
          "color": "purple",
          "width": 1
         },
         "locationmode": "ISO-3",
         "lon": [
          -61.95416641,
          -61.95416641
         ],
         "mode": "lines",
         "type": "scattergeo",
         "uid": "c5b1995a-1ba0-40d3-952c-272295ae62a0"
        },
        {
         "lat": [
          -9.913332939,
          -10.29444408
         ],
         "line": {
          "color": "purple",
          "width": 1
         },
         "locationmode": "ISO-3",
         "lon": [
          -63.04083252,
          -63.32527924
         ],
         "mode": "lines",
         "type": "scattergeo",
         "uid": "a629c064-5248-4855-8b23-f4b4623b215d"
        },
        {
         "lat": [
          -9.913332939,
          -9.913332939
         ],
         "line": {
          "color": "purple",
          "width": 1
         },
         "locationmode": "ISO-3",
         "lon": [
          -63.04083252,
          -63.04083252
         ],
         "mode": "lines",
         "type": "scattergeo",
         "uid": "4c82aa48-6006-4d19-a681-808f81322ce1"
        },
        {
         "lat": [
          -9.913332939,
          -10.52499962
         ],
         "line": {
          "color": "purple",
          "width": 1
         },
         "locationmode": "ISO-3",
         "lon": [
          -63.04083252,
          -62.64389038
         ],
         "mode": "lines",
         "type": "scattergeo",
         "uid": "2e7bc4df-1474-42cc-9300-983eaa30261e"
        },
        {
         "lat": [
          -9.913332939,
          -14.454722400000001
         ],
         "line": {
          "color": "purple",
          "width": 1
         },
         "locationmode": "ISO-3",
         "lon": [
          -63.04083252,
          -56.80277634
         ],
         "mode": "lines",
         "type": "scattergeo",
         "uid": "c79e76ec-094e-4b3f-9b1e-7095e40928c8"
        },
        {
         "lat": [
          -9.913332939,
          -15.56305599
         ],
         "line": {
          "color": "purple",
          "width": 1
         },
         "locationmode": "ISO-3",
         "lon": [
          -63.04083252,
          -39.30250168
         ],
         "mode": "lines",
         "type": "scattergeo",
         "uid": "1228d5b0-979c-4030-9049-fedf22e44c03"
        },
        {
         "lat": [
          -9.913332939,
          -1.4466667180000001
         ],
         "line": {
          "color": "purple",
          "width": 1
         },
         "locationmode": "ISO-3",
         "lon": [
          -63.04083252,
          -45.71666718
         ],
         "mode": "lines",
         "type": "scattergeo",
         "uid": "5642805e-2505-420c-a117-89cd72903038"
        },
        {
         "lat": [
          -9.913332939,
          -9.913332939
         ],
         "line": {
          "color": "purple",
          "width": 1
         },
         "locationmode": "ISO-3",
         "lon": [
          -63.04083252,
          -63.04083252
         ],
         "mode": "lines",
         "type": "scattergeo",
         "uid": "c7c77205-770d-46e3-9291-e5faa7547b11"
        },
        {
         "lat": [
          -9.913332939,
          -9.913332939
         ],
         "line": {
          "color": "purple",
          "width": 1
         },
         "locationmode": "ISO-3",
         "lon": [
          -63.04083252,
          -63.04083252
         ],
         "mode": "lines",
         "type": "scattergeo",
         "uid": "4f58aa9d-1b66-48e4-90a3-8978a8046277"
        },
        {
         "lat": [
          -9.913332939,
          -24.06583405
         ],
         "line": {
          "color": "purple",
          "width": 1
         },
         "locationmode": "ISO-3",
         "lon": [
          -63.04083252,
          -53.84777832
         ],
         "mode": "lines",
         "type": "scattergeo",
         "uid": "86bf299c-647e-4af5-9466-2b35f5de2631"
        },
        {
         "lat": [
          -9.913332939,
          -8.809721947
         ],
         "line": {
          "color": "purple",
          "width": 1
         },
         "locationmode": "ISO-3",
         "lon": [
          -63.04083252,
          -63.69555664
         ],
         "mode": "lines",
         "type": "scattergeo",
         "uid": "dbc60a7a-ccbd-49a2-b08b-a846ca1b9941"
        },
        {
         "lat": [
          -9.913332939,
          -9.443888664
         ],
         "line": {
          "color": "purple",
          "width": 1
         },
         "locationmode": "ISO-3",
         "lon": [
          -63.04083252,
          -61.98138809
         ],
         "mode": "lines",
         "type": "scattergeo",
         "uid": "ce952961-0469-489a-a1e6-73483775af86"
        },
        {
         "lat": [
          -9.913332939,
          -9.913332939
         ],
         "line": {
          "color": "purple",
          "width": 1
         },
         "locationmode": "ISO-3",
         "lon": [
          -63.04083252,
          -63.04083252
         ],
         "mode": "lines",
         "type": "scattergeo",
         "uid": "6f111570-5292-4cf9-a26b-0c80615bc710"
        },
        {
         "lat": [
          -9.913332939,
          -10.33916664
         ],
         "line": {
          "color": "purple",
          "width": 1
         },
         "locationmode": "ISO-3",
         "lon": [
          -63.04083252,
          -62.89527893
         ],
         "mode": "lines",
         "type": "scattergeo",
         "uid": "b8f39b4f-f13a-4796-a2e7-b59eeb14201b"
        },
        {
         "lat": [
          -9.913332939,
          -10.33916664
         ],
         "line": {
          "color": "purple",
          "width": 1
         },
         "locationmode": "ISO-3",
         "lon": [
          -63.04083252,
          -62.89527893
         ],
         "mode": "lines",
         "type": "scattergeo",
         "uid": "f1bebb3c-f4fe-441c-bb30-b0854f8d7e5a"
        },
        {
         "lat": [
          -9.913332939,
          -9.913332939
         ],
         "line": {
          "color": "purple",
          "width": 1
         },
         "locationmode": "ISO-3",
         "lon": [
          -63.04083252,
          -63.04083252
         ],
         "mode": "lines",
         "type": "scattergeo",
         "uid": "bb4ba4e8-602a-414c-b189-4a6d276424a2"
        },
        {
         "lat": [
          -9.913332939,
          -9.704999924
         ],
         "line": {
          "color": "purple",
          "width": 1
         },
         "locationmode": "ISO-3",
         "lon": [
          -63.04083252,
          -62.89972305
         ],
         "mode": "lines",
         "type": "scattergeo",
         "uid": "3087dac0-cbfd-4153-9a77-5e21fbe8e05f"
        },
        {
         "lat": [
          -9.913332939,
          -9.913332939
         ],
         "line": {
          "color": "purple",
          "width": 1
         },
         "locationmode": "ISO-3",
         "lon": [
          -63.04083252,
          -63.04083252
         ],
         "mode": "lines",
         "type": "scattergeo",
         "uid": "aa698822-a671-443d-8815-acb102eadc94"
        },
        {
         "lat": [
          -9.913332939,
          -9.713055611
         ],
         "line": {
          "color": "purple",
          "width": 1
         },
         "locationmode": "ISO-3",
         "lon": [
          -63.04083252,
          -63.32083511
         ],
         "mode": "lines",
         "type": "scattergeo",
         "uid": "a80dd5b8-9670-43a1-982c-45e23ca9e747"
        },
        {
         "lat": [
          -9.913332939,
          -10.29444408
         ],
         "line": {
          "color": "purple",
          "width": 1
         },
         "locationmode": "ISO-3",
         "lon": [
          -63.04083252,
          -63.32527924
         ],
         "mode": "lines",
         "type": "scattergeo",
         "uid": "2f9e284a-6d8c-4538-b12d-1d59d7f5c768"
        },
        {
         "lat": [
          -9.913332939,
          -9.704999924
         ],
         "line": {
          "color": "purple",
          "width": 1
         },
         "locationmode": "ISO-3",
         "lon": [
          -63.04083252,
          -62.89972305
         ],
         "mode": "lines",
         "type": "scattergeo",
         "uid": "15d0c28a-23c0-4b61-b3e0-3caf8d7eb00a"
        },
        {
         "lat": [
          -9.913332939,
          -9.713055611
         ],
         "line": {
          "color": "purple",
          "width": 1
         },
         "locationmode": "ISO-3",
         "lon": [
          -63.04083252,
          -63.32083511
         ],
         "mode": "lines",
         "type": "scattergeo",
         "uid": "2373ab3e-7f03-4472-aa10-9f6c6601fb08"
        },
        {
         "lat": [
          -9.913332939,
          -9.913332939
         ],
         "line": {
          "color": "purple",
          "width": 1
         },
         "locationmode": "ISO-3",
         "lon": [
          -63.04083252,
          -63.04083252
         ],
         "mode": "lines",
         "type": "scattergeo",
         "uid": "5155bb57-b67b-4ccb-9232-699b11b2d518"
        },
        {
         "lat": [
          -9.913332939,
          -9.36277771
         ],
         "line": {
          "color": "purple",
          "width": 1
         },
         "locationmode": "ISO-3",
         "lon": [
          -63.04083252,
          -62.58527756
         ],
         "mode": "lines",
         "type": "scattergeo",
         "uid": "ee71c786-3126-4dce-9002-9f4104b11ec2"
        },
        {
         "lat": [
          -9.913332939,
          -10.33916664
         ],
         "line": {
          "color": "purple",
          "width": 1
         },
         "locationmode": "ISO-3",
         "lon": [
          -63.04083252,
          -62.89527893
         ],
         "mode": "lines",
         "type": "scattergeo",
         "uid": "fa7b2ab6-7bc1-43a1-9965-186616afc9e0"
        },
        {
         "lat": [
          -9.913332939,
          -9.713055611
         ],
         "line": {
          "color": "purple",
          "width": 1
         },
         "locationmode": "ISO-3",
         "lon": [
          -63.04083252,
          -63.32083511
         ],
         "mode": "lines",
         "type": "scattergeo",
         "uid": "6dc12a61-22bc-48ca-80bd-52f51d6328a9"
        },
        {
         "lat": [
          -9.913332939,
          -10.29444408
         ],
         "line": {
          "color": "purple",
          "width": 1
         },
         "locationmode": "ISO-3",
         "lon": [
          -63.04083252,
          -63.32527924
         ],
         "mode": "lines",
         "type": "scattergeo",
         "uid": "26d1e83d-7db0-495f-9ff9-cc12e174953a"
        },
        {
         "lat": [
          -9.913332939,
          -9.704999924
         ],
         "line": {
          "color": "purple",
          "width": 1
         },
         "locationmode": "ISO-3",
         "lon": [
          -63.04083252,
          -62.89972305
         ],
         "mode": "lines",
         "type": "scattergeo",
         "uid": "ed43d562-4ec9-45c0-af7c-f3a0f241cd88"
        },
        {
         "lat": [
          -9.913332939,
          -9.913332939
         ],
         "line": {
          "color": "purple",
          "width": 1
         },
         "locationmode": "ISO-3",
         "lon": [
          -63.04083252,
          -63.04083252
         ],
         "mode": "lines",
         "type": "scattergeo",
         "uid": "868c5b89-80a7-4162-8798-499d3d0d66a8"
        },
        {
         "lat": [
          -9.913332939,
          -9.443888664
         ],
         "line": {
          "color": "purple",
          "width": 1
         },
         "locationmode": "ISO-3",
         "lon": [
          -63.04083252,
          -61.98138809
         ],
         "mode": "lines",
         "type": "scattergeo",
         "uid": "eda8ac02-2068-4213-bc0d-faa73554d685"
        },
        {
         "lat": [
          -9.913332939,
          -9.704999924
         ],
         "line": {
          "color": "purple",
          "width": 1
         },
         "locationmode": "ISO-3",
         "lon": [
          -63.04083252,
          -62.89972305
         ],
         "mode": "lines",
         "type": "scattergeo",
         "uid": "54723d59-f9c5-4c80-bdc5-e199e5e3d1db"
        },
        {
         "lat": [
          -9.913332939,
          -10.33916664
         ],
         "line": {
          "color": "purple",
          "width": 1
         },
         "locationmode": "ISO-3",
         "lon": [
          -63.04083252,
          -62.89527893
         ],
         "mode": "lines",
         "type": "scattergeo",
         "uid": "19173b8d-8edd-4bad-b297-ee1dd5836b4e"
        },
        {
         "lat": [
          -9.913332939,
          -10.31805515
         ],
         "line": {
          "color": "purple",
          "width": 1
         },
         "locationmode": "ISO-3",
         "lon": [
          -63.04083252,
          -58.35889053
         ],
         "mode": "lines",
         "type": "scattergeo",
         "uid": "5aff2439-7450-4107-ad73-5eb562054a5a"
        },
        {
         "lat": [
          -9.913332939,
          -10.33916664
         ],
         "line": {
          "color": "purple",
          "width": 1
         },
         "locationmode": "ISO-3",
         "lon": [
          -63.04083252,
          -62.89527893
         ],
         "mode": "lines",
         "type": "scattergeo",
         "uid": "47ba5e34-df79-4b19-9a74-76a9507e3a81"
        },
        {
         "lat": [
          -9.913332939,
          -10.29444408
         ],
         "line": {
          "color": "purple",
          "width": 1
         },
         "locationmode": "ISO-3",
         "lon": [
          -63.04083252,
          -63.32527924
         ],
         "mode": "lines",
         "type": "scattergeo",
         "uid": "7186acf0-bfb8-4be8-ab75-b791660781a7"
        },
        {
         "lat": [
          -9.913332939,
          -9.443888664
         ],
         "line": {
          "color": "purple",
          "width": 1
         },
         "locationmode": "ISO-3",
         "lon": [
          -63.04083252,
          -61.98138809
         ],
         "mode": "lines",
         "type": "scattergeo",
         "uid": "23cbb6b9-62cd-4117-9b47-d13e99e104e9"
        },
        {
         "lat": [
          -9.913332939,
          -9.913332939
         ],
         "line": {
          "color": "purple",
          "width": 1
         },
         "locationmode": "ISO-3",
         "lon": [
          -63.04083252,
          -63.04083252
         ],
         "mode": "lines",
         "type": "scattergeo",
         "uid": "36f3eed0-0894-4f9f-9249-cc4810b0f0f4"
        },
        {
         "lat": [
          -9.913332939,
          -9.443888664
         ],
         "line": {
          "color": "purple",
          "width": 1
         },
         "locationmode": "ISO-3",
         "lon": [
          -63.04083252,
          -61.98138809
         ],
         "mode": "lines",
         "type": "scattergeo",
         "uid": "4076cdea-dc24-41f8-88d9-0cc9c5c73ab5"
        },
        {
         "lat": [
          -9.913332939,
          1.007500052
         ],
         "line": {
          "color": "purple",
          "width": 1
         },
         "locationmode": "ISO-3",
         "lon": [
          -63.04083252,
          -60.01750183
         ],
         "mode": "lines",
         "type": "scattergeo",
         "uid": "0e7b0d6e-7a0b-4abe-8e93-4ccd8f6b12bc"
        },
        {
         "lat": [
          -9.913332939,
          -9.36277771
         ],
         "line": {
          "color": "purple",
          "width": 1
         },
         "locationmode": "ISO-3",
         "lon": [
          -63.04083252,
          -62.58527756
         ],
         "mode": "lines",
         "type": "scattergeo",
         "uid": "09c9bda5-c0ac-4ac8-b3a6-f93a62cbd50c"
        },
        {
         "lat": [
          -9.913332939,
          -10.33916664
         ],
         "line": {
          "color": "purple",
          "width": 1
         },
         "locationmode": "ISO-3",
         "lon": [
          -63.04083252,
          -62.89527893
         ],
         "mode": "lines",
         "type": "scattergeo",
         "uid": "3e56fb59-6ad0-4426-bb8a-f9ce410b61f6"
        },
        {
         "lat": [
          -9.913332939,
          -8.838889122000001
         ],
         "line": {
          "color": "purple",
          "width": 1
         },
         "locationmode": "ISO-3",
         "lon": [
          -63.04083252,
          -69.25971985
         ],
         "mode": "lines",
         "type": "scattergeo",
         "uid": "46c39dee-6c0c-445d-a330-d09a9d6ba0f4"
        },
        {
         "lat": [
          -9.913332939,
          -7.147777557
         ],
         "line": {
          "color": "purple",
          "width": 1
         },
         "locationmode": "ISO-3",
         "lon": [
          -63.04083252,
          -55.38111115
         ],
         "mode": "lines",
         "type": "scattergeo",
         "uid": "5b6421f8-50ad-4ac3-b8ea-5431f048551a"
        },
        {
         "lat": [
          -9.913332939,
          -9.913332939
         ],
         "line": {
          "color": "purple",
          "width": 1
         },
         "locationmode": "ISO-3",
         "lon": [
          -63.04083252,
          -63.04083252
         ],
         "mode": "lines",
         "type": "scattergeo",
         "uid": "e0338f7a-da82-43cc-891f-e7c714531650"
        },
        {
         "lat": [
          -9.913332939,
          -8.761944771
         ],
         "line": {
          "color": "purple",
          "width": 1
         },
         "locationmode": "ISO-3",
         "lon": [
          -63.04083252,
          -63.903888699999996
         ],
         "mode": "lines",
         "type": "scattergeo",
         "uid": "1ccb93f1-2c7d-48bb-95bf-6104d99e96ca"
        },
        {
         "lat": [
          -9.913332939,
          -10.29444408
         ],
         "line": {
          "color": "purple",
          "width": 1
         },
         "locationmode": "ISO-3",
         "lon": [
          -63.04083252,
          -63.32527924
         ],
         "mode": "lines",
         "type": "scattergeo",
         "uid": "e02a8ad0-fb38-4ef3-9f31-b05e8a4c14c9"
        },
        {
         "lat": [
          -9.913332939,
          -9.36277771
         ],
         "line": {
          "color": "purple",
          "width": 1
         },
         "locationmode": "ISO-3",
         "lon": [
          -63.04083252,
          -62.58527756
         ],
         "mode": "lines",
         "type": "scattergeo",
         "uid": "bce42327-f10e-4d50-ba29-951bbc57ae6f"
        },
        {
         "lat": [
          -9.913332939,
          -9.36277771
         ],
         "line": {
          "color": "purple",
          "width": 1
         },
         "locationmode": "ISO-3",
         "lon": [
          -63.04083252,
          -62.58527756
         ],
         "mode": "lines",
         "type": "scattergeo",
         "uid": "24c21588-d699-4b2e-b42f-7450e3f59271"
        },
        {
         "lat": [
          -13.49777794,
          -13.49777794
         ],
         "line": {
          "color": "purple",
          "width": 1
         },
         "locationmode": "ISO-3",
         "lon": [
          -60.55416489,
          -60.55416489
         ],
         "mode": "lines",
         "type": "scattergeo",
         "uid": "9f7d9da8-b195-43f4-81f8-41ac8a0f2e2a"
        },
        {
         "lat": [
          -13.49777794,
          -13.49777794
         ],
         "line": {
          "color": "purple",
          "width": 1
         },
         "locationmode": "ISO-3",
         "lon": [
          -60.55416489,
          -60.55416489
         ],
         "mode": "lines",
         "type": "scattergeo",
         "uid": "b3bce0c5-a593-45b7-bb54-aa6a72a425e4"
        },
        {
         "lat": [
          -13.49777794,
          -13.48250008
         ],
         "line": {
          "color": "purple",
          "width": 1
         },
         "locationmode": "ISO-3",
         "lon": [
          -60.55416489,
          -61.04666519
         ],
         "mode": "lines",
         "type": "scattergeo",
         "uid": "3c9d33d6-061a-4a31-8be8-e55ad5b281c6"
        },
        {
         "lat": [
          -11.43861103,
          -25.44972229
         ],
         "line": {
          "color": "purple",
          "width": 1
         },
         "locationmode": "ISO-3",
         "lon": [
          -61.44722366,
          -52.90805435
         ],
         "mode": "lines",
         "type": "scattergeo",
         "uid": "4fd4a183-d00b-449c-a5af-15c0174cb346"
        },
        {
         "lat": [
          -11.43861103,
          -11.43861103
         ],
         "line": {
          "color": "purple",
          "width": 1
         },
         "locationmode": "ISO-3",
         "lon": [
          -61.44722366,
          -61.44722366
         ],
         "mode": "lines",
         "type": "scattergeo",
         "uid": "70654118-cae8-436a-8398-04d4574d4323"
        },
        {
         "lat": [
          -11.43861103,
          -9.933610916000001
         ],
         "line": {
          "color": "purple",
          "width": 1
         },
         "locationmode": "ISO-3",
         "lon": [
          -61.44722366,
          -36.55416489
         ],
         "mode": "lines",
         "type": "scattergeo",
         "uid": "5500957a-b703-4a1e-a7fb-3d7af4ba30bb"
        },
        {
         "lat": [
          -11.43861103,
          -24.1847229
         ],
         "line": {
          "color": "purple",
          "width": 1
         },
         "locationmode": "ISO-3",
         "lon": [
          -61.44722366,
          -53.02750015
         ],
         "mode": "lines",
         "type": "scattergeo",
         "uid": "95d2756d-ae66-4d00-87d7-25f8a1db389a"
        },
        {
         "lat": [
          -11.43861103,
          -10.21166706
         ],
         "line": {
          "color": "purple",
          "width": 1
         },
         "locationmode": "ISO-3",
         "lon": [
          -61.44722366,
          -63.82860947
         ],
         "mode": "lines",
         "type": "scattergeo",
         "uid": "697cdac3-8784-4503-9d60-b08076e94df8"
        },
        {
         "lat": [
          -11.43861103,
          -12.05222225
         ],
         "line": {
          "color": "purple",
          "width": 1
         },
         "locationmode": "ISO-3",
         "lon": [
          -61.44722366,
          -63.56750107
         ],
         "mode": "lines",
         "type": "scattergeo",
         "uid": "93d37b7f-88e8-4a41-ae60-227e9c1a42eb"
        },
        {
         "lat": [
          -11.43861103,
          -11.43861103
         ],
         "line": {
          "color": "purple",
          "width": 1
         },
         "locationmode": "ISO-3",
         "lon": [
          -61.44722366,
          -61.44722366
         ],
         "mode": "lines",
         "type": "scattergeo",
         "uid": "852b7dbd-da9b-4589-af81-601a57c9b6e8"
        },
        {
         "lat": [
          -11.43861103,
          -11.524722099999998
         ],
         "line": {
          "color": "purple",
          "width": 1
         },
         "locationmode": "ISO-3",
         "lon": [
          -61.44722366,
          -61.01277924
         ],
         "mode": "lines",
         "type": "scattergeo",
         "uid": "c9229040-675e-424f-bc7a-877490843298"
        },
        {
         "lat": [
          -11.43861103,
          -11.41749954
         ],
         "line": {
          "color": "purple",
          "width": 1
         },
         "locationmode": "ISO-3",
         "lon": [
          -61.44722366,
          -61.93861008
         ],
         "mode": "lines",
         "type": "scattergeo",
         "uid": "3f139ca1-d765-4519-9653-aae2a5fd674f"
        },
        {
         "lat": [
          -11.43861103,
          -11.43861103
         ],
         "line": {
          "color": "purple",
          "width": 1
         },
         "locationmode": "ISO-3",
         "lon": [
          -61.44722366,
          -61.44722366
         ],
         "mode": "lines",
         "type": "scattergeo",
         "uid": "a17e83f4-2356-4165-8dbd-7a58d109328d"
        },
        {
         "lat": [
          -11.43861103,
          -11.90805531
         ],
         "line": {
          "color": "purple",
          "width": 1
         },
         "locationmode": "ISO-3",
         "lon": [
          -61.44722366,
          -61.778888699999996
         ],
         "mode": "lines",
         "type": "scattergeo",
         "uid": "d062b9a7-faff-43fd-81d2-3de45d8c333b"
        },
        {
         "lat": [
          -11.43861103,
          -11.96805573
         ],
         "line": {
          "color": "purple",
          "width": 1
         },
         "locationmode": "ISO-3",
         "lon": [
          -61.44722366,
          -61.95416641
         ],
         "mode": "lines",
         "type": "scattergeo",
         "uid": "ba16dae9-3288-41ba-9de9-cb684ac27cd7"
        },
        {
         "lat": [
          -11.43861103,
          -13.02583313
         ],
         "line": {
          "color": "purple",
          "width": 1
         },
         "locationmode": "ISO-3",
         "lon": [
          -61.44722366,
          -57.07389069
         ],
         "mode": "lines",
         "type": "scattergeo",
         "uid": "106ee6fc-1b9f-410a-8628-d0a81111f8d8"
        },
        {
         "lat": [
          -11.43861103,
          -10.88527775
         ],
         "line": {
          "color": "purple",
          "width": 1
         },
         "locationmode": "ISO-3",
         "lon": [
          -61.44722366,
          -61.95166779
         ],
         "mode": "lines",
         "type": "scattergeo",
         "uid": "734155d2-9bbe-4877-b75a-88851a884d97"
        },
        {
         "lat": [
          -11.43861103,
          -11.803610800000001
         ],
         "line": {
          "color": "purple",
          "width": 1
         },
         "locationmode": "ISO-3",
         "lon": [
          -61.44722366,
          -61.80333328
         ],
         "mode": "lines",
         "type": "scattergeo",
         "uid": "7abc10de-7141-4a41-9b84-573fd6e22bc6"
        },
        {
         "lat": [
          -11.43861103,
          -11.17527771
         ],
         "line": {
          "color": "purple",
          "width": 1
         },
         "locationmode": "ISO-3",
         "lon": [
          -61.44722366,
          -61.90139008
         ],
         "mode": "lines",
         "type": "scattergeo",
         "uid": "82f054ab-67ab-4c44-a55c-8ffa7d11e176"
        },
        {
         "lat": [
          -11.43861103,
          -11.43861103
         ],
         "line": {
          "color": "purple",
          "width": 1
         },
         "locationmode": "ISO-3",
         "lon": [
          -61.44722366,
          -61.44722366
         ],
         "mode": "lines",
         "type": "scattergeo",
         "uid": "5400249d-ca5d-479a-a355-1ce62e329ee7"
        },
        {
         "lat": [
          -11.43861103,
          -11.803610800000001
         ],
         "line": {
          "color": "purple",
          "width": 1
         },
         "locationmode": "ISO-3",
         "lon": [
          -61.44722366,
          -61.80333328
         ],
         "mode": "lines",
         "type": "scattergeo",
         "uid": "90fc5778-71aa-46da-8407-9f6c3c1196ef"
        },
        {
         "lat": [
          -11.43861103,
          -11.43861103
         ],
         "line": {
          "color": "purple",
          "width": 1
         },
         "locationmode": "ISO-3",
         "lon": [
          -61.44722366,
          -61.44722366
         ],
         "mode": "lines",
         "type": "scattergeo",
         "uid": "55596e99-9a03-44d9-a156-814c4d166945"
        },
        {
         "lat": [
          -11.43861103,
          -11.803610800000001
         ],
         "line": {
          "color": "purple",
          "width": 1
         },
         "locationmode": "ISO-3",
         "lon": [
          -61.44722366,
          -61.80333328
         ],
         "mode": "lines",
         "type": "scattergeo",
         "uid": "d9661a4c-8c80-41e5-98af-baf5c06c3939"
        },
        {
         "lat": [
          -11.43861103,
          -11.43861103
         ],
         "line": {
          "color": "purple",
          "width": 1
         },
         "locationmode": "ISO-3",
         "lon": [
          -61.44722366,
          -61.44722366
         ],
         "mode": "lines",
         "type": "scattergeo",
         "uid": "1ada2420-3f74-4b6c-8847-bea05b9c4951"
        },
        {
         "lat": [
          -11.43861103,
          -11.17527771
         ],
         "line": {
          "color": "purple",
          "width": 1
         },
         "locationmode": "ISO-3",
         "lon": [
          -61.44722366,
          -61.90139008
         ],
         "mode": "lines",
         "type": "scattergeo",
         "uid": "9514f8a9-2a17-4aa3-91d1-286e65f0306b"
        },
        {
         "lat": [
          -11.43861103,
          -12.55222225
         ],
         "line": {
          "color": "purple",
          "width": 1
         },
         "locationmode": "ISO-3",
         "lon": [
          -61.44722366,
          -60.89972305
         ],
         "mode": "lines",
         "type": "scattergeo",
         "uid": "3834fce7-f129-4459-a3d0-27aa9983cdee"
        },
        {
         "lat": [
          -11.43861103,
          -12.19611073
         ],
         "line": {
          "color": "purple",
          "width": 1
         },
         "locationmode": "ISO-3",
         "lon": [
          -61.44722366,
          -61.60138702
         ],
         "mode": "lines",
         "type": "scattergeo",
         "uid": "fdc7e0ad-76bd-4ceb-9d62-ffbf00baf905"
        },
        {
         "lat": [
          -11.43861103,
          -9.913332939
         ],
         "line": {
          "color": "purple",
          "width": 1
         },
         "locationmode": "ISO-3",
         "lon": [
          -61.44722366,
          -63.04083252
         ],
         "mode": "lines",
         "type": "scattergeo",
         "uid": "c1e1067d-e722-4553-8c85-a2811e0fd739"
        },
        {
         "lat": [
          -11.43861103,
          -9.36277771
         ],
         "line": {
          "color": "purple",
          "width": 1
         },
         "locationmode": "ISO-3",
         "lon": [
          -61.44722366,
          -62.58527756
         ],
         "mode": "lines",
         "type": "scattergeo",
         "uid": "dc040f6f-8bb9-4eda-a1e1-3ada4036fd44"
        },
        {
         "lat": [
          -11.43861103,
          -11.43861103
         ],
         "line": {
          "color": "purple",
          "width": 1
         },
         "locationmode": "ISO-3",
         "lon": [
          -61.44722366,
          -61.44722366
         ],
         "mode": "lines",
         "type": "scattergeo",
         "uid": "9cf14c6d-b92e-4e38-8772-0e8eb5ef231a"
        },
        {
         "lat": [
          -11.43861103,
          -11.43861103
         ],
         "line": {
          "color": "purple",
          "width": 1
         },
         "locationmode": "ISO-3",
         "lon": [
          -61.44722366,
          -61.44722366
         ],
         "mode": "lines",
         "type": "scattergeo",
         "uid": "82677d34-24fb-431d-a3a0-3d33f1305547"
        },
        {
         "lat": [
          -11.43861103,
          -11.43861103
         ],
         "line": {
          "color": "purple",
          "width": 1
         },
         "locationmode": "ISO-3",
         "lon": [
          -61.44722366,
          -61.44722366
         ],
         "mode": "lines",
         "type": "scattergeo",
         "uid": "3852227c-e3b2-41eb-8f41-c1443fbe0fea"
        },
        {
         "lat": [
          -11.43861103,
          -11.90805531
         ],
         "line": {
          "color": "purple",
          "width": 1
         },
         "locationmode": "ISO-3",
         "lon": [
          -61.44722366,
          -61.778888699999996
         ],
         "mode": "lines",
         "type": "scattergeo",
         "uid": "482f6b37-211f-450a-8786-19356684f24a"
        },
        {
         "lat": [
          -11.43861103,
          -7.197222233
         ],
         "line": {
          "color": "purple",
          "width": 1
         },
         "locationmode": "ISO-3",
         "lon": [
          -61.44722366,
          -59.89138794
         ],
         "mode": "lines",
         "type": "scattergeo",
         "uid": "b4e94ad6-3bbc-4ff2-9b88-b1a529542f07"
        },
        {
         "lat": [
          -11.43861103,
          -11.69361115
         ],
         "line": {
          "color": "purple",
          "width": 1
         },
         "locationmode": "ISO-3",
         "lon": [
          -61.44722366,
          -62.71138763
         ],
         "mode": "lines",
         "type": "scattergeo",
         "uid": "d34ef789-0cc0-4bc7-b880-2bf45ac44223"
        },
        {
         "lat": [
          -11.43861103,
          -10.40194416
         ],
         "line": {
          "color": "purple",
          "width": 1
         },
         "locationmode": "ISO-3",
         "lon": [
          -61.44722366,
          -65.32666779
         ],
         "mode": "lines",
         "type": "scattergeo",
         "uid": "d5df39b9-022e-44c8-a101-7ce5a392b9f4"
        },
        {
         "lat": [
          -11.43861103,
          -11.90250015
         ],
         "line": {
          "color": "purple",
          "width": 1
         },
         "locationmode": "ISO-3",
         "lon": [
          -61.44722366,
          -61.50222397
         ],
         "mode": "lines",
         "type": "scattergeo",
         "uid": "71498c39-2f90-458c-bb6c-ffef602eee4e"
        },
        {
         "lat": [
          -11.43861103,
          -10.52499962
         ],
         "line": {
          "color": "purple",
          "width": 1
         },
         "locationmode": "ISO-3",
         "lon": [
          -61.44722366,
          -62.64389038
         ],
         "mode": "lines",
         "type": "scattergeo",
         "uid": "3ff19d0a-0ba9-417b-a755-269421bdbd00"
        },
        {
         "lat": [
          -11.43861103,
          -11.90805531
         ],
         "line": {
          "color": "purple",
          "width": 1
         },
         "locationmode": "ISO-3",
         "lon": [
          -61.44722366,
          -61.778888699999996
         ],
         "mode": "lines",
         "type": "scattergeo",
         "uid": "cda800e8-a8d4-4f07-b30c-735da08e19b1"
        },
        {
         "lat": [
          -11.43861103,
          -11.79805565
         ],
         "line": {
          "color": "purple",
          "width": 1
         },
         "locationmode": "ISO-3",
         "lon": [
          -61.44722366,
          -63.03111267
         ],
         "mode": "lines",
         "type": "scattergeo",
         "uid": "bd5bae05-9261-459b-a6af-ab699baf79f8"
        },
        {
         "lat": [
          -11.43861103,
          -11.79805565
         ],
         "line": {
          "color": "purple",
          "width": 1
         },
         "locationmode": "ISO-3",
         "lon": [
          -61.44722366,
          -63.03111267
         ],
         "mode": "lines",
         "type": "scattergeo",
         "uid": "5251d505-09ef-4d3c-bcec-fd2f6ff64ce3"
        },
        {
         "lat": [
          -11.43861103,
          -11.43861103
         ],
         "line": {
          "color": "purple",
          "width": 1
         },
         "locationmode": "ISO-3",
         "lon": [
          -61.44722366,
          -61.44722366
         ],
         "mode": "lines",
         "type": "scattergeo",
         "uid": "1d7e42ef-94b7-43c0-a6ef-d48f7bd42512"
        },
        {
         "lat": [
          -11.43861103,
          -11.71972179
         ],
         "line": {
          "color": "purple",
          "width": 1
         },
         "locationmode": "ISO-3",
         "lon": [
          -61.44722366,
          -62.31583405
         ],
         "mode": "lines",
         "type": "scattergeo",
         "uid": "cc1d04df-1066-440f-ad8c-8593b440d0fc"
        },
        {
         "lat": [
          -11.43861103,
          -11.79805565
         ],
         "line": {
          "color": "purple",
          "width": 1
         },
         "locationmode": "ISO-3",
         "lon": [
          -61.44722366,
          -63.03111267
         ],
         "mode": "lines",
         "type": "scattergeo",
         "uid": "324c4eed-eddf-4162-af7c-9328991e0aeb"
        },
        {
         "lat": [
          -11.43861103,
          -11.696389199999999
         ],
         "line": {
          "color": "purple",
          "width": 1
         },
         "locationmode": "ISO-3",
         "lon": [
          -61.44722366,
          -61.99472046
         ],
         "mode": "lines",
         "type": "scattergeo",
         "uid": "5bdc0ae3-dd69-4a05-b730-30f3bd6c534d"
        },
        {
         "lat": [
          -11.43861103,
          -11.79805565
         ],
         "line": {
          "color": "purple",
          "width": 1
         },
         "locationmode": "ISO-3",
         "lon": [
          -61.44722366,
          -63.03111267
         ],
         "mode": "lines",
         "type": "scattergeo",
         "uid": "4d07e1b4-5b0d-422c-8f85-36b7ecf66956"
        },
        {
         "lat": [
          -11.43861103,
          -11.79805565
         ],
         "line": {
          "color": "purple",
          "width": 1
         },
         "locationmode": "ISO-3",
         "lon": [
          -61.44722366,
          -63.03111267
         ],
         "mode": "lines",
         "type": "scattergeo",
         "uid": "c8340ffe-dea3-417b-a4f7-e315e4e82c73"
        },
        {
         "lat": [
          -11.43861103,
          -11.90250015
         ],
         "line": {
          "color": "purple",
          "width": 1
         },
         "locationmode": "ISO-3",
         "lon": [
          -61.44722366,
          -61.50222397
         ],
         "mode": "lines",
         "type": "scattergeo",
         "uid": "9fa85ec4-d9db-4c12-bd34-48b0a463652e"
        },
        {
         "lat": [
          -11.43861103,
          -11.43861103
         ],
         "line": {
          "color": "purple",
          "width": 1
         },
         "locationmode": "ISO-3",
         "lon": [
          -61.44722366,
          -61.44722366
         ],
         "mode": "lines",
         "type": "scattergeo",
         "uid": "34837dc4-864c-401c-8d79-3cf620f78ad1"
        },
        {
         "lat": [
          -11.43861103,
          -11.79805565
         ],
         "line": {
          "color": "purple",
          "width": 1
         },
         "locationmode": "ISO-3",
         "lon": [
          -61.44722366,
          -63.03111267
         ],
         "mode": "lines",
         "type": "scattergeo",
         "uid": "a83df582-a574-4a8d-8f1c-51319679e22d"
        },
        {
         "lat": [
          -11.43861103,
          -11.43861103
         ],
         "line": {
          "color": "purple",
          "width": 1
         },
         "locationmode": "ISO-3",
         "lon": [
          -61.44722366,
          -61.44722366
         ],
         "mode": "lines",
         "type": "scattergeo",
         "uid": "0cbf8d4a-4831-492f-afe4-c202f85f58bc"
        },
        {
         "lat": [
          -11.43861103,
          -21.71416664
         ],
         "line": {
          "color": "purple",
          "width": 1
         },
         "locationmode": "ISO-3",
         "lon": [
          -61.44722366,
          -52.42222214
         ],
         "mode": "lines",
         "type": "scattergeo",
         "uid": "ed487e9b-6c52-45c2-9b44-5ee7caa43fe6"
        },
        {
         "lat": [
          -8.761944771,
          -11.96805573,
          -10.29444408,
          -9.913332939,
          -10.52499962,
          -14.454722400000001,
          -15.56305599,
          -1.4466667180000001,
          -9.913332939,
          -9.913332939,
          -24.06583405,
          -8.809721947,
          -9.443888664,
          -9.913332939,
          -10.33916664,
          -10.33916664,
          -9.913332939,
          -9.704999924,
          -9.913332939,
          -9.713055611,
          -10.29444408,
          -9.704999924,
          -9.713055611,
          -9.913332939,
          -9.36277771,
          -10.33916664,
          -9.713055611,
          -10.29444408,
          -9.704999924,
          -9.913332939,
          -9.443888664,
          -9.704999924,
          -10.33916664,
          -10.31805515,
          -10.33916664,
          -10.29444408,
          -9.443888664,
          -9.913332939,
          -9.443888664,
          1.007500052,
          -9.36277771,
          -10.33916664,
          -8.838889122000001,
          -7.147777557,
          -9.913332939,
          -8.761944771,
          -10.29444408,
          -9.36277771,
          -9.36277771,
          -13.49777794,
          -13.49777794,
          -13.48250008,
          -25.44972229,
          -11.43861103,
          -9.933610916000001,
          -24.1847229,
          -10.21166706,
          -12.05222225,
          -11.43861103,
          -11.524722099999998,
          -11.41749954,
          -11.43861103,
          -11.90805531,
          -11.96805573,
          -13.02583313,
          -10.88527775,
          -11.803610800000001,
          -11.17527771,
          -11.43861103,
          -11.803610800000001,
          -11.43861103,
          -11.803610800000001,
          -11.43861103,
          -11.17527771,
          -12.55222225,
          -12.19611073,
          -9.913332939,
          -9.36277771,
          -11.43861103,
          -11.43861103,
          -11.43861103,
          -11.90805531,
          -7.197222233,
          -11.69361115,
          -10.40194416,
          -11.90250015,
          -10.52499962,
          -11.90805531,
          -11.79805565,
          -11.79805565,
          -11.43861103,
          -11.71972179,
          -11.79805565,
          -11.696389199999999,
          -11.79805565,
          -11.79805565,
          -11.90250015,
          -11.43861103,
          -11.79805565,
          -11.43861103,
          -21.71416664,
          -11.96805573,
          -11.96805573,
          -9.913332939,
          -9.913332939,
          -9.913332939,
          -9.913332939,
          -9.913332939,
          -9.913332939,
          -9.913332939,
          -9.913332939,
          -9.913332939,
          -9.913332939,
          -9.913332939,
          -9.913332939,
          -9.913332939,
          -9.913332939,
          -9.913332939,
          -9.913332939,
          -9.913332939,
          -9.913332939,
          -9.913332939,
          -9.913332939,
          -9.913332939,
          -9.913332939,
          -9.913332939,
          -9.913332939,
          -9.913332939,
          -9.913332939,
          -9.913332939,
          -9.913332939,
          -9.913332939,
          -9.913332939,
          -9.913332939,
          -9.913332939,
          -9.913332939,
          -9.913332939,
          -9.913332939,
          -9.913332939,
          -9.913332939,
          -9.913332939,
          -9.913332939,
          -9.913332939,
          -9.913332939,
          -9.913332939,
          -9.913332939,
          -9.913332939,
          -9.913332939,
          -9.913332939,
          -9.913332939,
          -13.49777794,
          -13.49777794,
          -13.49777794,
          -11.43861103,
          -11.43861103,
          -11.43861103,
          -11.43861103,
          -11.43861103,
          -11.43861103,
          -11.43861103,
          -11.43861103,
          -11.43861103,
          -11.43861103,
          -11.43861103,
          -11.43861103,
          -11.43861103,
          -11.43861103,
          -11.43861103,
          -11.43861103,
          -11.43861103,
          -11.43861103,
          -11.43861103,
          -11.43861103,
          -11.43861103,
          -11.43861103,
          -11.43861103,
          -11.43861103,
          -11.43861103,
          -11.43861103,
          -11.43861103,
          -11.43861103,
          -11.43861103,
          -11.43861103,
          -11.43861103,
          -11.43861103,
          -11.43861103,
          -11.43861103,
          -11.43861103,
          -11.43861103,
          -11.43861103,
          -11.43861103,
          -11.43861103,
          -11.43861103,
          -11.43861103,
          -11.43861103,
          -11.43861103,
          -11.43861103,
          -11.43861103,
          -11.43861103,
          -11.43861103,
          -11.43861103,
          -11.43861103
         ],
         "locationmode": "ISO-3",
         "lon": [
          -63.903888699999996,
          -61.95416641,
          -63.32527924,
          -63.04083252,
          -62.64389038,
          -56.80277634,
          -39.30250168,
          -45.71666718,
          -63.04083252,
          -63.04083252,
          -53.84777832,
          -63.69555664,
          -61.98138809,
          -63.04083252,
          -62.89527893,
          -62.89527893,
          -63.04083252,
          -62.89972305,
          -63.04083252,
          -63.32083511,
          -63.32527924,
          -62.89972305,
          -63.32083511,
          -63.04083252,
          -62.58527756,
          -62.89527893,
          -63.32083511,
          -63.32527924,
          -62.89972305,
          -63.04083252,
          -61.98138809,
          -62.89972305,
          -62.89527893,
          -58.35889053,
          -62.89527893,
          -63.32527924,
          -61.98138809,
          -63.04083252,
          -61.98138809,
          -60.01750183,
          -62.58527756,
          -62.89527893,
          -69.25971985,
          -55.38111115,
          -63.04083252,
          -63.903888699999996,
          -63.32527924,
          -62.58527756,
          -62.58527756,
          -60.55416489,
          -60.55416489,
          -61.04666519,
          -52.90805435,
          -61.44722366,
          -36.55416489,
          -53.02750015,
          -63.82860947,
          -63.56750107,
          -61.44722366,
          -61.01277924,
          -61.93861008,
          -61.44722366,
          -61.778888699999996,
          -61.95416641,
          -57.07389069,
          -61.95166779,
          -61.80333328,
          -61.90139008,
          -61.44722366,
          -61.80333328,
          -61.44722366,
          -61.80333328,
          -61.44722366,
          -61.90139008,
          -60.89972305,
          -61.60138702,
          -63.04083252,
          -62.58527756,
          -61.44722366,
          -61.44722366,
          -61.44722366,
          -61.778888699999996,
          -59.89138794,
          -62.71138763,
          -65.32666779,
          -61.50222397,
          -62.64389038,
          -61.778888699999996,
          -63.03111267,
          -63.03111267,
          -61.44722366,
          -62.31583405,
          -63.03111267,
          -61.99472046,
          -63.03111267,
          -63.03111267,
          -61.50222397,
          -61.44722366,
          -63.03111267,
          -61.44722366,
          -52.42222214,
          -61.95416641,
          -61.95416641,
          -63.04083252,
          -63.04083252,
          -63.04083252,
          -63.04083252,
          -63.04083252,
          -63.04083252,
          -63.04083252,
          -63.04083252,
          -63.04083252,
          -63.04083252,
          -63.04083252,
          -63.04083252,
          -63.04083252,
          -63.04083252,
          -63.04083252,
          -63.04083252,
          -63.04083252,
          -63.04083252,
          -63.04083252,
          -63.04083252,
          -63.04083252,
          -63.04083252,
          -63.04083252,
          -63.04083252,
          -63.04083252,
          -63.04083252,
          -63.04083252,
          -63.04083252,
          -63.04083252,
          -63.04083252,
          -63.04083252,
          -63.04083252,
          -63.04083252,
          -63.04083252,
          -63.04083252,
          -63.04083252,
          -63.04083252,
          -63.04083252,
          -63.04083252,
          -63.04083252,
          -63.04083252,
          -63.04083252,
          -63.04083252,
          -63.04083252,
          -63.04083252,
          -63.04083252,
          -63.04083252,
          -60.55416489,
          -60.55416489,
          -60.55416489,
          -61.44722366,
          -61.44722366,
          -61.44722366,
          -61.44722366,
          -61.44722366,
          -61.44722366,
          -61.44722366,
          -61.44722366,
          -61.44722366,
          -61.44722366,
          -61.44722366,
          -61.44722366,
          -61.44722366,
          -61.44722366,
          -61.44722366,
          -61.44722366,
          -61.44722366,
          -61.44722366,
          -61.44722366,
          -61.44722366,
          -61.44722366,
          -61.44722366,
          -61.44722366,
          -61.44722366,
          -61.44722366,
          -61.44722366,
          -61.44722366,
          -61.44722366,
          -61.44722366,
          -61.44722366,
          -61.44722366,
          -61.44722366,
          -61.44722366,
          -61.44722366,
          -61.44722366,
          -61.44722366,
          -61.44722366,
          -61.44722366,
          -61.44722366,
          -61.44722366,
          -61.44722366,
          -61.44722366,
          -61.44722366,
          -61.44722366,
          -61.44722366,
          -61.44722366,
          -61.44722366,
          -61.44722366,
          -61.44722366
         ],
         "marker": {
          "color": "rgb(80, 0, 0)",
          "line": {
           "color": "rgba(68, 68, 68, 0)",
           "width": 3
          },
          "size": 4
         },
         "mode": "markers",
         "type": "scattergeo",
         "uid": "4ff06fbd-c8c3-4ae6-a17e-bbe84a4dcded"
        }
       ],
       "layout": {
        "geo": {
         "countrycolor": "rgb(160, 160, 204)",
         "landcolor": "rgb(180, 180, 190)",
         "projection": {
          "type": "azimuthal equal area"
         },
         "scope": "south america",
         "showland": true
        },
        "showlegend": false,
        "title": {
         "text": "The Movement of Candidates on South America Map"
        }
       }
      },
      "text/html": [
       "<div id=\"ef8d6ef7-1bad-4341-b509-e14040ad5177\" style=\"height: 525px; width: 100%;\" class=\"plotly-graph-div\"></div><script type=\"text/javascript\">require([\"plotly\"], function(Plotly) { window.PLOTLYENV=window.PLOTLYENV || {};window.PLOTLYENV.BASE_URL=\"https://plot.ly\";Plotly.newPlot(\"ef8d6ef7-1bad-4341-b509-e14040ad5177\", [{\"lat\": [-11.96805573, -8.761944771], \"line\": {\"color\": \"purple\", \"width\": 1}, \"locationmode\": \"ISO-3\", \"lon\": [-61.95416641, -63.903888699999996], \"mode\": \"lines\", \"type\": \"scattergeo\", \"uid\": \"130e6712-0174-4d35-9647-d95f698f6d65\"}, {\"lat\": [-11.96805573, -11.96805573], \"line\": {\"color\": \"purple\", \"width\": 1}, \"locationmode\": \"ISO-3\", \"lon\": [-61.95416641, -61.95416641], \"mode\": \"lines\", \"type\": \"scattergeo\", \"uid\": \"1d5c6993-baf3-4836-acac-ff8140d0abdf\"}, {\"lat\": [-9.913332939, -10.29444408], \"line\": {\"color\": \"purple\", \"width\": 1}, \"locationmode\": \"ISO-3\", \"lon\": [-63.04083252, -63.32527924], \"mode\": \"lines\", \"type\": \"scattergeo\", \"uid\": \"214115ca-a535-4df9-a5dc-5d76749fb7a0\"}, {\"lat\": [-9.913332939, -9.913332939], \"line\": {\"color\": \"purple\", \"width\": 1}, \"locationmode\": \"ISO-3\", \"lon\": [-63.04083252, -63.04083252], \"mode\": \"lines\", \"type\": \"scattergeo\", \"uid\": \"5314473b-9930-4b7f-8aff-291738322595\"}, {\"lat\": [-9.913332939, -10.52499962], \"line\": {\"color\": \"purple\", \"width\": 1}, \"locationmode\": \"ISO-3\", \"lon\": [-63.04083252, -62.64389038], \"mode\": \"lines\", \"type\": \"scattergeo\", \"uid\": \"bd268b87-1457-4658-a644-7502c0676bea\"}, {\"lat\": [-9.913332939, -14.454722400000001], \"line\": {\"color\": \"purple\", \"width\": 1}, \"locationmode\": \"ISO-3\", \"lon\": [-63.04083252, -56.80277634], \"mode\": \"lines\", \"type\": \"scattergeo\", \"uid\": \"04719059-18cf-4a08-963c-ef5275ff6128\"}, {\"lat\": [-9.913332939, -15.56305599], \"line\": {\"color\": \"purple\", \"width\": 1}, \"locationmode\": \"ISO-3\", \"lon\": [-63.04083252, -39.30250168], \"mode\": \"lines\", \"type\": \"scattergeo\", \"uid\": \"1d0c31a4-36f3-42f4-a4a2-0159e88ee061\"}, {\"lat\": [-9.913332939, -1.4466667180000001], \"line\": {\"color\": \"purple\", \"width\": 1}, \"locationmode\": \"ISO-3\", \"lon\": [-63.04083252, -45.71666718], \"mode\": \"lines\", \"type\": \"scattergeo\", \"uid\": \"74317bf2-292b-4904-9303-3728fb3ad920\"}, {\"lat\": [-9.913332939, -9.913332939], \"line\": {\"color\": \"purple\", \"width\": 1}, \"locationmode\": \"ISO-3\", \"lon\": [-63.04083252, -63.04083252], \"mode\": \"lines\", \"type\": \"scattergeo\", \"uid\": \"fee327b7-680a-4fa6-8d8d-54321fd28c13\"}, {\"lat\": [-9.913332939, -9.913332939], \"line\": {\"color\": \"purple\", \"width\": 1}, \"locationmode\": \"ISO-3\", \"lon\": [-63.04083252, -63.04083252], \"mode\": \"lines\", \"type\": \"scattergeo\", \"uid\": \"08f3e8f5-35ba-4e16-9912-1d877732fc47\"}, {\"lat\": [-9.913332939, -24.06583405], \"line\": {\"color\": \"purple\", \"width\": 1}, \"locationmode\": \"ISO-3\", \"lon\": [-63.04083252, -53.84777832], \"mode\": \"lines\", \"type\": \"scattergeo\", \"uid\": \"91550ad1-d60a-4db7-adcc-577b82b03dd5\"}, {\"lat\": [-9.913332939, -8.809721947], \"line\": {\"color\": \"purple\", \"width\": 1}, \"locationmode\": \"ISO-3\", \"lon\": [-63.04083252, -63.69555664], \"mode\": \"lines\", \"type\": \"scattergeo\", \"uid\": \"a83d18bd-a23c-46e0-a514-4fac95ec19ae\"}, {\"lat\": [-9.913332939, -9.443888664], \"line\": {\"color\": \"purple\", \"width\": 1}, \"locationmode\": \"ISO-3\", \"lon\": [-63.04083252, -61.98138809], \"mode\": \"lines\", \"type\": \"scattergeo\", \"uid\": \"e619d638-ad61-4b7d-8503-f51ffa996a96\"}, {\"lat\": [-9.913332939, -9.913332939], \"line\": {\"color\": \"purple\", \"width\": 1}, \"locationmode\": \"ISO-3\", \"lon\": [-63.04083252, -63.04083252], \"mode\": \"lines\", \"type\": \"scattergeo\", \"uid\": \"815e9518-292d-4b4d-85fd-0e9b81e3a7b2\"}, {\"lat\": [-9.913332939, -10.33916664], \"line\": {\"color\": \"purple\", \"width\": 1}, \"locationmode\": \"ISO-3\", \"lon\": [-63.04083252, -62.89527893], \"mode\": \"lines\", \"type\": \"scattergeo\", \"uid\": \"3f719f31-4207-4479-be84-bbd368526bde\"}, {\"lat\": [-9.913332939, -10.33916664], \"line\": {\"color\": \"purple\", \"width\": 1}, \"locationmode\": \"ISO-3\", \"lon\": [-63.04083252, -62.89527893], \"mode\": \"lines\", \"type\": \"scattergeo\", \"uid\": \"c1244367-b1ba-430e-9793-59659d58feb6\"}, {\"lat\": [-9.913332939, -9.913332939], \"line\": {\"color\": \"purple\", \"width\": 1}, \"locationmode\": \"ISO-3\", \"lon\": [-63.04083252, -63.04083252], \"mode\": \"lines\", \"type\": \"scattergeo\", \"uid\": \"17f92f6a-a1e6-4fa5-9367-77160c473c28\"}, {\"lat\": [-9.913332939, -9.704999924], \"line\": {\"color\": \"purple\", \"width\": 1}, \"locationmode\": \"ISO-3\", \"lon\": [-63.04083252, -62.89972305], \"mode\": \"lines\", \"type\": \"scattergeo\", \"uid\": \"7fea6100-fd8d-44f4-829f-30cccdaa3d31\"}, {\"lat\": [-9.913332939, -9.913332939], \"line\": {\"color\": \"purple\", \"width\": 1}, \"locationmode\": \"ISO-3\", \"lon\": [-63.04083252, -63.04083252], \"mode\": \"lines\", \"type\": \"scattergeo\", \"uid\": \"25830782-075b-4b91-8eed-8a7268705414\"}, {\"lat\": [-9.913332939, -9.713055611], \"line\": {\"color\": \"purple\", \"width\": 1}, \"locationmode\": \"ISO-3\", \"lon\": [-63.04083252, -63.32083511], \"mode\": \"lines\", \"type\": \"scattergeo\", \"uid\": \"d7ad963f-4c07-430a-86cb-00987a3450bb\"}, {\"lat\": [-9.913332939, -10.29444408], \"line\": {\"color\": \"purple\", \"width\": 1}, \"locationmode\": \"ISO-3\", \"lon\": [-63.04083252, -63.32527924], \"mode\": \"lines\", \"type\": \"scattergeo\", \"uid\": \"61641446-53e7-4081-be2e-578f355268bb\"}, {\"lat\": [-9.913332939, -9.704999924], \"line\": {\"color\": \"purple\", \"width\": 1}, \"locationmode\": \"ISO-3\", \"lon\": [-63.04083252, -62.89972305], \"mode\": \"lines\", \"type\": \"scattergeo\", \"uid\": \"3a8f64d8-9789-4e13-b348-f22b73903715\"}, {\"lat\": [-9.913332939, -9.713055611], \"line\": {\"color\": \"purple\", \"width\": 1}, \"locationmode\": \"ISO-3\", \"lon\": [-63.04083252, -63.32083511], \"mode\": \"lines\", \"type\": \"scattergeo\", \"uid\": \"d8e736ea-64a1-4176-b3fd-59b6e0db6404\"}, {\"lat\": [-9.913332939, -9.913332939], \"line\": {\"color\": \"purple\", \"width\": 1}, \"locationmode\": \"ISO-3\", \"lon\": [-63.04083252, -63.04083252], \"mode\": \"lines\", \"type\": \"scattergeo\", \"uid\": \"d45815d8-5718-421f-8967-79574d5b4438\"}, {\"lat\": [-9.913332939, -9.36277771], \"line\": {\"color\": \"purple\", \"width\": 1}, \"locationmode\": \"ISO-3\", \"lon\": [-63.04083252, -62.58527756], \"mode\": \"lines\", \"type\": \"scattergeo\", \"uid\": \"87ef05f6-e698-4416-99e7-1b6a42a9e327\"}, {\"lat\": [-9.913332939, -10.33916664], \"line\": {\"color\": \"purple\", \"width\": 1}, \"locationmode\": \"ISO-3\", \"lon\": [-63.04083252, -62.89527893], \"mode\": \"lines\", \"type\": \"scattergeo\", \"uid\": \"ca2000ae-51b8-45b7-9d2a-17580ad8486a\"}, {\"lat\": [-9.913332939, -9.713055611], \"line\": {\"color\": \"purple\", \"width\": 1}, \"locationmode\": \"ISO-3\", \"lon\": [-63.04083252, -63.32083511], \"mode\": \"lines\", \"type\": \"scattergeo\", \"uid\": \"7843c449-b8a5-4d00-bc71-5abab2db0035\"}, {\"lat\": [-9.913332939, -10.29444408], \"line\": {\"color\": \"purple\", \"width\": 1}, \"locationmode\": \"ISO-3\", \"lon\": [-63.04083252, -63.32527924], \"mode\": \"lines\", \"type\": \"scattergeo\", \"uid\": \"5ee6358d-d8e8-488f-9244-dceb6ba68775\"}, {\"lat\": [-9.913332939, -9.704999924], \"line\": {\"color\": \"purple\", \"width\": 1}, \"locationmode\": \"ISO-3\", \"lon\": [-63.04083252, -62.89972305], \"mode\": \"lines\", \"type\": \"scattergeo\", \"uid\": \"7ef22875-f9ad-4d0d-908e-81bc098c1b80\"}, {\"lat\": [-9.913332939, -9.913332939], \"line\": {\"color\": \"purple\", \"width\": 1}, \"locationmode\": \"ISO-3\", \"lon\": [-63.04083252, -63.04083252], \"mode\": \"lines\", \"type\": \"scattergeo\", \"uid\": \"9871434f-1133-4b6c-a919-6b742a3009f5\"}, {\"lat\": [-9.913332939, -9.443888664], \"line\": {\"color\": \"purple\", \"width\": 1}, \"locationmode\": \"ISO-3\", \"lon\": [-63.04083252, -61.98138809], \"mode\": \"lines\", \"type\": \"scattergeo\", \"uid\": \"3e27a2fb-16e3-4cf4-9e22-5b27accc1c06\"}, {\"lat\": [-9.913332939, -9.704999924], \"line\": {\"color\": \"purple\", \"width\": 1}, \"locationmode\": \"ISO-3\", \"lon\": [-63.04083252, -62.89972305], \"mode\": \"lines\", \"type\": \"scattergeo\", \"uid\": \"463ea215-ab99-4acf-a74f-b128bea18c67\"}, {\"lat\": [-9.913332939, -10.33916664], \"line\": {\"color\": \"purple\", \"width\": 1}, \"locationmode\": \"ISO-3\", \"lon\": [-63.04083252, -62.89527893], \"mode\": \"lines\", \"type\": \"scattergeo\", \"uid\": \"4262b44b-0fab-4e88-9403-4102c74c6221\"}, {\"lat\": [-9.913332939, -10.31805515], \"line\": {\"color\": \"purple\", \"width\": 1}, \"locationmode\": \"ISO-3\", \"lon\": [-63.04083252, -58.35889053], \"mode\": \"lines\", \"type\": \"scattergeo\", \"uid\": \"e2736450-4995-4878-bd7b-d91f45569bf0\"}, {\"lat\": [-9.913332939, -10.33916664], \"line\": {\"color\": \"purple\", \"width\": 1}, \"locationmode\": \"ISO-3\", \"lon\": [-63.04083252, -62.89527893], \"mode\": \"lines\", \"type\": \"scattergeo\", \"uid\": \"df814b10-f67b-4fd4-98e7-d38c33ab565c\"}, {\"lat\": [-9.913332939, -10.29444408], \"line\": {\"color\": \"purple\", \"width\": 1}, \"locationmode\": \"ISO-3\", \"lon\": [-63.04083252, -63.32527924], \"mode\": \"lines\", \"type\": \"scattergeo\", \"uid\": \"a1794e8c-880e-4de8-87dd-75762d64b22a\"}, {\"lat\": [-9.913332939, -9.443888664], \"line\": {\"color\": \"purple\", \"width\": 1}, \"locationmode\": \"ISO-3\", \"lon\": [-63.04083252, -61.98138809], \"mode\": \"lines\", \"type\": \"scattergeo\", \"uid\": \"43238529-403b-4c74-9c8b-57a7acea6306\"}, {\"lat\": [-9.913332939, -9.913332939], \"line\": {\"color\": \"purple\", \"width\": 1}, \"locationmode\": \"ISO-3\", \"lon\": [-63.04083252, -63.04083252], \"mode\": \"lines\", \"type\": \"scattergeo\", \"uid\": \"44d58cae-9077-42d8-98cd-0438cdb97259\"}, {\"lat\": [-9.913332939, -9.443888664], \"line\": {\"color\": \"purple\", \"width\": 1}, \"locationmode\": \"ISO-3\", \"lon\": [-63.04083252, -61.98138809], \"mode\": \"lines\", \"type\": \"scattergeo\", \"uid\": \"c44bcfd2-b672-4e23-afd6-7378bed00f0c\"}, {\"lat\": [-9.913332939, 1.007500052], \"line\": {\"color\": \"purple\", \"width\": 1}, \"locationmode\": \"ISO-3\", \"lon\": [-63.04083252, -60.01750183], \"mode\": \"lines\", \"type\": \"scattergeo\", \"uid\": \"527b6d16-ddaa-4961-9a1f-9bd5acf58e35\"}, {\"lat\": [-9.913332939, -9.36277771], \"line\": {\"color\": \"purple\", \"width\": 1}, \"locationmode\": \"ISO-3\", \"lon\": [-63.04083252, -62.58527756], \"mode\": \"lines\", \"type\": \"scattergeo\", \"uid\": \"f444d7b4-16cb-4340-a69d-d9dad3997da5\"}, {\"lat\": [-9.913332939, -10.33916664], \"line\": {\"color\": \"purple\", \"width\": 1}, \"locationmode\": \"ISO-3\", \"lon\": [-63.04083252, -62.89527893], \"mode\": \"lines\", \"type\": \"scattergeo\", \"uid\": \"fa425461-ddb2-4bd7-ba92-6e1726f4b68b\"}, {\"lat\": [-9.913332939, -8.838889122000001], \"line\": {\"color\": \"purple\", \"width\": 1}, \"locationmode\": \"ISO-3\", \"lon\": [-63.04083252, -69.25971985], \"mode\": \"lines\", \"type\": \"scattergeo\", \"uid\": \"e28a4a0c-6483-4d0e-b050-f4a69d312132\"}, {\"lat\": [-9.913332939, -7.147777557], \"line\": {\"color\": \"purple\", \"width\": 1}, \"locationmode\": \"ISO-3\", \"lon\": [-63.04083252, -55.38111115], \"mode\": \"lines\", \"type\": \"scattergeo\", \"uid\": \"0c91aff9-55fc-4fc9-a652-5a62987282a9\"}, {\"lat\": [-9.913332939, -9.913332939], \"line\": {\"color\": \"purple\", \"width\": 1}, \"locationmode\": \"ISO-3\", \"lon\": [-63.04083252, -63.04083252], \"mode\": \"lines\", \"type\": \"scattergeo\", \"uid\": \"1e6bbb4e-52c8-46ff-8738-eee050b8781f\"}, {\"lat\": [-9.913332939, -8.761944771], \"line\": {\"color\": \"purple\", \"width\": 1}, \"locationmode\": \"ISO-3\", \"lon\": [-63.04083252, -63.903888699999996], \"mode\": \"lines\", \"type\": \"scattergeo\", \"uid\": \"dddc0123-3e25-4615-9f01-cc2268b56e37\"}, {\"lat\": [-9.913332939, -10.29444408], \"line\": {\"color\": \"purple\", \"width\": 1}, \"locationmode\": \"ISO-3\", \"lon\": [-63.04083252, -63.32527924], \"mode\": \"lines\", \"type\": \"scattergeo\", \"uid\": \"f488d324-e683-4901-9add-7f85cdcf9d7f\"}, {\"lat\": [-9.913332939, -9.36277771], \"line\": {\"color\": \"purple\", \"width\": 1}, \"locationmode\": \"ISO-3\", \"lon\": [-63.04083252, -62.58527756], \"mode\": \"lines\", \"type\": \"scattergeo\", \"uid\": \"8d1454f6-2591-4037-99af-49b51842c535\"}, {\"lat\": [-9.913332939, -9.36277771], \"line\": {\"color\": \"purple\", \"width\": 1}, \"locationmode\": \"ISO-3\", \"lon\": [-63.04083252, -62.58527756], \"mode\": \"lines\", \"type\": \"scattergeo\", \"uid\": \"95457a93-67e9-47e2-a862-6e17fe8ad27d\"}, {\"lat\": [-13.49777794, -13.49777794], \"line\": {\"color\": \"purple\", \"width\": 1}, \"locationmode\": \"ISO-3\", \"lon\": [-60.55416489, -60.55416489], \"mode\": \"lines\", \"type\": \"scattergeo\", \"uid\": \"b1534f40-df85-4460-9545-8827d428bad2\"}, {\"lat\": [-13.49777794, -13.49777794], \"line\": {\"color\": \"purple\", \"width\": 1}, \"locationmode\": \"ISO-3\", \"lon\": [-60.55416489, -60.55416489], \"mode\": \"lines\", \"type\": \"scattergeo\", \"uid\": \"45aade7b-1ef0-4da3-879e-16b20a7b4ff3\"}, {\"lat\": [-13.49777794, -13.48250008], \"line\": {\"color\": \"purple\", \"width\": 1}, \"locationmode\": \"ISO-3\", \"lon\": [-60.55416489, -61.04666519], \"mode\": \"lines\", \"type\": \"scattergeo\", \"uid\": \"617402be-58b4-4742-92ec-0567318a4c1e\"}, {\"lat\": [-11.43861103, -25.44972229], \"line\": {\"color\": \"purple\", \"width\": 1}, \"locationmode\": \"ISO-3\", \"lon\": [-61.44722366, -52.90805435], \"mode\": \"lines\", \"type\": \"scattergeo\", \"uid\": \"bc84a1a8-a69c-4d8d-991e-3b644897aeb4\"}, {\"lat\": [-11.43861103, -11.43861103], \"line\": {\"color\": \"purple\", \"width\": 1}, \"locationmode\": \"ISO-3\", \"lon\": [-61.44722366, -61.44722366], \"mode\": \"lines\", \"type\": \"scattergeo\", \"uid\": \"512de178-90e8-40f5-8f99-5c4ee41b6c54\"}, {\"lat\": [-11.43861103, -9.933610916000001], \"line\": {\"color\": \"purple\", \"width\": 1}, \"locationmode\": \"ISO-3\", \"lon\": [-61.44722366, -36.55416489], \"mode\": \"lines\", \"type\": \"scattergeo\", \"uid\": \"176a365b-b433-4aef-982b-cf5647f55189\"}, {\"lat\": [-11.43861103, -24.1847229], \"line\": {\"color\": \"purple\", \"width\": 1}, \"locationmode\": \"ISO-3\", \"lon\": [-61.44722366, -53.02750015], \"mode\": \"lines\", \"type\": \"scattergeo\", \"uid\": \"4e8b0b5c-3d79-498f-8762-7e488b36e424\"}, {\"lat\": [-11.43861103, -10.21166706], \"line\": {\"color\": \"purple\", \"width\": 1}, \"locationmode\": \"ISO-3\", \"lon\": [-61.44722366, -63.82860947], \"mode\": \"lines\", \"type\": \"scattergeo\", \"uid\": \"1fed5867-3963-416d-925e-ee000b3c9fe1\"}, {\"lat\": [-11.43861103, -12.05222225], \"line\": {\"color\": \"purple\", \"width\": 1}, \"locationmode\": \"ISO-3\", \"lon\": [-61.44722366, -63.56750107], \"mode\": \"lines\", \"type\": \"scattergeo\", \"uid\": \"d6ec892d-e77c-4639-a654-815a50d01556\"}, {\"lat\": [-11.43861103, -11.43861103], \"line\": {\"color\": \"purple\", \"width\": 1}, \"locationmode\": \"ISO-3\", \"lon\": [-61.44722366, -61.44722366], \"mode\": \"lines\", \"type\": \"scattergeo\", \"uid\": \"cdc3b20d-1efc-4379-89b9-22f9b7f54d07\"}, {\"lat\": [-11.43861103, -11.524722099999998], \"line\": {\"color\": \"purple\", \"width\": 1}, \"locationmode\": \"ISO-3\", \"lon\": [-61.44722366, -61.01277924], \"mode\": \"lines\", \"type\": \"scattergeo\", \"uid\": \"2edcb9bc-a9d0-464d-9dc0-1042840d05bc\"}, {\"lat\": [-11.43861103, -11.41749954], \"line\": {\"color\": \"purple\", \"width\": 1}, \"locationmode\": \"ISO-3\", \"lon\": [-61.44722366, -61.93861008], \"mode\": \"lines\", \"type\": \"scattergeo\", \"uid\": \"5081140d-4a65-49bd-a34c-18aadcae7bcc\"}, {\"lat\": [-11.43861103, -11.43861103], \"line\": {\"color\": \"purple\", \"width\": 1}, \"locationmode\": \"ISO-3\", \"lon\": [-61.44722366, -61.44722366], \"mode\": \"lines\", \"type\": \"scattergeo\", \"uid\": \"caa41c03-e0f4-4712-8b2c-642d196f85ec\"}, {\"lat\": [-11.43861103, -11.90805531], \"line\": {\"color\": \"purple\", \"width\": 1}, \"locationmode\": \"ISO-3\", \"lon\": [-61.44722366, -61.778888699999996], \"mode\": \"lines\", \"type\": \"scattergeo\", \"uid\": \"2edabcab-724e-4801-b891-fadbfebcd2da\"}, {\"lat\": [-11.43861103, -11.96805573], \"line\": {\"color\": \"purple\", \"width\": 1}, \"locationmode\": \"ISO-3\", \"lon\": [-61.44722366, -61.95416641], \"mode\": \"lines\", \"type\": \"scattergeo\", \"uid\": \"36f648ab-6f98-4267-9bce-b2aed4ca49af\"}, {\"lat\": [-11.43861103, -13.02583313], \"line\": {\"color\": \"purple\", \"width\": 1}, \"locationmode\": \"ISO-3\", \"lon\": [-61.44722366, -57.07389069], \"mode\": \"lines\", \"type\": \"scattergeo\", \"uid\": \"bd8bb830-a34d-4f1b-8867-98ea3a2ff0da\"}, {\"lat\": [-11.43861103, -10.88527775], \"line\": {\"color\": \"purple\", \"width\": 1}, \"locationmode\": \"ISO-3\", \"lon\": [-61.44722366, -61.95166779], \"mode\": \"lines\", \"type\": \"scattergeo\", \"uid\": \"c4088ef7-f991-48ab-9e3a-4b4644d3e5f0\"}, {\"lat\": [-11.43861103, -11.803610800000001], \"line\": {\"color\": \"purple\", \"width\": 1}, \"locationmode\": \"ISO-3\", \"lon\": [-61.44722366, -61.80333328], \"mode\": \"lines\", \"type\": \"scattergeo\", \"uid\": \"3ef17c34-b895-410e-8ba9-fd25aae12b4d\"}, {\"lat\": [-11.43861103, -11.17527771], \"line\": {\"color\": \"purple\", \"width\": 1}, \"locationmode\": \"ISO-3\", \"lon\": [-61.44722366, -61.90139008], \"mode\": \"lines\", \"type\": \"scattergeo\", \"uid\": \"c2ce9f12-8bef-46ff-b528-30f9c3742b8d\"}, {\"lat\": [-11.43861103, -11.43861103], \"line\": {\"color\": \"purple\", \"width\": 1}, \"locationmode\": \"ISO-3\", \"lon\": [-61.44722366, -61.44722366], \"mode\": \"lines\", \"type\": \"scattergeo\", \"uid\": \"4816e3a8-953a-4012-8f18-5565d9b3b8a1\"}, {\"lat\": [-11.43861103, -11.803610800000001], \"line\": {\"color\": \"purple\", \"width\": 1}, \"locationmode\": \"ISO-3\", \"lon\": [-61.44722366, -61.80333328], \"mode\": \"lines\", \"type\": \"scattergeo\", \"uid\": \"30e9b7b0-9b56-42f8-aaf4-2ef75dcecd66\"}, {\"lat\": [-11.43861103, -11.43861103], \"line\": {\"color\": \"purple\", \"width\": 1}, \"locationmode\": \"ISO-3\", \"lon\": [-61.44722366, -61.44722366], \"mode\": \"lines\", \"type\": \"scattergeo\", \"uid\": \"af7a366e-659c-400d-81f6-e36d5e3275c1\"}, {\"lat\": [-11.43861103, -11.803610800000001], \"line\": {\"color\": \"purple\", \"width\": 1}, \"locationmode\": \"ISO-3\", \"lon\": [-61.44722366, -61.80333328], \"mode\": \"lines\", \"type\": \"scattergeo\", \"uid\": \"9e90fc63-718d-44be-bf6b-e53250993d72\"}, {\"lat\": [-11.43861103, -11.43861103], \"line\": {\"color\": \"purple\", \"width\": 1}, \"locationmode\": \"ISO-3\", \"lon\": [-61.44722366, -61.44722366], \"mode\": \"lines\", \"type\": \"scattergeo\", \"uid\": \"3a8f4bbc-0f50-4d29-b63f-477b40edc27d\"}, {\"lat\": [-11.43861103, -11.17527771], \"line\": {\"color\": \"purple\", \"width\": 1}, \"locationmode\": \"ISO-3\", \"lon\": [-61.44722366, -61.90139008], \"mode\": \"lines\", \"type\": \"scattergeo\", \"uid\": \"94230439-0b95-4f29-9c1c-312d15b92a67\"}, {\"lat\": [-11.43861103, -12.55222225], \"line\": {\"color\": \"purple\", \"width\": 1}, \"locationmode\": \"ISO-3\", \"lon\": [-61.44722366, -60.89972305], \"mode\": \"lines\", \"type\": \"scattergeo\", \"uid\": \"3bab8e25-964e-4953-9d95-d791548d8a2e\"}, {\"lat\": [-11.43861103, -12.19611073], \"line\": {\"color\": \"purple\", \"width\": 1}, \"locationmode\": \"ISO-3\", \"lon\": [-61.44722366, -61.60138702], \"mode\": \"lines\", \"type\": \"scattergeo\", \"uid\": \"ccd4b7e1-fadd-4126-bd19-7efe50d6fef3\"}, {\"lat\": [-11.43861103, -9.913332939], \"line\": {\"color\": \"purple\", \"width\": 1}, \"locationmode\": \"ISO-3\", \"lon\": [-61.44722366, -63.04083252], \"mode\": \"lines\", \"type\": \"scattergeo\", \"uid\": \"a2ecd1b3-1da7-476d-8adb-129279b13c42\"}, {\"lat\": [-11.43861103, -9.36277771], \"line\": {\"color\": \"purple\", \"width\": 1}, \"locationmode\": \"ISO-3\", \"lon\": [-61.44722366, -62.58527756], \"mode\": \"lines\", \"type\": \"scattergeo\", \"uid\": \"12729b17-5f85-4ed3-9952-ef21d69366d7\"}, {\"lat\": [-11.43861103, -11.43861103], \"line\": {\"color\": \"purple\", \"width\": 1}, \"locationmode\": \"ISO-3\", \"lon\": [-61.44722366, -61.44722366], \"mode\": \"lines\", \"type\": \"scattergeo\", \"uid\": \"3aec29f6-245c-4428-83e5-9217aaed35a3\"}, {\"lat\": [-11.43861103, -11.43861103], \"line\": {\"color\": \"purple\", \"width\": 1}, \"locationmode\": \"ISO-3\", \"lon\": [-61.44722366, -61.44722366], \"mode\": \"lines\", \"type\": \"scattergeo\", \"uid\": \"cf06566f-44e8-4aca-a1f4-d2697f9e2e5a\"}, {\"lat\": [-11.43861103, -11.43861103], \"line\": {\"color\": \"purple\", \"width\": 1}, \"locationmode\": \"ISO-3\", \"lon\": [-61.44722366, -61.44722366], \"mode\": \"lines\", \"type\": \"scattergeo\", \"uid\": \"87a410fe-8937-4c16-a44d-d4a2a966db33\"}, {\"lat\": [-11.43861103, -11.90805531], \"line\": {\"color\": \"purple\", \"width\": 1}, \"locationmode\": \"ISO-3\", \"lon\": [-61.44722366, -61.778888699999996], \"mode\": \"lines\", \"type\": \"scattergeo\", \"uid\": \"6f776c9c-2fb3-43f5-b4e9-bf6fad7089e8\"}, {\"lat\": [-11.43861103, -7.197222233], \"line\": {\"color\": \"purple\", \"width\": 1}, \"locationmode\": \"ISO-3\", \"lon\": [-61.44722366, -59.89138794], \"mode\": \"lines\", \"type\": \"scattergeo\", \"uid\": \"fdfac47d-0e08-49e8-bb61-f662b2cd3164\"}, {\"lat\": [-11.43861103, -11.69361115], \"line\": {\"color\": \"purple\", \"width\": 1}, \"locationmode\": \"ISO-3\", \"lon\": [-61.44722366, -62.71138763], \"mode\": \"lines\", \"type\": \"scattergeo\", \"uid\": \"63ec5488-d298-4dc6-97c9-adbfdb0890c2\"}, {\"lat\": [-11.43861103, -10.40194416], \"line\": {\"color\": \"purple\", \"width\": 1}, \"locationmode\": \"ISO-3\", \"lon\": [-61.44722366, -65.32666779], \"mode\": \"lines\", \"type\": \"scattergeo\", \"uid\": \"da274c08-f77d-4b19-8ebb-36d859189a61\"}, {\"lat\": [-11.43861103, -11.90250015], \"line\": {\"color\": \"purple\", \"width\": 1}, \"locationmode\": \"ISO-3\", \"lon\": [-61.44722366, -61.50222397], \"mode\": \"lines\", \"type\": \"scattergeo\", \"uid\": \"5865e500-2418-4fa3-a076-625746fee61e\"}, {\"lat\": [-11.43861103, -10.52499962], \"line\": {\"color\": \"purple\", \"width\": 1}, \"locationmode\": \"ISO-3\", \"lon\": [-61.44722366, -62.64389038], \"mode\": \"lines\", \"type\": \"scattergeo\", \"uid\": \"f54bebd5-e992-46ff-8d07-cd2085e095d0\"}, {\"lat\": [-11.43861103, -11.90805531], \"line\": {\"color\": \"purple\", \"width\": 1}, \"locationmode\": \"ISO-3\", \"lon\": [-61.44722366, -61.778888699999996], \"mode\": \"lines\", \"type\": \"scattergeo\", \"uid\": \"91574f02-837f-4aa6-bdc9-49f80be77bef\"}, {\"lat\": [-11.43861103, -11.79805565], \"line\": {\"color\": \"purple\", \"width\": 1}, \"locationmode\": \"ISO-3\", \"lon\": [-61.44722366, -63.03111267], \"mode\": \"lines\", \"type\": \"scattergeo\", \"uid\": \"9964efb3-a3e6-4553-a1db-caeceb190880\"}, {\"lat\": [-11.43861103, -11.79805565], \"line\": {\"color\": \"purple\", \"width\": 1}, \"locationmode\": \"ISO-3\", \"lon\": [-61.44722366, -63.03111267], \"mode\": \"lines\", \"type\": \"scattergeo\", \"uid\": \"15a5e64b-aef2-4ece-a38c-9e1624438bcb\"}, {\"lat\": [-11.43861103, -11.43861103], \"line\": {\"color\": \"purple\", \"width\": 1}, \"locationmode\": \"ISO-3\", \"lon\": [-61.44722366, -61.44722366], \"mode\": \"lines\", \"type\": \"scattergeo\", \"uid\": \"d2b84746-dac2-468f-8ea0-4f15fb2cb2e3\"}, {\"lat\": [-11.43861103, -11.71972179], \"line\": {\"color\": \"purple\", \"width\": 1}, \"locationmode\": \"ISO-3\", \"lon\": [-61.44722366, -62.31583405], \"mode\": \"lines\", \"type\": \"scattergeo\", \"uid\": \"47b85b25-81b3-4975-a42c-51ceee9471d9\"}, {\"lat\": [-11.43861103, -11.79805565], \"line\": {\"color\": \"purple\", \"width\": 1}, \"locationmode\": \"ISO-3\", \"lon\": [-61.44722366, -63.03111267], \"mode\": \"lines\", \"type\": \"scattergeo\", \"uid\": \"f87656da-78bc-4b01-b8dc-a6d8e08d3398\"}, {\"lat\": [-11.43861103, -11.696389199999999], \"line\": {\"color\": \"purple\", \"width\": 1}, \"locationmode\": \"ISO-3\", \"lon\": [-61.44722366, -61.99472046], \"mode\": \"lines\", \"type\": \"scattergeo\", \"uid\": \"c0c30134-0a6b-44ac-ae48-b45fc0507bed\"}, {\"lat\": [-11.43861103, -11.79805565], \"line\": {\"color\": \"purple\", \"width\": 1}, \"locationmode\": \"ISO-3\", \"lon\": [-61.44722366, -63.03111267], \"mode\": \"lines\", \"type\": \"scattergeo\", \"uid\": \"8900ad41-be7e-4b06-9c4f-b2b8eb29f86c\"}, {\"lat\": [-11.43861103, -11.79805565], \"line\": {\"color\": \"purple\", \"width\": 1}, \"locationmode\": \"ISO-3\", \"lon\": [-61.44722366, -63.03111267], \"mode\": \"lines\", \"type\": \"scattergeo\", \"uid\": \"25c6ecbd-b042-4610-a7ab-9c618d5c6c87\"}, {\"lat\": [-11.43861103, -11.90250015], \"line\": {\"color\": \"purple\", \"width\": 1}, \"locationmode\": \"ISO-3\", \"lon\": [-61.44722366, -61.50222397], \"mode\": \"lines\", \"type\": \"scattergeo\", \"uid\": \"370857a6-9021-411b-9ef2-837d2cf21240\"}, {\"lat\": [-11.43861103, -11.43861103], \"line\": {\"color\": \"purple\", \"width\": 1}, \"locationmode\": \"ISO-3\", \"lon\": [-61.44722366, -61.44722366], \"mode\": \"lines\", \"type\": \"scattergeo\", \"uid\": \"de819259-7026-43df-9028-86ce6ff6a527\"}, {\"lat\": [-11.43861103, -11.79805565], \"line\": {\"color\": \"purple\", \"width\": 1}, \"locationmode\": \"ISO-3\", \"lon\": [-61.44722366, -63.03111267], \"mode\": \"lines\", \"type\": \"scattergeo\", \"uid\": \"4908c98e-17a2-4470-82c5-240b799f33e4\"}, {\"lat\": [-11.43861103, -11.43861103], \"line\": {\"color\": \"purple\", \"width\": 1}, \"locationmode\": \"ISO-3\", \"lon\": [-61.44722366, -61.44722366], \"mode\": \"lines\", \"type\": \"scattergeo\", \"uid\": \"2bb35953-c467-43db-b561-85c3e1eb890a\"}, {\"lat\": [-11.43861103, -21.71416664], \"line\": {\"color\": \"purple\", \"width\": 1}, \"locationmode\": \"ISO-3\", \"lon\": [-61.44722366, -52.42222214], \"mode\": \"lines\", \"type\": \"scattergeo\", \"uid\": \"3bed6507-3792-4d28-8f02-332b586724f2\"}, {\"lat\": [-8.761944771, -11.96805573, -10.29444408, -9.913332939, -10.52499962, -14.454722400000001, -15.56305599, -1.4466667180000001, -9.913332939, -9.913332939, -24.06583405, -8.809721947, -9.443888664, -9.913332939, -10.33916664, -10.33916664, -9.913332939, -9.704999924, -9.913332939, -9.713055611, -10.29444408, -9.704999924, -9.713055611, -9.913332939, -9.36277771, -10.33916664, -9.713055611, -10.29444408, -9.704999924, -9.913332939, -9.443888664, -9.704999924, -10.33916664, -10.31805515, -10.33916664, -10.29444408, -9.443888664, -9.913332939, -9.443888664, 1.007500052, -9.36277771, -10.33916664, -8.838889122000001, -7.147777557, -9.913332939, -8.761944771, -10.29444408, -9.36277771, -9.36277771, -13.49777794, -13.49777794, -13.48250008, -25.44972229, -11.43861103, -9.933610916000001, -24.1847229, -10.21166706, -12.05222225, -11.43861103, -11.524722099999998, -11.41749954, -11.43861103, -11.90805531, -11.96805573, -13.02583313, -10.88527775, -11.803610800000001, -11.17527771, -11.43861103, -11.803610800000001, -11.43861103, -11.803610800000001, -11.43861103, -11.17527771, -12.55222225, -12.19611073, -9.913332939, -9.36277771, -11.43861103, -11.43861103, -11.43861103, -11.90805531, -7.197222233, -11.69361115, -10.40194416, -11.90250015, -10.52499962, -11.90805531, -11.79805565, -11.79805565, -11.43861103, -11.71972179, -11.79805565, -11.696389199999999, -11.79805565, -11.79805565, -11.90250015, -11.43861103, -11.79805565, -11.43861103, -21.71416664, -11.96805573, -11.96805573, -9.913332939, -9.913332939, -9.913332939, -9.913332939, -9.913332939, -9.913332939, -9.913332939, -9.913332939, -9.913332939, -9.913332939, -9.913332939, -9.913332939, -9.913332939, -9.913332939, -9.913332939, -9.913332939, -9.913332939, -9.913332939, -9.913332939, -9.913332939, -9.913332939, -9.913332939, -9.913332939, -9.913332939, -9.913332939, -9.913332939, -9.913332939, -9.913332939, -9.913332939, -9.913332939, -9.913332939, -9.913332939, -9.913332939, -9.913332939, -9.913332939, -9.913332939, -9.913332939, -9.913332939, -9.913332939, -9.913332939, -9.913332939, -9.913332939, -9.913332939, -9.913332939, -9.913332939, -9.913332939, -9.913332939, -13.49777794, -13.49777794, -13.49777794, -11.43861103, -11.43861103, -11.43861103, -11.43861103, -11.43861103, -11.43861103, -11.43861103, -11.43861103, -11.43861103, -11.43861103, -11.43861103, -11.43861103, -11.43861103, -11.43861103, -11.43861103, -11.43861103, -11.43861103, -11.43861103, -11.43861103, -11.43861103, -11.43861103, -11.43861103, -11.43861103, -11.43861103, -11.43861103, -11.43861103, -11.43861103, -11.43861103, -11.43861103, -11.43861103, -11.43861103, -11.43861103, -11.43861103, -11.43861103, -11.43861103, -11.43861103, -11.43861103, -11.43861103, -11.43861103, -11.43861103, -11.43861103, -11.43861103, -11.43861103, -11.43861103, -11.43861103, -11.43861103, -11.43861103, -11.43861103, -11.43861103], \"locationmode\": \"ISO-3\", \"lon\": [-63.903888699999996, -61.95416641, -63.32527924, -63.04083252, -62.64389038, -56.80277634, -39.30250168, -45.71666718, -63.04083252, -63.04083252, -53.84777832, -63.69555664, -61.98138809, -63.04083252, -62.89527893, -62.89527893, -63.04083252, -62.89972305, -63.04083252, -63.32083511, -63.32527924, -62.89972305, -63.32083511, -63.04083252, -62.58527756, -62.89527893, -63.32083511, -63.32527924, -62.89972305, -63.04083252, -61.98138809, -62.89972305, -62.89527893, -58.35889053, -62.89527893, -63.32527924, -61.98138809, -63.04083252, -61.98138809, -60.01750183, -62.58527756, -62.89527893, -69.25971985, -55.38111115, -63.04083252, -63.903888699999996, -63.32527924, -62.58527756, -62.58527756, -60.55416489, -60.55416489, -61.04666519, -52.90805435, -61.44722366, -36.55416489, -53.02750015, -63.82860947, -63.56750107, -61.44722366, -61.01277924, -61.93861008, -61.44722366, -61.778888699999996, -61.95416641, -57.07389069, -61.95166779, -61.80333328, -61.90139008, -61.44722366, -61.80333328, -61.44722366, -61.80333328, -61.44722366, -61.90139008, -60.89972305, -61.60138702, -63.04083252, -62.58527756, -61.44722366, -61.44722366, -61.44722366, -61.778888699999996, -59.89138794, -62.71138763, -65.32666779, -61.50222397, -62.64389038, -61.778888699999996, -63.03111267, -63.03111267, -61.44722366, -62.31583405, -63.03111267, -61.99472046, -63.03111267, -63.03111267, -61.50222397, -61.44722366, -63.03111267, -61.44722366, -52.42222214, -61.95416641, -61.95416641, -63.04083252, -63.04083252, -63.04083252, -63.04083252, -63.04083252, -63.04083252, -63.04083252, -63.04083252, -63.04083252, -63.04083252, -63.04083252, -63.04083252, -63.04083252, -63.04083252, -63.04083252, -63.04083252, -63.04083252, -63.04083252, -63.04083252, -63.04083252, -63.04083252, -63.04083252, -63.04083252, -63.04083252, -63.04083252, -63.04083252, -63.04083252, -63.04083252, -63.04083252, -63.04083252, -63.04083252, -63.04083252, -63.04083252, -63.04083252, -63.04083252, -63.04083252, -63.04083252, -63.04083252, -63.04083252, -63.04083252, -63.04083252, -63.04083252, -63.04083252, -63.04083252, -63.04083252, -63.04083252, -63.04083252, -60.55416489, -60.55416489, -60.55416489, -61.44722366, -61.44722366, -61.44722366, -61.44722366, -61.44722366, -61.44722366, -61.44722366, -61.44722366, -61.44722366, -61.44722366, -61.44722366, -61.44722366, -61.44722366, -61.44722366, -61.44722366, -61.44722366, -61.44722366, -61.44722366, -61.44722366, -61.44722366, -61.44722366, -61.44722366, -61.44722366, -61.44722366, -61.44722366, -61.44722366, -61.44722366, -61.44722366, -61.44722366, -61.44722366, -61.44722366, -61.44722366, -61.44722366, -61.44722366, -61.44722366, -61.44722366, -61.44722366, -61.44722366, -61.44722366, -61.44722366, -61.44722366, -61.44722366, -61.44722366, -61.44722366, -61.44722366, -61.44722366, -61.44722366, -61.44722366, -61.44722366], \"marker\": {\"color\": \"rgb(80, 0, 0)\", \"line\": {\"color\": \"rgba(68, 68, 68, 0)\", \"width\": 3}, \"size\": 4}, \"mode\": \"markers\", \"type\": \"scattergeo\", \"uid\": \"4889b381-0700-44e5-aa47-9cc6b0dea075\"}], {\"geo\": {\"countrycolor\": \"rgb(160, 160, 204)\", \"landcolor\": \"rgb(180, 180, 190)\", \"projection\": {\"type\": \"azimuthal equal area\"}, \"scope\": \"south america\", \"showland\": true}, \"showlegend\": false, \"title\": {\"text\": \"The Movement of Candidates on South America Map\"}}, {\"showLink\": false, \"linkText\": \"Export to plot.ly\", \"plotlyServerURL\": \"https://plot.ly\"})});</script><script type=\"text/javascript\">window.addEventListener(\"resize\", function(){window._Plotly.Plots.resize(document.getElementById(\"ef8d6ef7-1bad-4341-b509-e14040ad5177\"));});</script>"
      ],
      "text/vnd.plotly.v1+html": [
       "<div id=\"ef8d6ef7-1bad-4341-b509-e14040ad5177\" style=\"height: 525px; width: 100%;\" class=\"plotly-graph-div\"></div><script type=\"text/javascript\">require([\"plotly\"], function(Plotly) { window.PLOTLYENV=window.PLOTLYENV || {};window.PLOTLYENV.BASE_URL=\"https://plot.ly\";Plotly.newPlot(\"ef8d6ef7-1bad-4341-b509-e14040ad5177\", [{\"lat\": [-11.96805573, -8.761944771], \"line\": {\"color\": \"purple\", \"width\": 1}, \"locationmode\": \"ISO-3\", \"lon\": [-61.95416641, -63.903888699999996], \"mode\": \"lines\", \"type\": \"scattergeo\", \"uid\": \"130e6712-0174-4d35-9647-d95f698f6d65\"}, {\"lat\": [-11.96805573, -11.96805573], \"line\": {\"color\": \"purple\", \"width\": 1}, \"locationmode\": \"ISO-3\", \"lon\": [-61.95416641, -61.95416641], \"mode\": \"lines\", \"type\": \"scattergeo\", \"uid\": \"1d5c6993-baf3-4836-acac-ff8140d0abdf\"}, {\"lat\": [-9.913332939, -10.29444408], \"line\": {\"color\": \"purple\", \"width\": 1}, \"locationmode\": \"ISO-3\", \"lon\": [-63.04083252, -63.32527924], \"mode\": \"lines\", \"type\": \"scattergeo\", \"uid\": \"214115ca-a535-4df9-a5dc-5d76749fb7a0\"}, {\"lat\": [-9.913332939, -9.913332939], \"line\": {\"color\": \"purple\", \"width\": 1}, \"locationmode\": \"ISO-3\", \"lon\": [-63.04083252, -63.04083252], \"mode\": \"lines\", \"type\": \"scattergeo\", \"uid\": \"5314473b-9930-4b7f-8aff-291738322595\"}, {\"lat\": [-9.913332939, -10.52499962], \"line\": {\"color\": \"purple\", \"width\": 1}, \"locationmode\": \"ISO-3\", \"lon\": [-63.04083252, -62.64389038], \"mode\": \"lines\", \"type\": \"scattergeo\", \"uid\": \"bd268b87-1457-4658-a644-7502c0676bea\"}, {\"lat\": [-9.913332939, -14.454722400000001], \"line\": {\"color\": \"purple\", \"width\": 1}, \"locationmode\": \"ISO-3\", \"lon\": [-63.04083252, -56.80277634], \"mode\": \"lines\", \"type\": \"scattergeo\", \"uid\": \"04719059-18cf-4a08-963c-ef5275ff6128\"}, {\"lat\": [-9.913332939, -15.56305599], \"line\": {\"color\": \"purple\", \"width\": 1}, \"locationmode\": \"ISO-3\", \"lon\": [-63.04083252, -39.30250168], \"mode\": \"lines\", \"type\": \"scattergeo\", \"uid\": \"1d0c31a4-36f3-42f4-a4a2-0159e88ee061\"}, {\"lat\": [-9.913332939, -1.4466667180000001], \"line\": {\"color\": \"purple\", \"width\": 1}, \"locationmode\": \"ISO-3\", \"lon\": [-63.04083252, -45.71666718], \"mode\": \"lines\", \"type\": \"scattergeo\", \"uid\": \"74317bf2-292b-4904-9303-3728fb3ad920\"}, {\"lat\": [-9.913332939, -9.913332939], \"line\": {\"color\": \"purple\", \"width\": 1}, \"locationmode\": \"ISO-3\", \"lon\": [-63.04083252, -63.04083252], \"mode\": \"lines\", \"type\": \"scattergeo\", \"uid\": \"fee327b7-680a-4fa6-8d8d-54321fd28c13\"}, {\"lat\": [-9.913332939, -9.913332939], \"line\": {\"color\": \"purple\", \"width\": 1}, \"locationmode\": \"ISO-3\", \"lon\": [-63.04083252, -63.04083252], \"mode\": \"lines\", \"type\": \"scattergeo\", \"uid\": \"08f3e8f5-35ba-4e16-9912-1d877732fc47\"}, {\"lat\": [-9.913332939, -24.06583405], \"line\": {\"color\": \"purple\", \"width\": 1}, \"locationmode\": \"ISO-3\", \"lon\": [-63.04083252, -53.84777832], \"mode\": \"lines\", \"type\": \"scattergeo\", \"uid\": \"91550ad1-d60a-4db7-adcc-577b82b03dd5\"}, {\"lat\": [-9.913332939, -8.809721947], \"line\": {\"color\": \"purple\", \"width\": 1}, \"locationmode\": \"ISO-3\", \"lon\": [-63.04083252, -63.69555664], \"mode\": \"lines\", \"type\": \"scattergeo\", \"uid\": \"a83d18bd-a23c-46e0-a514-4fac95ec19ae\"}, {\"lat\": [-9.913332939, -9.443888664], \"line\": {\"color\": \"purple\", \"width\": 1}, \"locationmode\": \"ISO-3\", \"lon\": [-63.04083252, -61.98138809], \"mode\": \"lines\", \"type\": \"scattergeo\", \"uid\": \"e619d638-ad61-4b7d-8503-f51ffa996a96\"}, {\"lat\": [-9.913332939, -9.913332939], \"line\": {\"color\": \"purple\", \"width\": 1}, \"locationmode\": \"ISO-3\", \"lon\": [-63.04083252, -63.04083252], \"mode\": \"lines\", \"type\": \"scattergeo\", \"uid\": \"815e9518-292d-4b4d-85fd-0e9b81e3a7b2\"}, {\"lat\": [-9.913332939, -10.33916664], \"line\": {\"color\": \"purple\", \"width\": 1}, \"locationmode\": \"ISO-3\", \"lon\": [-63.04083252, -62.89527893], \"mode\": \"lines\", \"type\": \"scattergeo\", \"uid\": \"3f719f31-4207-4479-be84-bbd368526bde\"}, {\"lat\": [-9.913332939, -10.33916664], \"line\": {\"color\": \"purple\", \"width\": 1}, \"locationmode\": \"ISO-3\", \"lon\": [-63.04083252, -62.89527893], \"mode\": \"lines\", \"type\": \"scattergeo\", \"uid\": \"c1244367-b1ba-430e-9793-59659d58feb6\"}, {\"lat\": [-9.913332939, -9.913332939], \"line\": {\"color\": \"purple\", \"width\": 1}, \"locationmode\": \"ISO-3\", \"lon\": [-63.04083252, -63.04083252], \"mode\": \"lines\", \"type\": \"scattergeo\", \"uid\": \"17f92f6a-a1e6-4fa5-9367-77160c473c28\"}, {\"lat\": [-9.913332939, -9.704999924], \"line\": {\"color\": \"purple\", \"width\": 1}, \"locationmode\": \"ISO-3\", \"lon\": [-63.04083252, -62.89972305], \"mode\": \"lines\", \"type\": \"scattergeo\", \"uid\": \"7fea6100-fd8d-44f4-829f-30cccdaa3d31\"}, {\"lat\": [-9.913332939, -9.913332939], \"line\": {\"color\": \"purple\", \"width\": 1}, \"locationmode\": \"ISO-3\", \"lon\": [-63.04083252, -63.04083252], \"mode\": \"lines\", \"type\": \"scattergeo\", \"uid\": \"25830782-075b-4b91-8eed-8a7268705414\"}, {\"lat\": [-9.913332939, -9.713055611], \"line\": {\"color\": \"purple\", \"width\": 1}, \"locationmode\": \"ISO-3\", \"lon\": [-63.04083252, -63.32083511], \"mode\": \"lines\", \"type\": \"scattergeo\", \"uid\": \"d7ad963f-4c07-430a-86cb-00987a3450bb\"}, {\"lat\": [-9.913332939, -10.29444408], \"line\": {\"color\": \"purple\", \"width\": 1}, \"locationmode\": \"ISO-3\", \"lon\": [-63.04083252, -63.32527924], \"mode\": \"lines\", \"type\": \"scattergeo\", \"uid\": \"61641446-53e7-4081-be2e-578f355268bb\"}, {\"lat\": [-9.913332939, -9.704999924], \"line\": {\"color\": \"purple\", \"width\": 1}, \"locationmode\": \"ISO-3\", \"lon\": [-63.04083252, -62.89972305], \"mode\": \"lines\", \"type\": \"scattergeo\", \"uid\": \"3a8f64d8-9789-4e13-b348-f22b73903715\"}, {\"lat\": [-9.913332939, -9.713055611], \"line\": {\"color\": \"purple\", \"width\": 1}, \"locationmode\": \"ISO-3\", \"lon\": [-63.04083252, -63.32083511], \"mode\": \"lines\", \"type\": \"scattergeo\", \"uid\": \"d8e736ea-64a1-4176-b3fd-59b6e0db6404\"}, {\"lat\": [-9.913332939, -9.913332939], \"line\": {\"color\": \"purple\", \"width\": 1}, \"locationmode\": \"ISO-3\", \"lon\": [-63.04083252, -63.04083252], \"mode\": \"lines\", \"type\": \"scattergeo\", \"uid\": \"d45815d8-5718-421f-8967-79574d5b4438\"}, {\"lat\": [-9.913332939, -9.36277771], \"line\": {\"color\": \"purple\", \"width\": 1}, \"locationmode\": \"ISO-3\", \"lon\": [-63.04083252, -62.58527756], \"mode\": \"lines\", \"type\": \"scattergeo\", \"uid\": \"87ef05f6-e698-4416-99e7-1b6a42a9e327\"}, {\"lat\": [-9.913332939, -10.33916664], \"line\": {\"color\": \"purple\", \"width\": 1}, \"locationmode\": \"ISO-3\", \"lon\": [-63.04083252, -62.89527893], \"mode\": \"lines\", \"type\": \"scattergeo\", \"uid\": \"ca2000ae-51b8-45b7-9d2a-17580ad8486a\"}, {\"lat\": [-9.913332939, -9.713055611], \"line\": {\"color\": \"purple\", \"width\": 1}, \"locationmode\": \"ISO-3\", \"lon\": [-63.04083252, -63.32083511], \"mode\": \"lines\", \"type\": \"scattergeo\", \"uid\": \"7843c449-b8a5-4d00-bc71-5abab2db0035\"}, {\"lat\": [-9.913332939, -10.29444408], \"line\": {\"color\": \"purple\", \"width\": 1}, \"locationmode\": \"ISO-3\", \"lon\": [-63.04083252, -63.32527924], \"mode\": \"lines\", \"type\": \"scattergeo\", \"uid\": \"5ee6358d-d8e8-488f-9244-dceb6ba68775\"}, {\"lat\": [-9.913332939, -9.704999924], \"line\": {\"color\": \"purple\", \"width\": 1}, \"locationmode\": \"ISO-3\", \"lon\": [-63.04083252, -62.89972305], \"mode\": \"lines\", \"type\": \"scattergeo\", \"uid\": \"7ef22875-f9ad-4d0d-908e-81bc098c1b80\"}, {\"lat\": [-9.913332939, -9.913332939], \"line\": {\"color\": \"purple\", \"width\": 1}, \"locationmode\": \"ISO-3\", \"lon\": [-63.04083252, -63.04083252], \"mode\": \"lines\", \"type\": \"scattergeo\", \"uid\": \"9871434f-1133-4b6c-a919-6b742a3009f5\"}, {\"lat\": [-9.913332939, -9.443888664], \"line\": {\"color\": \"purple\", \"width\": 1}, \"locationmode\": \"ISO-3\", \"lon\": [-63.04083252, -61.98138809], \"mode\": \"lines\", \"type\": \"scattergeo\", \"uid\": \"3e27a2fb-16e3-4cf4-9e22-5b27accc1c06\"}, {\"lat\": [-9.913332939, -9.704999924], \"line\": {\"color\": \"purple\", \"width\": 1}, \"locationmode\": \"ISO-3\", \"lon\": [-63.04083252, -62.89972305], \"mode\": \"lines\", \"type\": \"scattergeo\", \"uid\": \"463ea215-ab99-4acf-a74f-b128bea18c67\"}, {\"lat\": [-9.913332939, -10.33916664], \"line\": {\"color\": \"purple\", \"width\": 1}, \"locationmode\": \"ISO-3\", \"lon\": [-63.04083252, -62.89527893], \"mode\": \"lines\", \"type\": \"scattergeo\", \"uid\": \"4262b44b-0fab-4e88-9403-4102c74c6221\"}, {\"lat\": [-9.913332939, -10.31805515], \"line\": {\"color\": \"purple\", \"width\": 1}, \"locationmode\": \"ISO-3\", \"lon\": [-63.04083252, -58.35889053], \"mode\": \"lines\", \"type\": \"scattergeo\", \"uid\": \"e2736450-4995-4878-bd7b-d91f45569bf0\"}, {\"lat\": [-9.913332939, -10.33916664], \"line\": {\"color\": \"purple\", \"width\": 1}, \"locationmode\": \"ISO-3\", \"lon\": [-63.04083252, -62.89527893], \"mode\": \"lines\", \"type\": \"scattergeo\", \"uid\": \"df814b10-f67b-4fd4-98e7-d38c33ab565c\"}, {\"lat\": [-9.913332939, -10.29444408], \"line\": {\"color\": \"purple\", \"width\": 1}, \"locationmode\": \"ISO-3\", \"lon\": [-63.04083252, -63.32527924], \"mode\": \"lines\", \"type\": \"scattergeo\", \"uid\": \"a1794e8c-880e-4de8-87dd-75762d64b22a\"}, {\"lat\": [-9.913332939, -9.443888664], \"line\": {\"color\": \"purple\", \"width\": 1}, \"locationmode\": \"ISO-3\", \"lon\": [-63.04083252, -61.98138809], \"mode\": \"lines\", \"type\": \"scattergeo\", \"uid\": \"43238529-403b-4c74-9c8b-57a7acea6306\"}, {\"lat\": [-9.913332939, -9.913332939], \"line\": {\"color\": \"purple\", \"width\": 1}, \"locationmode\": \"ISO-3\", \"lon\": [-63.04083252, -63.04083252], \"mode\": \"lines\", \"type\": \"scattergeo\", \"uid\": \"44d58cae-9077-42d8-98cd-0438cdb97259\"}, {\"lat\": [-9.913332939, -9.443888664], \"line\": {\"color\": \"purple\", \"width\": 1}, \"locationmode\": \"ISO-3\", \"lon\": [-63.04083252, -61.98138809], \"mode\": \"lines\", \"type\": \"scattergeo\", \"uid\": \"c44bcfd2-b672-4e23-afd6-7378bed00f0c\"}, {\"lat\": [-9.913332939, 1.007500052], \"line\": {\"color\": \"purple\", \"width\": 1}, \"locationmode\": \"ISO-3\", \"lon\": [-63.04083252, -60.01750183], \"mode\": \"lines\", \"type\": \"scattergeo\", \"uid\": \"527b6d16-ddaa-4961-9a1f-9bd5acf58e35\"}, {\"lat\": [-9.913332939, -9.36277771], \"line\": {\"color\": \"purple\", \"width\": 1}, \"locationmode\": \"ISO-3\", \"lon\": [-63.04083252, -62.58527756], \"mode\": \"lines\", \"type\": \"scattergeo\", \"uid\": \"f444d7b4-16cb-4340-a69d-d9dad3997da5\"}, {\"lat\": [-9.913332939, -10.33916664], \"line\": {\"color\": \"purple\", \"width\": 1}, \"locationmode\": \"ISO-3\", \"lon\": [-63.04083252, -62.89527893], \"mode\": \"lines\", \"type\": \"scattergeo\", \"uid\": \"fa425461-ddb2-4bd7-ba92-6e1726f4b68b\"}, {\"lat\": [-9.913332939, -8.838889122000001], \"line\": {\"color\": \"purple\", \"width\": 1}, \"locationmode\": \"ISO-3\", \"lon\": [-63.04083252, -69.25971985], \"mode\": \"lines\", \"type\": \"scattergeo\", \"uid\": \"e28a4a0c-6483-4d0e-b050-f4a69d312132\"}, {\"lat\": [-9.913332939, -7.147777557], \"line\": {\"color\": \"purple\", \"width\": 1}, \"locationmode\": \"ISO-3\", \"lon\": [-63.04083252, -55.38111115], \"mode\": \"lines\", \"type\": \"scattergeo\", \"uid\": \"0c91aff9-55fc-4fc9-a652-5a62987282a9\"}, {\"lat\": [-9.913332939, -9.913332939], \"line\": {\"color\": \"purple\", \"width\": 1}, \"locationmode\": \"ISO-3\", \"lon\": [-63.04083252, -63.04083252], \"mode\": \"lines\", \"type\": \"scattergeo\", \"uid\": \"1e6bbb4e-52c8-46ff-8738-eee050b8781f\"}, {\"lat\": [-9.913332939, -8.761944771], \"line\": {\"color\": \"purple\", \"width\": 1}, \"locationmode\": \"ISO-3\", \"lon\": [-63.04083252, -63.903888699999996], \"mode\": \"lines\", \"type\": \"scattergeo\", \"uid\": \"dddc0123-3e25-4615-9f01-cc2268b56e37\"}, {\"lat\": [-9.913332939, -10.29444408], \"line\": {\"color\": \"purple\", \"width\": 1}, \"locationmode\": \"ISO-3\", \"lon\": [-63.04083252, -63.32527924], \"mode\": \"lines\", \"type\": \"scattergeo\", \"uid\": \"f488d324-e683-4901-9add-7f85cdcf9d7f\"}, {\"lat\": [-9.913332939, -9.36277771], \"line\": {\"color\": \"purple\", \"width\": 1}, \"locationmode\": \"ISO-3\", \"lon\": [-63.04083252, -62.58527756], \"mode\": \"lines\", \"type\": \"scattergeo\", \"uid\": \"8d1454f6-2591-4037-99af-49b51842c535\"}, {\"lat\": [-9.913332939, -9.36277771], \"line\": {\"color\": \"purple\", \"width\": 1}, \"locationmode\": \"ISO-3\", \"lon\": [-63.04083252, -62.58527756], \"mode\": \"lines\", \"type\": \"scattergeo\", \"uid\": \"95457a93-67e9-47e2-a862-6e17fe8ad27d\"}, {\"lat\": [-13.49777794, -13.49777794], \"line\": {\"color\": \"purple\", \"width\": 1}, \"locationmode\": \"ISO-3\", \"lon\": [-60.55416489, -60.55416489], \"mode\": \"lines\", \"type\": \"scattergeo\", \"uid\": \"b1534f40-df85-4460-9545-8827d428bad2\"}, {\"lat\": [-13.49777794, -13.49777794], \"line\": {\"color\": \"purple\", \"width\": 1}, \"locationmode\": \"ISO-3\", \"lon\": [-60.55416489, -60.55416489], \"mode\": \"lines\", \"type\": \"scattergeo\", \"uid\": \"45aade7b-1ef0-4da3-879e-16b20a7b4ff3\"}, {\"lat\": [-13.49777794, -13.48250008], \"line\": {\"color\": \"purple\", \"width\": 1}, \"locationmode\": \"ISO-3\", \"lon\": [-60.55416489, -61.04666519], \"mode\": \"lines\", \"type\": \"scattergeo\", \"uid\": \"617402be-58b4-4742-92ec-0567318a4c1e\"}, {\"lat\": [-11.43861103, -25.44972229], \"line\": {\"color\": \"purple\", \"width\": 1}, \"locationmode\": \"ISO-3\", \"lon\": [-61.44722366, -52.90805435], \"mode\": \"lines\", \"type\": \"scattergeo\", \"uid\": \"bc84a1a8-a69c-4d8d-991e-3b644897aeb4\"}, {\"lat\": [-11.43861103, -11.43861103], \"line\": {\"color\": \"purple\", \"width\": 1}, \"locationmode\": \"ISO-3\", \"lon\": [-61.44722366, -61.44722366], \"mode\": \"lines\", \"type\": \"scattergeo\", \"uid\": \"512de178-90e8-40f5-8f99-5c4ee41b6c54\"}, {\"lat\": [-11.43861103, -9.933610916000001], \"line\": {\"color\": \"purple\", \"width\": 1}, \"locationmode\": \"ISO-3\", \"lon\": [-61.44722366, -36.55416489], \"mode\": \"lines\", \"type\": \"scattergeo\", \"uid\": \"176a365b-b433-4aef-982b-cf5647f55189\"}, {\"lat\": [-11.43861103, -24.1847229], \"line\": {\"color\": \"purple\", \"width\": 1}, \"locationmode\": \"ISO-3\", \"lon\": [-61.44722366, -53.02750015], \"mode\": \"lines\", \"type\": \"scattergeo\", \"uid\": \"4e8b0b5c-3d79-498f-8762-7e488b36e424\"}, {\"lat\": [-11.43861103, -10.21166706], \"line\": {\"color\": \"purple\", \"width\": 1}, \"locationmode\": \"ISO-3\", \"lon\": [-61.44722366, -63.82860947], \"mode\": \"lines\", \"type\": \"scattergeo\", \"uid\": \"1fed5867-3963-416d-925e-ee000b3c9fe1\"}, {\"lat\": [-11.43861103, -12.05222225], \"line\": {\"color\": \"purple\", \"width\": 1}, \"locationmode\": \"ISO-3\", \"lon\": [-61.44722366, -63.56750107], \"mode\": \"lines\", \"type\": \"scattergeo\", \"uid\": \"d6ec892d-e77c-4639-a654-815a50d01556\"}, {\"lat\": [-11.43861103, -11.43861103], \"line\": {\"color\": \"purple\", \"width\": 1}, \"locationmode\": \"ISO-3\", \"lon\": [-61.44722366, -61.44722366], \"mode\": \"lines\", \"type\": \"scattergeo\", \"uid\": \"cdc3b20d-1efc-4379-89b9-22f9b7f54d07\"}, {\"lat\": [-11.43861103, -11.524722099999998], \"line\": {\"color\": \"purple\", \"width\": 1}, \"locationmode\": \"ISO-3\", \"lon\": [-61.44722366, -61.01277924], \"mode\": \"lines\", \"type\": \"scattergeo\", \"uid\": \"2edcb9bc-a9d0-464d-9dc0-1042840d05bc\"}, {\"lat\": [-11.43861103, -11.41749954], \"line\": {\"color\": \"purple\", \"width\": 1}, \"locationmode\": \"ISO-3\", \"lon\": [-61.44722366, -61.93861008], \"mode\": \"lines\", \"type\": \"scattergeo\", \"uid\": \"5081140d-4a65-49bd-a34c-18aadcae7bcc\"}, {\"lat\": [-11.43861103, -11.43861103], \"line\": {\"color\": \"purple\", \"width\": 1}, \"locationmode\": \"ISO-3\", \"lon\": [-61.44722366, -61.44722366], \"mode\": \"lines\", \"type\": \"scattergeo\", \"uid\": \"caa41c03-e0f4-4712-8b2c-642d196f85ec\"}, {\"lat\": [-11.43861103, -11.90805531], \"line\": {\"color\": \"purple\", \"width\": 1}, \"locationmode\": \"ISO-3\", \"lon\": [-61.44722366, -61.778888699999996], \"mode\": \"lines\", \"type\": \"scattergeo\", \"uid\": \"2edabcab-724e-4801-b891-fadbfebcd2da\"}, {\"lat\": [-11.43861103, -11.96805573], \"line\": {\"color\": \"purple\", \"width\": 1}, \"locationmode\": \"ISO-3\", \"lon\": [-61.44722366, -61.95416641], \"mode\": \"lines\", \"type\": \"scattergeo\", \"uid\": \"36f648ab-6f98-4267-9bce-b2aed4ca49af\"}, {\"lat\": [-11.43861103, -13.02583313], \"line\": {\"color\": \"purple\", \"width\": 1}, \"locationmode\": \"ISO-3\", \"lon\": [-61.44722366, -57.07389069], \"mode\": \"lines\", \"type\": \"scattergeo\", \"uid\": \"bd8bb830-a34d-4f1b-8867-98ea3a2ff0da\"}, {\"lat\": [-11.43861103, -10.88527775], \"line\": {\"color\": \"purple\", \"width\": 1}, \"locationmode\": \"ISO-3\", \"lon\": [-61.44722366, -61.95166779], \"mode\": \"lines\", \"type\": \"scattergeo\", \"uid\": \"c4088ef7-f991-48ab-9e3a-4b4644d3e5f0\"}, {\"lat\": [-11.43861103, -11.803610800000001], \"line\": {\"color\": \"purple\", \"width\": 1}, \"locationmode\": \"ISO-3\", \"lon\": [-61.44722366, -61.80333328], \"mode\": \"lines\", \"type\": \"scattergeo\", \"uid\": \"3ef17c34-b895-410e-8ba9-fd25aae12b4d\"}, {\"lat\": [-11.43861103, -11.17527771], \"line\": {\"color\": \"purple\", \"width\": 1}, \"locationmode\": \"ISO-3\", \"lon\": [-61.44722366, -61.90139008], \"mode\": \"lines\", \"type\": \"scattergeo\", \"uid\": \"c2ce9f12-8bef-46ff-b528-30f9c3742b8d\"}, {\"lat\": [-11.43861103, -11.43861103], \"line\": {\"color\": \"purple\", \"width\": 1}, \"locationmode\": \"ISO-3\", \"lon\": [-61.44722366, -61.44722366], \"mode\": \"lines\", \"type\": \"scattergeo\", \"uid\": \"4816e3a8-953a-4012-8f18-5565d9b3b8a1\"}, {\"lat\": [-11.43861103, -11.803610800000001], \"line\": {\"color\": \"purple\", \"width\": 1}, \"locationmode\": \"ISO-3\", \"lon\": [-61.44722366, -61.80333328], \"mode\": \"lines\", \"type\": \"scattergeo\", \"uid\": \"30e9b7b0-9b56-42f8-aaf4-2ef75dcecd66\"}, {\"lat\": [-11.43861103, -11.43861103], \"line\": {\"color\": \"purple\", \"width\": 1}, \"locationmode\": \"ISO-3\", \"lon\": [-61.44722366, -61.44722366], \"mode\": \"lines\", \"type\": \"scattergeo\", \"uid\": \"af7a366e-659c-400d-81f6-e36d5e3275c1\"}, {\"lat\": [-11.43861103, -11.803610800000001], \"line\": {\"color\": \"purple\", \"width\": 1}, \"locationmode\": \"ISO-3\", \"lon\": [-61.44722366, -61.80333328], \"mode\": \"lines\", \"type\": \"scattergeo\", \"uid\": \"9e90fc63-718d-44be-bf6b-e53250993d72\"}, {\"lat\": [-11.43861103, -11.43861103], \"line\": {\"color\": \"purple\", \"width\": 1}, \"locationmode\": \"ISO-3\", \"lon\": [-61.44722366, -61.44722366], \"mode\": \"lines\", \"type\": \"scattergeo\", \"uid\": \"3a8f4bbc-0f50-4d29-b63f-477b40edc27d\"}, {\"lat\": [-11.43861103, -11.17527771], \"line\": {\"color\": \"purple\", \"width\": 1}, \"locationmode\": \"ISO-3\", \"lon\": [-61.44722366, -61.90139008], \"mode\": \"lines\", \"type\": \"scattergeo\", \"uid\": \"94230439-0b95-4f29-9c1c-312d15b92a67\"}, {\"lat\": [-11.43861103, -12.55222225], \"line\": {\"color\": \"purple\", \"width\": 1}, \"locationmode\": \"ISO-3\", \"lon\": [-61.44722366, -60.89972305], \"mode\": \"lines\", \"type\": \"scattergeo\", \"uid\": \"3bab8e25-964e-4953-9d95-d791548d8a2e\"}, {\"lat\": [-11.43861103, -12.19611073], \"line\": {\"color\": \"purple\", \"width\": 1}, \"locationmode\": \"ISO-3\", \"lon\": [-61.44722366, -61.60138702], \"mode\": \"lines\", \"type\": \"scattergeo\", \"uid\": \"ccd4b7e1-fadd-4126-bd19-7efe50d6fef3\"}, {\"lat\": [-11.43861103, -9.913332939], \"line\": {\"color\": \"purple\", \"width\": 1}, \"locationmode\": \"ISO-3\", \"lon\": [-61.44722366, -63.04083252], \"mode\": \"lines\", \"type\": \"scattergeo\", \"uid\": \"a2ecd1b3-1da7-476d-8adb-129279b13c42\"}, {\"lat\": [-11.43861103, -9.36277771], \"line\": {\"color\": \"purple\", \"width\": 1}, \"locationmode\": \"ISO-3\", \"lon\": [-61.44722366, -62.58527756], \"mode\": \"lines\", \"type\": \"scattergeo\", \"uid\": \"12729b17-5f85-4ed3-9952-ef21d69366d7\"}, {\"lat\": [-11.43861103, -11.43861103], \"line\": {\"color\": \"purple\", \"width\": 1}, \"locationmode\": \"ISO-3\", \"lon\": [-61.44722366, -61.44722366], \"mode\": \"lines\", \"type\": \"scattergeo\", \"uid\": \"3aec29f6-245c-4428-83e5-9217aaed35a3\"}, {\"lat\": [-11.43861103, -11.43861103], \"line\": {\"color\": \"purple\", \"width\": 1}, \"locationmode\": \"ISO-3\", \"lon\": [-61.44722366, -61.44722366], \"mode\": \"lines\", \"type\": \"scattergeo\", \"uid\": \"cf06566f-44e8-4aca-a1f4-d2697f9e2e5a\"}, {\"lat\": [-11.43861103, -11.43861103], \"line\": {\"color\": \"purple\", \"width\": 1}, \"locationmode\": \"ISO-3\", \"lon\": [-61.44722366, -61.44722366], \"mode\": \"lines\", \"type\": \"scattergeo\", \"uid\": \"87a410fe-8937-4c16-a44d-d4a2a966db33\"}, {\"lat\": [-11.43861103, -11.90805531], \"line\": {\"color\": \"purple\", \"width\": 1}, \"locationmode\": \"ISO-3\", \"lon\": [-61.44722366, -61.778888699999996], \"mode\": \"lines\", \"type\": \"scattergeo\", \"uid\": \"6f776c9c-2fb3-43f5-b4e9-bf6fad7089e8\"}, {\"lat\": [-11.43861103, -7.197222233], \"line\": {\"color\": \"purple\", \"width\": 1}, \"locationmode\": \"ISO-3\", \"lon\": [-61.44722366, -59.89138794], \"mode\": \"lines\", \"type\": \"scattergeo\", \"uid\": \"fdfac47d-0e08-49e8-bb61-f662b2cd3164\"}, {\"lat\": [-11.43861103, -11.69361115], \"line\": {\"color\": \"purple\", \"width\": 1}, \"locationmode\": \"ISO-3\", \"lon\": [-61.44722366, -62.71138763], \"mode\": \"lines\", \"type\": \"scattergeo\", \"uid\": \"63ec5488-d298-4dc6-97c9-adbfdb0890c2\"}, {\"lat\": [-11.43861103, -10.40194416], \"line\": {\"color\": \"purple\", \"width\": 1}, \"locationmode\": \"ISO-3\", \"lon\": [-61.44722366, -65.32666779], \"mode\": \"lines\", \"type\": \"scattergeo\", \"uid\": \"da274c08-f77d-4b19-8ebb-36d859189a61\"}, {\"lat\": [-11.43861103, -11.90250015], \"line\": {\"color\": \"purple\", \"width\": 1}, \"locationmode\": \"ISO-3\", \"lon\": [-61.44722366, -61.50222397], \"mode\": \"lines\", \"type\": \"scattergeo\", \"uid\": \"5865e500-2418-4fa3-a076-625746fee61e\"}, {\"lat\": [-11.43861103, -10.52499962], \"line\": {\"color\": \"purple\", \"width\": 1}, \"locationmode\": \"ISO-3\", \"lon\": [-61.44722366, -62.64389038], \"mode\": \"lines\", \"type\": \"scattergeo\", \"uid\": \"f54bebd5-e992-46ff-8d07-cd2085e095d0\"}, {\"lat\": [-11.43861103, -11.90805531], \"line\": {\"color\": \"purple\", \"width\": 1}, \"locationmode\": \"ISO-3\", \"lon\": [-61.44722366, -61.778888699999996], \"mode\": \"lines\", \"type\": \"scattergeo\", \"uid\": \"91574f02-837f-4aa6-bdc9-49f80be77bef\"}, {\"lat\": [-11.43861103, -11.79805565], \"line\": {\"color\": \"purple\", \"width\": 1}, \"locationmode\": \"ISO-3\", \"lon\": [-61.44722366, -63.03111267], \"mode\": \"lines\", \"type\": \"scattergeo\", \"uid\": \"9964efb3-a3e6-4553-a1db-caeceb190880\"}, {\"lat\": [-11.43861103, -11.79805565], \"line\": {\"color\": \"purple\", \"width\": 1}, \"locationmode\": \"ISO-3\", \"lon\": [-61.44722366, -63.03111267], \"mode\": \"lines\", \"type\": \"scattergeo\", \"uid\": \"15a5e64b-aef2-4ece-a38c-9e1624438bcb\"}, {\"lat\": [-11.43861103, -11.43861103], \"line\": {\"color\": \"purple\", \"width\": 1}, \"locationmode\": \"ISO-3\", \"lon\": [-61.44722366, -61.44722366], \"mode\": \"lines\", \"type\": \"scattergeo\", \"uid\": \"d2b84746-dac2-468f-8ea0-4f15fb2cb2e3\"}, {\"lat\": [-11.43861103, -11.71972179], \"line\": {\"color\": \"purple\", \"width\": 1}, \"locationmode\": \"ISO-3\", \"lon\": [-61.44722366, -62.31583405], \"mode\": \"lines\", \"type\": \"scattergeo\", \"uid\": \"47b85b25-81b3-4975-a42c-51ceee9471d9\"}, {\"lat\": [-11.43861103, -11.79805565], \"line\": {\"color\": \"purple\", \"width\": 1}, \"locationmode\": \"ISO-3\", \"lon\": [-61.44722366, -63.03111267], \"mode\": \"lines\", \"type\": \"scattergeo\", \"uid\": \"f87656da-78bc-4b01-b8dc-a6d8e08d3398\"}, {\"lat\": [-11.43861103, -11.696389199999999], \"line\": {\"color\": \"purple\", \"width\": 1}, \"locationmode\": \"ISO-3\", \"lon\": [-61.44722366, -61.99472046], \"mode\": \"lines\", \"type\": \"scattergeo\", \"uid\": \"c0c30134-0a6b-44ac-ae48-b45fc0507bed\"}, {\"lat\": [-11.43861103, -11.79805565], \"line\": {\"color\": \"purple\", \"width\": 1}, \"locationmode\": \"ISO-3\", \"lon\": [-61.44722366, -63.03111267], \"mode\": \"lines\", \"type\": \"scattergeo\", \"uid\": \"8900ad41-be7e-4b06-9c4f-b2b8eb29f86c\"}, {\"lat\": [-11.43861103, -11.79805565], \"line\": {\"color\": \"purple\", \"width\": 1}, \"locationmode\": \"ISO-3\", \"lon\": [-61.44722366, -63.03111267], \"mode\": \"lines\", \"type\": \"scattergeo\", \"uid\": \"25c6ecbd-b042-4610-a7ab-9c618d5c6c87\"}, {\"lat\": [-11.43861103, -11.90250015], \"line\": {\"color\": \"purple\", \"width\": 1}, \"locationmode\": \"ISO-3\", \"lon\": [-61.44722366, -61.50222397], \"mode\": \"lines\", \"type\": \"scattergeo\", \"uid\": \"370857a6-9021-411b-9ef2-837d2cf21240\"}, {\"lat\": [-11.43861103, -11.43861103], \"line\": {\"color\": \"purple\", \"width\": 1}, \"locationmode\": \"ISO-3\", \"lon\": [-61.44722366, -61.44722366], \"mode\": \"lines\", \"type\": \"scattergeo\", \"uid\": \"de819259-7026-43df-9028-86ce6ff6a527\"}, {\"lat\": [-11.43861103, -11.79805565], \"line\": {\"color\": \"purple\", \"width\": 1}, \"locationmode\": \"ISO-3\", \"lon\": [-61.44722366, -63.03111267], \"mode\": \"lines\", \"type\": \"scattergeo\", \"uid\": \"4908c98e-17a2-4470-82c5-240b799f33e4\"}, {\"lat\": [-11.43861103, -11.43861103], \"line\": {\"color\": \"purple\", \"width\": 1}, \"locationmode\": \"ISO-3\", \"lon\": [-61.44722366, -61.44722366], \"mode\": \"lines\", \"type\": \"scattergeo\", \"uid\": \"2bb35953-c467-43db-b561-85c3e1eb890a\"}, {\"lat\": [-11.43861103, -21.71416664], \"line\": {\"color\": \"purple\", \"width\": 1}, \"locationmode\": \"ISO-3\", \"lon\": [-61.44722366, -52.42222214], \"mode\": \"lines\", \"type\": \"scattergeo\", \"uid\": \"3bed6507-3792-4d28-8f02-332b586724f2\"}, {\"lat\": [-8.761944771, -11.96805573, -10.29444408, -9.913332939, -10.52499962, -14.454722400000001, -15.56305599, -1.4466667180000001, -9.913332939, -9.913332939, -24.06583405, -8.809721947, -9.443888664, -9.913332939, -10.33916664, -10.33916664, -9.913332939, -9.704999924, -9.913332939, -9.713055611, -10.29444408, -9.704999924, -9.713055611, -9.913332939, -9.36277771, -10.33916664, -9.713055611, -10.29444408, -9.704999924, -9.913332939, -9.443888664, -9.704999924, -10.33916664, -10.31805515, -10.33916664, -10.29444408, -9.443888664, -9.913332939, -9.443888664, 1.007500052, -9.36277771, -10.33916664, -8.838889122000001, -7.147777557, -9.913332939, -8.761944771, -10.29444408, -9.36277771, -9.36277771, -13.49777794, -13.49777794, -13.48250008, -25.44972229, -11.43861103, -9.933610916000001, -24.1847229, -10.21166706, -12.05222225, -11.43861103, -11.524722099999998, -11.41749954, -11.43861103, -11.90805531, -11.96805573, -13.02583313, -10.88527775, -11.803610800000001, -11.17527771, -11.43861103, -11.803610800000001, -11.43861103, -11.803610800000001, -11.43861103, -11.17527771, -12.55222225, -12.19611073, -9.913332939, -9.36277771, -11.43861103, -11.43861103, -11.43861103, -11.90805531, -7.197222233, -11.69361115, -10.40194416, -11.90250015, -10.52499962, -11.90805531, -11.79805565, -11.79805565, -11.43861103, -11.71972179, -11.79805565, -11.696389199999999, -11.79805565, -11.79805565, -11.90250015, -11.43861103, -11.79805565, -11.43861103, -21.71416664, -11.96805573, -11.96805573, -9.913332939, -9.913332939, -9.913332939, -9.913332939, -9.913332939, -9.913332939, -9.913332939, -9.913332939, -9.913332939, -9.913332939, -9.913332939, -9.913332939, -9.913332939, -9.913332939, -9.913332939, -9.913332939, -9.913332939, -9.913332939, -9.913332939, -9.913332939, -9.913332939, -9.913332939, -9.913332939, -9.913332939, -9.913332939, -9.913332939, -9.913332939, -9.913332939, -9.913332939, -9.913332939, -9.913332939, -9.913332939, -9.913332939, -9.913332939, -9.913332939, -9.913332939, -9.913332939, -9.913332939, -9.913332939, -9.913332939, -9.913332939, -9.913332939, -9.913332939, -9.913332939, -9.913332939, -9.913332939, -9.913332939, -13.49777794, -13.49777794, -13.49777794, -11.43861103, -11.43861103, -11.43861103, -11.43861103, -11.43861103, -11.43861103, -11.43861103, -11.43861103, -11.43861103, -11.43861103, -11.43861103, -11.43861103, -11.43861103, -11.43861103, -11.43861103, -11.43861103, -11.43861103, -11.43861103, -11.43861103, -11.43861103, -11.43861103, -11.43861103, -11.43861103, -11.43861103, -11.43861103, -11.43861103, -11.43861103, -11.43861103, -11.43861103, -11.43861103, -11.43861103, -11.43861103, -11.43861103, -11.43861103, -11.43861103, -11.43861103, -11.43861103, -11.43861103, -11.43861103, -11.43861103, -11.43861103, -11.43861103, -11.43861103, -11.43861103, -11.43861103, -11.43861103, -11.43861103, -11.43861103, -11.43861103], \"locationmode\": \"ISO-3\", \"lon\": [-63.903888699999996, -61.95416641, -63.32527924, -63.04083252, -62.64389038, -56.80277634, -39.30250168, -45.71666718, -63.04083252, -63.04083252, -53.84777832, -63.69555664, -61.98138809, -63.04083252, -62.89527893, -62.89527893, -63.04083252, -62.89972305, -63.04083252, -63.32083511, -63.32527924, -62.89972305, -63.32083511, -63.04083252, -62.58527756, -62.89527893, -63.32083511, -63.32527924, -62.89972305, -63.04083252, -61.98138809, -62.89972305, -62.89527893, -58.35889053, -62.89527893, -63.32527924, -61.98138809, -63.04083252, -61.98138809, -60.01750183, -62.58527756, -62.89527893, -69.25971985, -55.38111115, -63.04083252, -63.903888699999996, -63.32527924, -62.58527756, -62.58527756, -60.55416489, -60.55416489, -61.04666519, -52.90805435, -61.44722366, -36.55416489, -53.02750015, -63.82860947, -63.56750107, -61.44722366, -61.01277924, -61.93861008, -61.44722366, -61.778888699999996, -61.95416641, -57.07389069, -61.95166779, -61.80333328, -61.90139008, -61.44722366, -61.80333328, -61.44722366, -61.80333328, -61.44722366, -61.90139008, -60.89972305, -61.60138702, -63.04083252, -62.58527756, -61.44722366, -61.44722366, -61.44722366, -61.778888699999996, -59.89138794, -62.71138763, -65.32666779, -61.50222397, -62.64389038, -61.778888699999996, -63.03111267, -63.03111267, -61.44722366, -62.31583405, -63.03111267, -61.99472046, -63.03111267, -63.03111267, -61.50222397, -61.44722366, -63.03111267, -61.44722366, -52.42222214, -61.95416641, -61.95416641, -63.04083252, -63.04083252, -63.04083252, -63.04083252, -63.04083252, -63.04083252, -63.04083252, -63.04083252, -63.04083252, -63.04083252, -63.04083252, -63.04083252, -63.04083252, -63.04083252, -63.04083252, -63.04083252, -63.04083252, -63.04083252, -63.04083252, -63.04083252, -63.04083252, -63.04083252, -63.04083252, -63.04083252, -63.04083252, -63.04083252, -63.04083252, -63.04083252, -63.04083252, -63.04083252, -63.04083252, -63.04083252, -63.04083252, -63.04083252, -63.04083252, -63.04083252, -63.04083252, -63.04083252, -63.04083252, -63.04083252, -63.04083252, -63.04083252, -63.04083252, -63.04083252, -63.04083252, -63.04083252, -63.04083252, -60.55416489, -60.55416489, -60.55416489, -61.44722366, -61.44722366, -61.44722366, -61.44722366, -61.44722366, -61.44722366, -61.44722366, -61.44722366, -61.44722366, -61.44722366, -61.44722366, -61.44722366, -61.44722366, -61.44722366, -61.44722366, -61.44722366, -61.44722366, -61.44722366, -61.44722366, -61.44722366, -61.44722366, -61.44722366, -61.44722366, -61.44722366, -61.44722366, -61.44722366, -61.44722366, -61.44722366, -61.44722366, -61.44722366, -61.44722366, -61.44722366, -61.44722366, -61.44722366, -61.44722366, -61.44722366, -61.44722366, -61.44722366, -61.44722366, -61.44722366, -61.44722366, -61.44722366, -61.44722366, -61.44722366, -61.44722366, -61.44722366, -61.44722366, -61.44722366, -61.44722366], \"marker\": {\"color\": \"rgb(80, 0, 0)\", \"line\": {\"color\": \"rgba(68, 68, 68, 0)\", \"width\": 3}, \"size\": 4}, \"mode\": \"markers\", \"type\": \"scattergeo\", \"uid\": \"4889b381-0700-44e5-aa47-9cc6b0dea075\"}], {\"geo\": {\"countrycolor\": \"rgb(160, 160, 204)\", \"landcolor\": \"rgb(180, 180, 190)\", \"projection\": {\"type\": \"azimuthal equal area\"}, \"scope\": \"south america\", \"showland\": true}, \"showlegend\": false, \"title\": {\"text\": \"The Movement of Candidates on South America Map\"}}, {\"showLink\": false, \"linkText\": \"Export to plot.ly\", \"plotlyServerURL\": \"https://plot.ly\"})});</script><script type=\"text/javascript\">window.addEventListener(\"resize\", function(){window._Plotly.Plots.resize(document.getElementById(\"ef8d6ef7-1bad-4341-b509-e14040ad5177\"));});</script>"
      ]
     },
     "metadata": {},
     "output_type": "display_data"
    }
   ],
   "source": [
    "dest = [ dict(\n",
    "        type = 'scattergeo',\n",
    "        locationmode = 'ISO-3',\n",
    "        lon = dest_df['longitude'],\n",
    "        lat = dest_df['latitude'],\n",
    "        mode = 'markers',\n",
    "        marker = dict( \n",
    "            size=4, \n",
    "            color='rgb(80, 0, 0)',\n",
    "            line = dict(\n",
    "                width=3,\n",
    "                color='rgba(68, 68, 68, 0)'\n",
    "            )\n",
    "        ))]\n",
    "\n",
    "        \n",
    "dist_run_birth = []\n",
    "for i in range( len( data_long_lat ) ):\n",
    "    dist_run_birth.append(\n",
    "        dict(\n",
    "            type = 'scattergeo',\n",
    "            locationmode = 'ISO-3',\n",
    "            lat = [ data_long_lat['latitude'][i],data_long_lat['lati_run'][i] ],\n",
    "            lon = [ data_long_lat['longitude'][i],data_long_lat['longi_run'][i] ],\n",
    "            mode = 'lines',\n",
    "            line = dict(\n",
    "                width = 1,\n",
    "                color = 'purple',\n",
    "            )\n",
    "        )\n",
    "    )\n",
    "    \n",
    "layout = dict(\n",
    "        title = 'The Movement of Candidates on South America Map',\n",
    "        showlegend = False, \n",
    "        geo = dict(\n",
    "            scope='south america',\n",
    "            projection=dict( type='azimuthal equal area' ),\n",
    "            showland = True,\n",
    "            landcolor = 'rgb(180, 180, 190)',\n",
    "            countrycolor = 'rgb(160, 160, 204)',\n",
    "        )\n",
    "    )\n",
    "    \n",
    "fig = dict( data=dist_run_birth+ dest, layout=layout )\n",
    "iplot( fig )"
   ]
  },
  {
   "cell_type": "code",
   "execution_count": null,
   "metadata": {},
   "outputs": [],
   "source": []
  }
 ],
 "metadata": {
  "kernelspec": {
   "display_name": "Python 3",
   "language": "python",
   "name": "python3"
  },
  "language_info": {
   "codemirror_mode": {
    "name": "ipython",
    "version": 3
   },
   "file_extension": ".py",
   "mimetype": "text/x-python",
   "name": "python",
   "nbconvert_exporter": "python",
   "pygments_lexer": "ipython3",
   "version": "3.7.0"
  }
 },
 "nbformat": 4,
 "nbformat_minor": 2
}
